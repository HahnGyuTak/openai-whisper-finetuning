{
 "cells": [
  {
   "cell_type": "code",
   "execution_count": null,
   "metadata": {},
   "outputs": [],
   "source": [
    "from vctube import VCtube\n",
    "playlist_name = 'ecomony'\n",
    "playlist_url = 'https://youtu.be/XtVE-9ywfDc?si=uXntZ9n72wI8sKfy'\n",
    "lang = 'ko'\n",
    "vc = VCtube(playlist_name, playlist_url, lang)"
   ]
  },
  {
   "cell_type": "code",
   "execution_count": null,
   "metadata": {},
   "outputs": [],
   "source": [
    "import yt_dlp as youtube_dl\n",
    "import os\n",
    "\n",
    "\n",
    "def check_korean_subtitles_and_down(video_url, download_path):\n",
    "    ydl_opts = {\n",
    "        'quiet': True,\n",
    "        'subtitleslangs': 'all',\n",
    "        'writesubtitles': True,\n",
    "        'writeautomaticsub': True,\n",
    "        'skip_download': True,\n",
    "        'format': 'best',\n",
    "    }\n",
    "    \n",
    "    download_path = os.path.join('datasets', download_path, \"wavs/\" + '%(id)s.%(ext)s')\n",
    "\n",
    "    # youtube_dl options\n",
    "    ydl_opts_down = {\n",
    "        'format': 'bestaudio/best',\n",
    "        'postprocessors': [{\n",
    "            'key': 'FFmpegExtractAudio',\n",
    "            'preferredcodec': 'wav',\n",
    "            'preferredquality': '192'\n",
    "        }],\n",
    "        'postprocessors_args': [\n",
    "            '-ar', '21000'\n",
    "        ],\n",
    "        'prefer_ffmpeg': True,\n",
    "        'keepvideo': False,\n",
    "        'outtmpl': download_path,  # 다운로드 경로 설정\n",
    "        'ignoreerrors': True\n",
    "    }\n",
    "    with youtube_dl.YoutubeDL(ydl_opts) as ydl:\n",
    "        try:\n",
    "            result = ydl.extract_info(video_url, download=False)\n",
    "            if result:\n",
    "                subtitles = result.get('subtitles', {})\n",
    "                auto_subtitles = result.get('automatic_captions', {})\n",
    "                # 한국어 자막 또는 자동 생성 자막 확인\n",
    "                has_korean_subs = 'ko' in subtitles or 'ko' in auto_subtitles\n",
    "                \n",
    "                try:\n",
    "                    with youtube_dl.YoutubeDL(ydl_opts_down) as ydl_down:\n",
    "                        ydl_down.download([video_url])\n",
    "                except Exception as e:\n",
    "                    print('error', e)\n",
    "                \n",
    "        except Exception as e:\n",
    "            print(f\"에러: {e}\")\n",
    "            return False\n",
    "    \n",
    "\n",
    "    \n",
    "\n",
    "# 예제 사용법:\n",
    "video_url = 'https://www.youtube.com/watch?v=example'\n",
    "print(\"한국어 자막 사용 가능:\" , check_korean_subtitles(video_url))"
   ]
  },
  {
   "cell_type": "code",
   "execution_count": 4,
   "metadata": {},
   "outputs": [
    {
     "name": "stdout",
     "output_type": "stream",
     "text": [
      "[youtube] Extracting URL: https://youtu.be/XtVE-9ywfDc?si=uXntZ9n72wI8sKfy\n",
      "[youtube] XtVE-9ywfDc: Downloading webpage\n",
      "[youtube] XtVE-9ywfDc: Downloading ios player API JSON\n",
      "[youtube] XtVE-9ywfDc: Downloading mweb player API JSON\n",
      "[youtube] XtVE-9ywfDc: Downloading m3u8 information\n",
      "[info] XtVE-9ywfDc: Downloading 1 format(s): 251\n",
      "[download] Destination: ./datasets/GM_meeting/wavs/XtVE-9ywfDc.webm\n",
      "[download] 100% of   10.23MiB in 00:00:05 at 1.81MiB/s     \n",
      "[ExtractAudio] Destination: ./datasets/GM_meeting/wavs/XtVE-9ywfDc.wav\n",
      "Deleting original file ./datasets/GM_meeting/wavs/XtVE-9ywfDc.webm (pass -k to keep)\n"
     ]
    }
   ],
   "source": [
    "vc.download_audio()"
   ]
  },
  {
   "cell_type": "code",
   "execution_count": 6,
   "metadata": {},
   "outputs": [
    {
     "name": "stderr",
     "output_type": "stream",
     "text": [
      "100%|██████████| 1/1 [00:10<00:00, 10.79s/it]"
     ]
    },
    {
     "name": "stdout",
     "output_type": "stream",
     "text": [
      " [*] Make directories : ./datasets/GM_meeting/text\n",
      "GM_meeting channel was finished\n"
     ]
    },
    {
     "name": "stderr",
     "output_type": "stream",
     "text": [
      "\n"
     ]
    }
   ],
   "source": [
    "vc.download_captions()"
   ]
  },
  {
   "cell_type": "code",
   "execution_count": 7,
   "metadata": {},
   "outputs": [
    {
     "name": "stderr",
     "output_type": "stream",
     "text": [
      "Split with caption: 100%|██████████| 1/1 [00:00<00:00,  2.19it/s]\n"
     ]
    }
   ],
   "source": [
    "vc.audio_split()"
   ]
  },
  {
   "cell_type": "code",
   "execution_count": 10,
   "metadata": {},
   "outputs": [
    {
     "data": {
      "text/html": [
       "<div>\n",
       "<style scoped>\n",
       "    .dataframe tbody tr th:only-of-type {\n",
       "        vertical-align: middle;\n",
       "    }\n",
       "\n",
       "    .dataframe tbody tr th {\n",
       "        vertical-align: top;\n",
       "    }\n",
       "\n",
       "    .dataframe thead th {\n",
       "        text-align: right;\n",
       "    }\n",
       "</style>\n",
       "<table border=\"1\" class=\"dataframe\">\n",
       "  <thead>\n",
       "    <tr style=\"text-align: right;\">\n",
       "      <th></th>\n",
       "      <th>Unnamed: 0</th>\n",
       "      <th>id</th>\n",
       "      <th>text</th>\n",
       "      <th>start</th>\n",
       "      <th>duration</th>\n",
       "      <th>name</th>\n",
       "    </tr>\n",
       "  </thead>\n",
       "  <tbody>\n",
       "    <tr>\n",
       "      <th>0</th>\n",
       "      <td>0</td>\n",
       "      <td>6p_bQjqE9Hg</td>\n",
       "      <td>음악론 하나님께서 보는대로 성 말</td>\n",
       "      <td>6.040</td>\n",
       "      <td>3.330</td>\n",
       "      <td>./datasets/GM_meeting/wavs/6p_bQjqE9Hg.0000.wav</td>\n",
       "    </tr>\n",
       "    <tr>\n",
       "      <th>1</th>\n",
       "      <td>1</td>\n",
       "      <td>6p_bQjqE9Hg</td>\n",
       "      <td>되었으므로 지금부터 제 24</td>\n",
       "      <td>9.370</td>\n",
       "      <td>3.179</td>\n",
       "      <td>./datasets/GM_meeting/wavs/6p_bQjqE9Hg.0001.wav</td>\n",
       "    </tr>\n",
       "    <tr>\n",
       "      <th>2</th>\n",
       "      <td>2</td>\n",
       "      <td>6p_bQjqE9Hg</td>\n",
       "      <td>미사의 개념을 사랑합니다</td>\n",
       "      <td>12.549</td>\n",
       "      <td>2.491</td>\n",
       "      <td>./datasets/GM_meeting/wavs/6p_bQjqE9Hg.0002.wav</td>\n",
       "    </tr>\n",
       "    <tr>\n",
       "      <th>3</th>\n",
       "      <td>3</td>\n",
       "      <td>6p_bQjqE9Hg</td>\n",
       "      <td>에</td>\n",
       "      <td>15.040</td>\n",
       "      <td>1.980</td>\n",
       "      <td>./datasets/GM_meeting/wavs/6p_bQjqE9Hg.0003.wav</td>\n",
       "    </tr>\n",
       "    <tr>\n",
       "      <th>4</th>\n",
       "      <td>4</td>\n",
       "      <td>6p_bQjqE9Hg</td>\n",
       "      <td>블레이드 1 그 성장 소변기 그를</td>\n",
       "      <td>17.020</td>\n",
       "      <td>2.849</td>\n",
       "      <td>./datasets/GM_meeting/wavs/6p_bQjqE9Hg.0004.wav</td>\n",
       "    </tr>\n",
       "    <tr>\n",
       "      <th>...</th>\n",
       "      <td>...</td>\n",
       "      <td>...</td>\n",
       "      <td>...</td>\n",
       "      <td>...</td>\n",
       "      <td>...</td>\n",
       "      <td>...</td>\n",
       "    </tr>\n",
       "    <tr>\n",
       "      <th>473</th>\n",
       "      <td>473</td>\n",
       "      <td>6p_bQjqE9Hg</td>\n",
       "      <td>질이라는 것은 좀 솔직 많이 안</td>\n",
       "      <td>1132.220</td>\n",
       "      <td>1.920</td>\n",
       "      <td>./datasets/GM_meeting/wavs/6p_bQjqE9Hg.0473.wav</td>\n",
       "    </tr>\n",
       "    <tr>\n",
       "      <th>474</th>\n",
       "      <td>474</td>\n",
       "      <td>6p_bQjqE9Hg</td>\n",
       "      <td>됩니다</td>\n",
       "      <td>1134.140</td>\n",
       "      <td>1.620</td>\n",
       "      <td>./datasets/GM_meeting/wavs/6p_bQjqE9Hg.0474.wav</td>\n",
       "    </tr>\n",
       "    <tr>\n",
       "      <th>475</th>\n",
       "      <td>475</td>\n",
       "      <td>6p_bQjqE9Hg</td>\n",
       "      <td>그러니까 그러면 확하게 젖어서 타결을</td>\n",
       "      <td>1135.760</td>\n",
       "      <td>2.520</td>\n",
       "      <td>./datasets/GM_meeting/wavs/6p_bQjqE9Hg.0475.wav</td>\n",
       "    </tr>\n",
       "    <tr>\n",
       "      <th>476</th>\n",
       "      <td>476</td>\n",
       "      <td>6p_bQjqE9Hg</td>\n",
       "      <td>확실하게 되요 좀 저것들 더우</td>\n",
       "      <td>1138.280</td>\n",
       "      <td>2.430</td>\n",
       "      <td>./datasets/GM_meeting/wavs/6p_bQjqE9Hg.0476.wav</td>\n",
       "    </tr>\n",
       "    <tr>\n",
       "      <th>477</th>\n",
       "      <td>477</td>\n",
       "      <td>6p_bQjqE9Hg</td>\n",
       "      <td>황당하지 아니에요</td>\n",
       "      <td>1140.710</td>\n",
       "      <td>3.110</td>\n",
       "      <td>./datasets/GM_meeting/wavs/6p_bQjqE9Hg.0477.wav</td>\n",
       "    </tr>\n",
       "  </tbody>\n",
       "</table>\n",
       "<p>478 rows × 6 columns</p>\n",
       "</div>"
      ],
      "text/plain": [
       "     Unnamed: 0           id                  text     start  duration  \\\n",
       "0             0  6p_bQjqE9Hg    음악론 하나님께서 보는대로 성 말     6.040     3.330   \n",
       "1             1  6p_bQjqE9Hg       되었으므로 지금부터 제 24     9.370     3.179   \n",
       "2             2  6p_bQjqE9Hg         미사의 개념을 사랑합니다    12.549     2.491   \n",
       "3             3  6p_bQjqE9Hg                     에    15.040     1.980   \n",
       "4             4  6p_bQjqE9Hg    블레이드 1 그 성장 소변기 그를    17.020     2.849   \n",
       "..          ...          ...                   ...       ...       ...   \n",
       "473         473  6p_bQjqE9Hg     질이라는 것은 좀 솔직 많이 안  1132.220     1.920   \n",
       "474         474  6p_bQjqE9Hg                   됩니다  1134.140     1.620   \n",
       "475         475  6p_bQjqE9Hg  그러니까 그러면 확하게 젖어서 타결을  1135.760     2.520   \n",
       "476         476  6p_bQjqE9Hg      확실하게 되요 좀 저것들 더우  1138.280     2.430   \n",
       "477         477  6p_bQjqE9Hg             황당하지 아니에요  1140.710     3.110   \n",
       "\n",
       "                                                name  \n",
       "0    ./datasets/GM_meeting/wavs/6p_bQjqE9Hg.0000.wav  \n",
       "1    ./datasets/GM_meeting/wavs/6p_bQjqE9Hg.0001.wav  \n",
       "2    ./datasets/GM_meeting/wavs/6p_bQjqE9Hg.0002.wav  \n",
       "3    ./datasets/GM_meeting/wavs/6p_bQjqE9Hg.0003.wav  \n",
       "4    ./datasets/GM_meeting/wavs/6p_bQjqE9Hg.0004.wav  \n",
       "..                                               ...  \n",
       "473  ./datasets/GM_meeting/wavs/6p_bQjqE9Hg.0473.wav  \n",
       "474  ./datasets/GM_meeting/wavs/6p_bQjqE9Hg.0474.wav  \n",
       "475  ./datasets/GM_meeting/wavs/6p_bQjqE9Hg.0475.wav  \n",
       "476  ./datasets/GM_meeting/wavs/6p_bQjqE9Hg.0476.wav  \n",
       "477  ./datasets/GM_meeting/wavs/6p_bQjqE9Hg.0477.wav  \n",
       "\n",
       "[478 rows x 6 columns]"
      ]
     },
     "execution_count": 10,
     "metadata": {},
     "output_type": "execute_result"
    }
   ],
   "source": [
    "from datasets import Dataset, Audio\n",
    "import pandas as pd\n",
    "\n",
    "df = pd.read_csv('/home/gue707/PromptStyler/test/datasets/GM_meeting/text/subtitle.csv')\n",
    "df"
   ]
  },
  {
   "cell_type": "code",
   "execution_count": 11,
   "metadata": {},
   "outputs": [
    {
     "data": {
      "text/plain": [
       "Dataset({\n",
       "    features: ['text', 'name'],\n",
       "    num_rows: 478\n",
       "})"
      ]
     },
     "execution_count": 11,
     "metadata": {},
     "output_type": "execute_result"
    }
   ],
   "source": [
    "ds = Dataset.from_pandas(df).remove_columns(['Unnamed: 0', 'id', 'start', 'duration']).cast_column(\"name\", Audio(sampling_rate=16000))\n",
    "ds"
   ]
  },
  {
   "cell_type": "code",
   "execution_count": 4,
   "metadata": {},
   "outputs": [
    {
     "data": {
      "text/plain": [
       "{'text': 'good evening everybody',\n",
       " 'name': {'path': './datasets/Obama_Speech/wavs/bps3m4eFTuE.0000.wav',\n",
       "  'array': array([3.50772636e-04, 8.91358592e-04, 5.68822143e-04, ...,\n",
       "         9.37006436e-04, 3.32841300e-04, 2.92773475e-05]),\n",
       "  'sampling_rate': 16000}}"
      ]
     },
     "execution_count": 4,
     "metadata": {},
     "output_type": "execute_result"
    }
   ],
   "source": [
    "ds[0]"
   ]
  },
  {
   "cell_type": "code",
   "execution_count": 5,
   "metadata": {},
   "outputs": [
    {
     "name": "stderr",
     "output_type": "stream",
     "text": [
      "Map: 100%|██████████| 448/448 [00:01<00:00, 287.75 examples/s]it/s]\n",
      "Creating parquet from Arrow format: 100%|██████████| 5/5 [00:02<00:00,  2.18ba/s]\n",
      "Uploading the dataset shards: 100%|██████████| 1/1 [00:17<00:00, 17.70s/it]\n"
     ]
    },
    {
     "data": {
      "text/plain": [
       "CommitInfo(commit_url='https://huggingface.co/datasets/imTak/Obama_Speech/commit/b53ccc586b987154e0f52f49474605bcd8cd246f', commit_message='Upload dataset', commit_description='', oid='b53ccc586b987154e0f52f49474605bcd8cd246f', pr_url=None, repo_url=RepoUrl('https://huggingface.co/datasets/imTak/Obama_Speech', endpoint='https://huggingface.co', repo_type='dataset', repo_id='imTak/Obama_Speech'), pr_revision=None, pr_num=None)"
      ]
     },
     "execution_count": 5,
     "metadata": {},
     "output_type": "execute_result"
    }
   ],
   "source": [
    "ds.push_to_hub('Obama_Speech')"
   ]
  },
  {
   "cell_type": "markdown",
   "metadata": {},
   "source": [
    "# Pyannote Audio"
   ]
  },
  {
   "cell_type": "code",
   "execution_count": null,
   "metadata": {},
   "outputs": [
    {
     "name": "stderr",
     "output_type": "stream",
     "text": [
      "/home/gue707/.conda/envs/test/lib/python3.10/site-packages/pyannote/audio/models/blocks/pooling.py:104: UserWarning: std(): degrees of freedom is <= 0. Correction should be strictly less than the reduction factor (input numel divided by output numel). (Triggered internally at ../aten/src/ATen/native/ReduceOps.cpp:1823.)\n",
      "  std = sequences.std(dim=-1, correction=1)\n"
     ]
    },
    {
     "name": "stdout",
     "output_type": "stream",
     "text": [
      "121.86165475845337\n",
      "start=4.1s stop=4.6s speaker_SPEAKER_05\n",
      "start=13.5s stop=14.0s speaker_SPEAKER_05\n",
      "start=14.0s stop=44.6s speaker_SPEAKER_01\n",
      "start=37.5s stop=37.9s speaker_SPEAKER_00\n",
      "start=46.0s stop=51.5s speaker_SPEAKER_01\n",
      "start=51.8s stop=56.7s speaker_SPEAKER_01\n",
      "start=56.9s stop=57.8s speaker_SPEAKER_01\n",
      "start=58.3s stop=61.1s speaker_SPEAKER_01\n",
      "start=61.8s stop=74.9s speaker_SPEAKER_01\n",
      "start=77.8s stop=105.9s speaker_SPEAKER_01\n",
      "start=106.1s stop=108.8s speaker_SPEAKER_01\n",
      "start=109.1s stop=110.7s speaker_SPEAKER_01\n",
      "start=111.0s stop=112.2s speaker_SPEAKER_01\n",
      "start=112.5s stop=115.4s speaker_SPEAKER_01\n",
      "start=115.8s stop=127.0s speaker_SPEAKER_01\n",
      "start=127.8s stop=130.9s speaker_SPEAKER_01\n",
      "start=130.9s stop=142.0s speaker_SPEAKER_01\n",
      "start=142.6s stop=143.6s speaker_SPEAKER_01\n",
      "start=144.3s stop=145.2s speaker_SPEAKER_01\n",
      "start=146.1s stop=148.2s speaker_SPEAKER_01\n",
      "start=148.5s stop=150.9s speaker_SPEAKER_01\n",
      "start=151.7s stop=157.8s speaker_SPEAKER_01\n",
      "start=160.6s stop=165.1s speaker_SPEAKER_04\n",
      "start=166.7s stop=184.3s speaker_SPEAKER_04\n",
      "start=184.3s stop=205.2s speaker_SPEAKER_01\n",
      "start=198.6s stop=199.0s speaker_SPEAKER_05\n",
      "start=199.0s stop=199.4s speaker_SPEAKER_00\n",
      "start=205.4s stop=208.3s speaker_SPEAKER_01\n",
      "start=208.6s stop=209.9s speaker_SPEAKER_01\n",
      "start=208.7s stop=209.6s speaker_SPEAKER_05\n",
      "start=211.0s stop=213.0s speaker_SPEAKER_01\n",
      "start=213.2s stop=213.9s speaker_SPEAKER_01\n",
      "start=213.4s stop=213.8s speaker_SPEAKER_05\n",
      "start=213.9s stop=214.2s speaker_SPEAKER_05\n",
      "start=214.6s stop=215.3s speaker_SPEAKER_01\n",
      "start=215.4s stop=224.6s speaker_SPEAKER_01\n",
      "start=225.3s stop=225.9s speaker_SPEAKER_04\n",
      "start=225.9s stop=225.9s speaker_SPEAKER_01\n",
      "start=227.3s stop=242.0s speaker_SPEAKER_01\n",
      "start=242.9s stop=269.9s speaker_SPEAKER_01\n",
      "start=253.9s stop=254.3s speaker_SPEAKER_00\n",
      "start=255.3s stop=255.8s speaker_SPEAKER_00\n",
      "start=261.3s stop=261.6s speaker_SPEAKER_00\n",
      "start=270.6s stop=284.4s speaker_SPEAKER_01\n",
      "start=285.4s stop=286.4s speaker_SPEAKER_01\n",
      "start=286.6s stop=299.0s speaker_SPEAKER_01\n",
      "start=299.6s stop=304.1s speaker_SPEAKER_00\n",
      "start=304.9s stop=307.0s speaker_SPEAKER_00\n",
      "start=306.9s stop=307.3s speaker_SPEAKER_05\n",
      "start=307.5s stop=311.7s speaker_SPEAKER_00\n",
      "start=312.2s stop=313.5s speaker_SPEAKER_00\n",
      "start=313.9s stop=316.7s speaker_SPEAKER_00\n",
      "start=319.1s stop=319.3s speaker_SPEAKER_00\n",
      "start=328.5s stop=328.6s speaker_SPEAKER_00\n",
      "start=329.0s stop=337.0s speaker_SPEAKER_00\n",
      "start=337.6s stop=340.8s speaker_SPEAKER_00\n",
      "start=338.4s stop=338.6s speaker_SPEAKER_01\n",
      "start=340.3s stop=359.7s speaker_SPEAKER_01\n",
      "start=355.9s stop=356.0s speaker_SPEAKER_05\n",
      "start=356.0s stop=356.1s speaker_SPEAKER_03\n",
      "start=361.4s stop=362.2s speaker_SPEAKER_01\n",
      "start=364.4s stop=369.4s speaker_SPEAKER_03\n",
      "start=370.1s stop=370.8s speaker_SPEAKER_05\n",
      "start=372.0s stop=374.0s speaker_SPEAKER_03\n",
      "start=374.0s stop=376.6s speaker_SPEAKER_01\n",
      "start=377.9s stop=378.9s speaker_SPEAKER_01\n",
      "start=379.0s stop=379.1s speaker_SPEAKER_01\n",
      "start=379.1s stop=380.5s speaker_SPEAKER_01\n",
      "start=381.6s stop=393.9s speaker_SPEAKER_01\n",
      "start=383.1s stop=385.3s speaker_SPEAKER_00\n",
      "start=394.2s stop=395.2s speaker_SPEAKER_01\n",
      "start=395.7s stop=401.6s speaker_SPEAKER_01\n",
      "start=401.6s stop=402.7s speaker_SPEAKER_00\n",
      "start=401.7s stop=401.7s speaker_SPEAKER_01\n",
      "start=401.7s stop=401.8s speaker_SPEAKER_01\n",
      "start=402.7s stop=404.5s speaker_SPEAKER_01\n",
      "start=404.9s stop=406.2s speaker_SPEAKER_01\n",
      "start=406.5s stop=408.9s speaker_SPEAKER_01\n",
      "start=409.3s stop=411.9s speaker_SPEAKER_01\n",
      "start=412.7s stop=413.9s speaker_SPEAKER_01\n",
      "start=414.3s stop=416.7s speaker_SPEAKER_01\n",
      "start=417.2s stop=422.0s speaker_SPEAKER_01\n",
      "start=422.7s stop=425.2s speaker_SPEAKER_01\n",
      "start=425.3s stop=427.5s speaker_SPEAKER_01\n",
      "start=427.8s stop=429.6s speaker_SPEAKER_01\n",
      "start=429.9s stop=431.2s speaker_SPEAKER_01\n",
      "start=432.1s stop=437.4s speaker_SPEAKER_01\n",
      "start=438.3s stop=446.0s speaker_SPEAKER_01\n",
      "start=439.2s stop=439.3s speaker_SPEAKER_02\n",
      "start=442.7s stop=444.0s speaker_SPEAKER_02\n",
      "start=447.0s stop=448.1s speaker_SPEAKER_01\n",
      "start=448.6s stop=462.0s speaker_SPEAKER_01\n",
      "start=462.0s stop=462.6s speaker_SPEAKER_02\n",
      "start=463.9s stop=472.9s speaker_SPEAKER_02\n",
      "start=470.6s stop=471.2s speaker_SPEAKER_05\n",
      "start=472.0s stop=472.7s speaker_SPEAKER_05\n",
      "start=473.6s stop=481.1s speaker_SPEAKER_02\n",
      "start=476.6s stop=477.5s speaker_SPEAKER_00\n",
      "start=480.8s stop=482.1s speaker_SPEAKER_00\n",
      "start=482.1s stop=487.6s speaker_SPEAKER_02\n",
      "start=489.3s stop=492.1s speaker_SPEAKER_02\n",
      "start=493.3s stop=496.5s speaker_SPEAKER_02\n",
      "start=495.9s stop=495.9s speaker_SPEAKER_05\n",
      "start=496.5s stop=496.9s speaker_SPEAKER_01\n",
      "start=496.9s stop=496.9s speaker_SPEAKER_02\n",
      "start=496.9s stop=507.4s speaker_SPEAKER_01\n",
      "start=508.1s stop=525.2s speaker_SPEAKER_03\n",
      "start=525.7s stop=532.7s speaker_SPEAKER_03\n",
      "start=529.1s stop=529.5s speaker_SPEAKER_02\n",
      "start=532.7s stop=542.0s speaker_SPEAKER_02\n",
      "start=532.8s stop=532.9s speaker_SPEAKER_03\n",
      "start=542.4s stop=542.9s speaker_SPEAKER_02\n",
      "start=543.0s stop=543.2s speaker_SPEAKER_02\n",
      "start=543.4s stop=544.6s speaker_SPEAKER_02\n",
      "start=545.1s stop=545.1s speaker_SPEAKER_02\n",
      "start=545.2s stop=545.2s speaker_SPEAKER_02\n",
      "start=545.3s stop=546.0s speaker_SPEAKER_02\n",
      "start=546.2s stop=576.8s speaker_SPEAKER_02\n",
      "start=555.5s stop=556.5s speaker_SPEAKER_01\n",
      "start=576.8s stop=576.8s speaker_SPEAKER_01\n",
      "start=576.8s stop=576.9s speaker_SPEAKER_02\n",
      "start=576.9s stop=576.9s speaker_SPEAKER_01\n",
      "start=576.9s stop=577.0s speaker_SPEAKER_02\n",
      "start=577.0s stop=600.8s speaker_SPEAKER_01\n",
      "start=594.1s stop=594.3s speaker_SPEAKER_00\n",
      "start=594.3s stop=594.4s speaker_SPEAKER_05\n",
      "start=594.4s stop=594.8s speaker_SPEAKER_00\n",
      "start=603.4s stop=605.0s speaker_SPEAKER_01\n",
      "start=605.5s stop=619.0s speaker_SPEAKER_01\n",
      "start=607.6s stop=610.0s speaker_SPEAKER_05\n",
      "start=615.9s stop=616.0s speaker_SPEAKER_03\n",
      "start=619.0s stop=621.1s speaker_SPEAKER_03\n",
      "start=619.9s stop=619.9s speaker_SPEAKER_01\n",
      "start=620.0s stop=620.1s speaker_SPEAKER_01\n",
      "start=621.5s stop=624.1s speaker_SPEAKER_03\n",
      "start=624.4s stop=635.7s speaker_SPEAKER_03\n",
      "start=626.9s stop=627.0s speaker_SPEAKER_00\n",
      "start=627.0s stop=627.0s speaker_SPEAKER_05\n",
      "start=627.0s stop=627.4s speaker_SPEAKER_00\n",
      "start=636.6s stop=640.4s speaker_SPEAKER_03\n",
      "start=637.7s stop=639.0s speaker_SPEAKER_01\n",
      "start=640.9s stop=651.1s speaker_SPEAKER_01\n",
      "start=641.3s stop=641.4s speaker_SPEAKER_03\n",
      "start=651.3s stop=652.8s speaker_SPEAKER_01\n",
      "start=653.4s stop=665.8s speaker_SPEAKER_01\n",
      "start=666.2s stop=675.6s speaker_SPEAKER_01\n",
      "start=676.1s stop=676.8s speaker_SPEAKER_01\n",
      "start=677.2s stop=678.9s speaker_SPEAKER_01\n",
      "start=679.2s stop=683.9s speaker_SPEAKER_01\n",
      "start=684.3s stop=684.7s speaker_SPEAKER_01\n",
      "start=684.8s stop=685.5s speaker_SPEAKER_01\n",
      "start=685.8s stop=686.5s speaker_SPEAKER_01\n",
      "start=687.0s stop=688.3s speaker_SPEAKER_01\n",
      "start=689.1s stop=698.6s speaker_SPEAKER_01\n",
      "start=692.9s stop=693.2s speaker_SPEAKER_04\n",
      "start=701.7s stop=713.1s speaker_SPEAKER_01\n",
      "start=713.8s stop=724.3s speaker_SPEAKER_01\n",
      "start=725.5s stop=737.5s speaker_SPEAKER_01\n",
      "start=737.7s stop=741.2s speaker_SPEAKER_01\n",
      "start=742.5s stop=743.9s speaker_SPEAKER_01\n",
      "start=745.3s stop=747.7s speaker_SPEAKER_01\n",
      "start=750.9s stop=751.2s speaker_SPEAKER_01\n",
      "start=751.8s stop=752.2s speaker_SPEAKER_01\n",
      "start=752.6s stop=753.9s speaker_SPEAKER_01\n",
      "start=755.3s stop=757.7s speaker_SPEAKER_01\n",
      "start=758.5s stop=762.1s speaker_SPEAKER_01\n",
      "start=762.9s stop=764.2s speaker_SPEAKER_01\n",
      "start=765.3s stop=766.9s speaker_SPEAKER_01\n",
      "start=766.2s stop=766.3s speaker_SPEAKER_00\n",
      "start=767.6s stop=772.5s speaker_SPEAKER_01\n",
      "start=767.9s stop=768.5s speaker_SPEAKER_00\n",
      "start=775.1s stop=786.5s speaker_SPEAKER_01\n",
      "start=782.0s stop=782.9s speaker_SPEAKER_00\n"
     ]
    }
   ],
   "source": [
    "from pyannote.audio import Pipeline\n",
    "pipeline = Pipeline.from_pretrained(\n",
    "    \"pyannote/speaker-diarization-3.1\")\n",
    "\n",
    "# send pipeline to GPU (when available)\n",
    "import torch\n",
    "pipeline.to(torch.device(\"cuda\"))\n",
    "\n",
    "# apply pretrained pipeline\n",
    "import time\n",
    "\n",
    "start_time = time.time()\n",
    "diarization = pipeline(\"XtVE-9ywfDc.wav\")\n",
    "end_time = time.time()\n",
    "\n",
    "elapsed = end_time - start_time\n",
    "\n",
    "print(elapsed)\n",
    "# print the result\n",
    "for turn, _, speaker in diarization.itertracks(yield_label=True):\n",
    "    print(f\"start={turn.start:.1f}s stop={turn.end:.1f}s speaker_{speaker}\")"
   ]
  },
  {
   "cell_type": "code",
   "execution_count": 15,
   "metadata": {},
   "outputs": [
    {
     "name": "stderr",
     "output_type": "stream",
     "text": [
      "173it [00:00, 734.04it/s]\n"
     ]
    }
   ],
   "source": [
    "from pydub import AudioSegment\n",
    "import os\n",
    "from tqdm import tqdm\n",
    "\n",
    "audio = AudioSegment.from_file(\"XtVE-9ywfDc.wav\")\n",
    "\n",
    "output_dir = \"output_speakers/test\" \n",
    "os.makedirs(output_dir, exist_ok=True)\n",
    "\n",
    "for turn, _, speaker in tqdm(diarization.itertracks(yield_label=True)):\n",
    "    if (turn.end - turn.start) >= 1.0:  # 1초 이상 지속되는 발화\n",
    "        start_ms = int(turn.start * 1000)  # 시작 시간을 밀리초로 변환\n",
    "        end_ms = int(turn.end * 1000)      # 종료 시간을 밀리초로 변환\n",
    "        segment = audio[start_ms:end_ms]   # 해당 부분 잘라내기\n",
    "        segment.export(f\"{output_dir}/{start_ms}_{end_ms}_speaker_{speaker}.wav\", format=\"wav\")"
   ]
  },
  {
   "cell_type": "code",
   "execution_count": 3,
   "metadata": {},
   "outputs": [],
   "source": [
    "from faster_whisper import WhisperModel\n",
    "import os\n",
    "\n",
    "Nicknames = ['민지', '해린', '정곤', '카리나', '유나', '설윤', '고윤정', '하니']\n",
    "\n",
    "model = WhisperModel(\"imTak/faster-whisper_Korean_L3turbo\", device=\"cpu\")\n",
    "\n",
    "wav_dir = \"output_speakers/test\"\n",
    "file_list = sorted(os.listdir(wav_dir))\n",
    "file_list = [os.path.join(wav_dir, file) for file in file_list]\n"
   ]
  },
  {
   "cell_type": "code",
   "execution_count": 4,
   "metadata": {},
   "outputs": [
    {
     "name": "stderr",
     "output_type": "stream",
     "text": [
      "  0%|          | 0/103 [00:00<?, ?it/s]"
     ]
    },
    {
     "name": "stderr",
     "output_type": "stream",
     "text": [
      "  1%|          | 1/103 [00:09<15:46,  9.28s/it]"
     ]
    },
    {
     "name": "stdout",
     "output_type": "stream",
     "text": [
      "B: 올림픽을 해서 진짜 다니는 것 같은 게\n"
     ]
    },
    {
     "name": "stderr",
     "output_type": "stream",
     "text": [
      "  2%|▏         | 2/103 [00:20<17:53, 10.63s/it]"
     ]
    },
    {
     "name": "stdout",
     "output_type": "stream",
     "text": [
      "B: 좀 막이 없잖아\n"
     ]
    },
    {
     "name": "stderr",
     "output_type": "stream",
     "text": [
      "  3%|▎         | 3/103 [00:32<18:21, 11.02s/it]"
     ]
    },
    {
     "name": "stdout",
     "output_type": "stream",
     "text": [
      "B: 행북 강거리가 없다\n"
     ]
    },
    {
     "name": "stderr",
     "output_type": "stream",
     "text": [
      "  4%|▍         | 4/103 [01:03<31:09, 18.88s/it]"
     ]
    },
    {
     "name": "stdout",
     "output_type": "stream",
     "text": [
      "B: 우리뿐만이 아니고 전체가 나라가 사연하고 있다\n"
     ]
    },
    {
     "name": "stderr",
     "output_type": "stream",
     "text": [
      "  5%|▍         | 5/103 [01:15<26:59, 16.52s/it]"
     ]
    },
    {
     "name": "stdout",
     "output_type": "stream",
     "text": [
      "B: 옛날에는 다같이 앉아가지고 머리 속도 있을 거고 밖에서 나가서 개인적으로는 친구들이랑 친구 범세처럼 있고 이런 환기하는 시간도 많았을 거고 영화도 보고 주말에\n"
     ]
    },
    {
     "name": "stderr",
     "output_type": "stream",
     "text": [
      "  6%|▌         | 6/103 [01:27<24:08, 14.94s/it]"
     ]
    },
    {
     "name": "stdout",
     "output_type": "stream",
     "text": [
      "B: 나는 낙시 두 말마다 무한허여 부른 것걸요\n"
     ]
    },
    {
     "name": "stderr",
     "output_type": "stream",
     "text": [
      "  7%|▋         | 7/103 [01:39<22:20, 13.96s/it]"
     ]
    },
    {
     "name": "stdout",
     "output_type": "stream",
     "text": [
      "B: 일주일 한 시간 보는 게 나 진짜 내 모든 스트레스를 이렇게 쫙 날려주는 아 나 내 생 너무 재미있어 와 유켜서 다시 하긴 요즘 나 그게 없는 것 같은 거\n",
      "B: 그리고 같이 메시지를 정리한 다음에 이제 일관된 경영을 쭉 갈 수 있게 하는 계획이라는 게 지금 현재 학동부의 세계관이 조금 모호한 것 같은데 그냥 크덕을 끼리고 열심히 모인 것 같아 왜가 없는 것\n"
     ]
    },
    {
     "name": "stderr",
     "output_type": "stream",
     "text": [
      "  8%|▊         | 8/103 [02:02<26:41, 16.86s/it]"
     ]
    },
    {
     "name": "stdout",
     "output_type": "stream",
     "text": [
      "B: 어\n"
     ]
    },
    {
     "name": "stderr",
     "output_type": "stream",
     "text": [
      "  9%|▊         | 9/103 [02:13<23:39, 15.11s/it]"
     ]
    },
    {
     "name": "stdout",
     "output_type": "stream",
     "text": [
      "B: 되게 나는\n"
     ]
    },
    {
     "name": "stderr",
     "output_type": "stream",
     "text": [
      " 10%|▉         | 10/103 [02:25<21:36, 13.94s/it]"
     ]
    },
    {
     "name": "stdout",
     "output_type": "stream",
     "text": [
      "B: 거기서부터 시작되면 어떨까\n"
     ]
    },
    {
     "name": "stderr",
     "output_type": "stream",
     "text": [
      " 11%|█         | 11/103 [02:36<20:11, 13.17s/it]"
     ]
    },
    {
     "name": "stdout",
     "output_type": "stream",
     "text": [
      "B: 그래서 우리가 무한도전을 만들자\n"
     ]
    },
    {
     "name": "stderr",
     "output_type": "stream",
     "text": [
      " 12%|█▏        | 12/103 [02:48<19:16, 12.70s/it]"
     ]
    },
    {
     "name": "stdout",
     "output_type": "stream",
     "text": [
      "B: 그리고 무한도전을 만들려면 그냥은 못 만질 것 같아 뭔가 불평한 것 같사\n"
     ]
    },
    {
     "name": "stderr",
     "output_type": "stream",
     "text": [
      " 13%|█▎        | 13/103 [03:06<21:27, 14.30s/it]"
     ]
    },
    {
     "name": "stdout",
     "output_type": "stream",
     "text": [
      "E: 경찰서는 이 논의에 의견을 갖추고 있다\n"
     ]
    },
    {
     "name": "stderr",
     "output_type": "stream",
     "text": [
      " 14%|█▎        | 14/103 [03:18<20:22, 13.73s/it]"
     ]
    },
    {
     "name": "stdout",
     "output_type": "stream",
     "text": [
      "E: 부주적인 생각이긴 한데 아직까지 우리나라에서 나오는 광고가 지금 메이저 유소 결국은 다 부자되지 않게 하는 불편안을 놓게 될 것 같기도 했고 그걸 할 수 있는 방법은 문화를 좀 바쁘지 않으면 힘들 것 같다는 것 같다\n",
      "B: 그 메시지를 계속 난 던져주고 싶어요\n"
     ]
    },
    {
     "name": "stderr",
     "output_type": "stream",
     "text": [
      " 15%|█▍        | 15/103 [03:42<24:50, 16.94s/it]"
     ]
    },
    {
     "name": "stdout",
     "output_type": "stream",
     "text": [
      "B: 왜 웃고 사이지 못할까요 오늘 좀 더 순하되자면 서울에 대한 나이에선 교과를 없애고 웃으면서 합시다 그는 우리가 전에 박동구 의견은 어떤 회사일까라는 영상에서 열을 올렸을 때\n"
     ]
    },
    {
     "name": "stderr",
     "output_type": "stream",
     "text": [
      " 16%|█▌        | 16/103 [03:54<22:23, 15.44s/it]"
     ]
    },
    {
     "name": "stdout",
     "output_type": "stream",
     "text": [
      "B: 나 도시 댓글이 큰일 줄 몰랐는데\n"
     ]
    },
    {
     "name": "stderr",
     "output_type": "stream",
     "text": [
      " 17%|█▋        | 17/103 [04:06<20:27, 14.27s/it]"
     ]
    },
    {
     "name": "stdout",
     "output_type": "stream",
     "text": [
      "B: 너무 시허워\n"
     ]
    },
    {
     "name": "stderr",
     "output_type": "stream",
     "text": [
      " 17%|█▋        | 18/103 [04:22<21:00, 14.83s/it]"
     ]
    },
    {
     "name": "stdout",
     "output_type": "stream",
     "text": [
      "B: 뭐 무슨 수 있을 것 같는가\n"
     ]
    },
    {
     "name": "stderr",
     "output_type": "stream",
     "text": [
      " 18%|█▊        | 19/103 [04:34<19:40, 14.06s/it]"
     ]
    },
    {
     "name": "stdout",
     "output_type": "stream",
     "text": [
      "B: 다 댓글이 공용을 잘못하고 있다 고 이런 이런 것 때문에 또는 몇년을 만할 것이다 한국에 많이 지게 졸다\n"
     ]
    },
    {
     "name": "stderr",
     "output_type": "stream",
     "text": [
      " 19%|█▉        | 20/103 [04:47<18:41, 13.51s/it]"
     ]
    },
    {
     "name": "stdout",
     "output_type": "stream",
     "text": [
      "B: 그러 나는 채널에서 아무리 잘되는 순간이더라도 지금 문제가 뭔지 약간 솔직하게 좀 사람들이랑 소통하고 싶거든요 아 요즘 쉬우스 개그치 않나 막 이러면서 얘기하고 싶단 말이야 우리의 더 걱정 고민 이슈들을 그걸 얘기하면 지금은 약점이 돼\n"
     ]
    },
    {
     "name": "stderr",
     "output_type": "stream",
     "text": [
      " 20%|██        | 21/103 [04:59<18:13, 13.34s/it]"
     ]
    },
    {
     "name": "stdout",
     "output_type": "stream",
     "text": [
      "B: 뭐 예를 들면 요즘 교유수가 안 나와가지고 뭐 그렇게 얘기하면 너가 이러니까 교유수가 안 나와지부터 시작이 된다고 댓글들이고 그런데 지금 이 이것도 우리가 뭔가 잘못돼서 한다기보다는 잘못하고 있어서 한다기보다는 더 잘하기 위해 세계관위를 좀 더 보완해야 되고 계속 이런 얘기들을 해야 되나 그런데 분명히 이걸 영상화해서 올리지 그러면 핫둑은 이게 문제다 이게 문제다 이게 문제다 이게 문제다 이렇게 된다\n"
     ]
    },
    {
     "name": "stderr",
     "output_type": "stream",
     "text": [
      " 21%|██▏       | 22/103 [05:12<17:30, 12.97s/it]"
     ]
    },
    {
     "name": "stdout",
     "output_type": "stream",
     "text": [
      "B: 이런 문 화라 그러려다 안 되는 구매 신탁직에 달려들고 잘되는 구매 배 아파하고 그런 거를 어떻게 시속시키는 역할이 됐으면 좋겠다 내가 궁극적인 이런 일을 하고 싶은 일이다\n"
     ]
    },
    {
     "name": "stderr",
     "output_type": "stream",
     "text": [
      " 22%|██▏       | 23/103 [05:24<16:56, 12.70s/it]"
     ]
    },
    {
     "name": "stdout",
     "output_type": "stream",
     "text": [
      "B: 이건 내 얘기들이고 지금 이 얘기는 뭔가 우리가 뿌리부터 좀 들어가서 내가 하고 싶은 메시지 그런 것들을 좀 공유를 좀 난 해외했으면 좋겠어요\n"
     ]
    },
    {
     "name": "stderr",
     "output_type": "stream",
     "text": [
      " 23%|██▎       | 24/103 [05:35<16:22, 12.44s/it]"
     ]
    },
    {
     "name": "stdout",
     "output_type": "stream",
     "text": [
      "A: 제도 문제는 있는 것 같아 얼마 전에 돌아와서 스튜디오에서 그런다고\n"
     ]
    },
    {
     "name": "stderr",
     "output_type": "stream",
     "text": [
      " 24%|██▍       | 25/103 [05:47<15:52, 12.21s/it]"
     ]
    },
    {
     "name": "stdout",
     "output_type": "stream",
     "text": [
      "A: 마망하라니까 바랫더기나\n"
     ]
    },
    {
     "name": "stderr",
     "output_type": "stream",
     "text": [
      " 25%|██▌       | 26/103 [05:59<15:30, 12.09s/it]"
     ]
    },
    {
     "name": "stdout",
     "output_type": "stream",
     "text": [
      "A: 그런 사람이 자유롭게 자기 의견을 말하고 소통하고 이런 건 좋은데\n"
     ]
    },
    {
     "name": "stderr",
     "output_type": "stream",
     "text": [
      " 26%|██▌       | 27/103 [06:11<15:08, 11.95s/it]"
     ]
    },
    {
     "name": "stdout",
     "output_type": "stream",
     "text": [
      "A: 너무 당연하게\n"
     ]
    },
    {
     "name": "stderr",
     "output_type": "stream",
     "text": [
      " 27%|██▋       | 28/103 [06:21<14:18, 11.45s/it]"
     ]
    },
    {
     "name": "stdout",
     "output_type": "stream",
     "text": [
      "A: 내 권리인 것 내가 해도 되는 것인 것 같다\n"
     ]
    },
    {
     "name": "stderr",
     "output_type": "stream",
     "text": [
      " 28%|██▊       | 29/103 [06:30<13:14, 10.74s/it]"
     ]
    },
    {
     "name": "stdout",
     "output_type": "stream",
     "text": [
      "A: 몇 문제가 있는 것 같긴 하거든요\n",
      "A:  저희는 그래도 저희는 매장에서 일을 하면서 앞으로 우리가 파는 물건에 더 집에서 내보내는 게\n"
     ]
    },
    {
     "name": "stderr",
     "output_type": "stream",
     "text": [
      " 29%|██▉       | 30/103 [06:39<12:22, 10.17s/it]"
     ]
    },
    {
     "name": "stdout",
     "output_type": "stream",
     "text": [
      "A: 괜찮은걸래 좋은 일일까라는데 이 일까지 나왔다 말아죠\n"
     ]
    },
    {
     "name": "stderr",
     "output_type": "stream",
     "text": [
      " 30%|███       | 31/103 [06:48<11:58,  9.97s/it]"
     ]
    },
    {
     "name": "stdout",
     "output_type": "stream",
     "text": [
      "B: 맞아 갓도 스튜디오에서 그 콘텐츠를 한다는 게 아니라 오늘 처음엔 특본이 특정적인 거거든요 지금 그런 콘텐츠를 한다는 게 왜냐면 우리 진짜 만드는 글쏘시개고 하는 사람이고 거기 앞에서 가격을 정하고 일을 한다는 게 아니라 그 콘텐츠를 꼭 좋게 봐줘라고 그런 건 아니더라도\n"
     ]
    },
    {
     "name": "stderr",
     "output_type": "stream",
     "text": [
      " 31%|███       | 32/103 [06:57<11:22,  9.62s/it]"
     ]
    },
    {
     "name": "stdout",
     "output_type": "stream",
     "text": [
      "D: 흑두기 여성만 보게 되고 정도가 아직은 정도돼요\n"
     ]
    },
    {
     "name": "stderr",
     "output_type": "stream",
     "text": [
      " 32%|███▏      | 33/103 [07:06<10:56,  9.38s/it]"
     ]
    },
    {
     "name": "stdout",
     "output_type": "stream",
     "text": [
      "D: 그 사람은 아 모르고\n"
     ]
    },
    {
     "name": "stderr",
     "output_type": "stream",
     "text": [
      " 33%|███▎      | 34/103 [07:15<10:34,  9.19s/it]"
     ]
    },
    {
     "name": "stdout",
     "output_type": "stream",
     "text": [
      "B: 옆에 더 많이 고민을 할 때까지 고민하고 있다\n"
     ]
    },
    {
     "name": "stderr",
     "output_type": "stream",
     "text": [
      " 34%|███▍      | 35/103 [07:23<10:11,  9.00s/it]"
     ]
    },
    {
     "name": "stdout",
     "output_type": "stream",
     "text": [
      "B: 고똥이도\n"
     ]
    },
    {
     "name": "stderr",
     "output_type": "stream",
     "text": [
      " 35%|███▍      | 36/103 [07:32<09:58,  8.93s/it]"
     ]
    },
    {
     "name": "stdout",
     "output_type": "stream",
     "text": [
      "B: 나 너무 공단해 선비에\n"
     ]
    },
    {
     "name": "stderr",
     "output_type": "stream",
     "text": [
      " 36%|███▌      | 37/103 [07:41<09:49,  8.93s/it]"
     ]
    },
    {
     "name": "stdout",
     "output_type": "stream",
     "text": [
      "B: 무중사대는 안내 일흔 두 장문 이상 고기에서 저쪽으로 붙잡혔는데 지금 그렇게 안 늘었고 저런 경우는 왜 내려왔냐 이러는 거야 그런데 만약에 거기 안 들어왔으면 일 년 내에 죽었거든요\n"
     ]
    },
    {
     "name": "stderr",
     "output_type": "stream",
     "text": [
      " 37%|███▋      | 38/103 [07:50<09:40,  8.92s/it]"
     ]
    },
    {
     "name": "stdout",
     "output_type": "stream",
     "text": [
      "A: 이래서 정리다 고기에서 좌표가게 된다\n"
     ]
    },
    {
     "name": "stderr",
     "output_type": "stream",
     "text": [
      " 38%|███▊      | 39/103 [07:59<09:32,  8.94s/it]"
     ]
    },
    {
     "name": "stdout",
     "output_type": "stream",
     "text": [
      "B: 좀 살리려고 한 거 뭐 어쨌든 그 과정 중에서 우리가 뭐 그렇게 안력하진 않지 그러나\n"
     ]
    },
    {
     "name": "stderr",
     "output_type": "stream",
     "text": [
      " 39%|███▉      | 40/103 [08:08<09:24,  8.96s/it]"
     ]
    },
    {
     "name": "stdout",
     "output_type": "stream",
     "text": [
      "A: 최선을 다 알고\n"
     ]
    },
    {
     "name": "stderr",
     "output_type": "stream",
     "text": [
      " 40%|███▉      | 41/103 [08:16<09:06,  8.81s/it]"
     ]
    },
    {
     "name": "stdout",
     "output_type": "stream",
     "text": [
      "B: 그 결과들이 괜찮았지요\n"
     ]
    },
    {
     "name": "stderr",
     "output_type": "stream",
     "text": [
      " 41%|████      | 42/103 [08:25<08:54,  8.77s/it]"
     ]
    },
    {
     "name": "stdout",
     "output_type": "stream",
     "text": [
      "B: 소술도 잘 맡고 있고\n"
     ]
    },
    {
     "name": "stderr",
     "output_type": "stream",
     "text": [
      " 42%|████▏     | 43/103 [08:34<08:52,  8.87s/it]"
     ]
    },
    {
     "name": "stdout",
     "output_type": "stream",
     "text": [
      "B: 통격도 좋아지고 입양 쳐도 돼\n"
     ]
    },
    {
     "name": "stderr",
     "output_type": "stream",
     "text": [
      " 43%|████▎     | 44/103 [08:43<08:45,  8.91s/it]"
     ]
    },
    {
     "name": "stdout",
     "output_type": "stream",
     "text": [
      "B: 그거를 보려고 하자\n"
     ]
    },
    {
     "name": "stderr",
     "output_type": "stream",
     "text": [
      " 44%|████▎     | 45/103 [08:52<08:36,  8.90s/it]"
     ]
    },
    {
     "name": "stdout",
     "output_type": "stream",
     "text": [
      "B: 이거 그냥 열반된다\n"
     ]
    },
    {
     "name": "stderr",
     "output_type": "stream",
     "text": [
      " 45%|████▍     | 46/103 [09:01<08:29,  8.94s/it]"
     ]
    },
    {
     "name": "stdout",
     "output_type": "stream",
     "text": [
      "B: 왜 무슨 사는데 처리 줄냐\n"
     ]
    },
    {
     "name": "stderr",
     "output_type": "stream",
     "text": [
      " 46%|████▌     | 47/103 [09:10<08:23,  8.99s/it]"
     ]
    },
    {
     "name": "stdout",
     "output_type": "stream",
     "text": [
      "B: 그런 사람들은 댓글만 보면 또 그냥 중성적인 다른 사람들은 그 댓글만 봐도\n"
     ]
    },
    {
     "name": "stderr",
     "output_type": "stream",
     "text": [
      " 47%|████▋     | 48/103 [09:19<08:14,  8.99s/it]"
     ]
    },
    {
     "name": "stdout",
     "output_type": "stream",
     "text": [
      "B: 그 오 줄도 안에 소리를 질렀다고 왜 이렇게 돼?\n"
     ]
    },
    {
     "name": "stderr",
     "output_type": "stream",
     "text": [
      " 48%|████▊     | 49/103 [09:28<08:04,  8.98s/it]"
     ]
    },
    {
     "name": "stdout",
     "output_type": "stream",
     "text": [
      "B: 그런데 내가 약간 오늦수하는 소리 질른 것 같애\n"
     ]
    },
    {
     "name": "stderr",
     "output_type": "stream",
     "text": [
      " 49%|████▊     | 50/103 [09:37<07:58,  9.04s/it]"
     ]
    },
    {
     "name": "stdout",
     "output_type": "stream",
     "text": [
      "B: 뭐야 새끼 알았다 이런 거 어떻게 해\n"
     ]
    },
    {
     "name": "stderr",
     "output_type": "stream",
     "text": [
      " 50%|████▉     | 51/103 [09:46<07:42,  8.90s/it]"
     ]
    },
    {
     "name": "stdout",
     "output_type": "stream",
     "text": [
      "B: 아 진짜 너무\n"
     ]
    },
    {
     "name": "stderr",
     "output_type": "stream",
     "text": [
      " 50%|█████     | 52/103 [09:55<07:37,  8.98s/it]"
     ]
    },
    {
     "name": "stdout",
     "output_type": "stream",
     "text": [
      "B: 그런데 그래 지금 그래서 우리가 피드백하는 과정들이 이걸 어떻게 하면 더 재밌게 만들까 가니한 거죠\n"
     ]
    },
    {
     "name": "stderr",
     "output_type": "stream",
     "text": [
      " 51%|█████▏    | 53/103 [10:04<07:30,  9.00s/it]"
     ]
    },
    {
     "name": "stdout",
     "output_type": "stream",
     "text": [
      "B: 어 그러고 댓글 볼 때도 아 오늘 뭐 불편한 거 없었을까 오늘 어디에 잡히겼을까\n"
     ]
    },
    {
     "name": "stderr",
     "output_type": "stream",
     "text": [
      " 52%|█████▏    | 54/103 [10:13<07:16,  8.91s/it]"
     ]
    },
    {
     "name": "stdout",
     "output_type": "stream",
     "text": [
      "C: 그리고 불편함은 없었을까?\n"
     ]
    },
    {
     "name": "stderr",
     "output_type": "stream",
     "text": [
      " 53%|█████▎    | 55/103 [10:22<07:09,  8.95s/it]"
     ]
    },
    {
     "name": "stdout",
     "output_type": "stream",
     "text": [
      "B: 파 조건들이지\n"
     ]
    },
    {
     "name": "stderr",
     "output_type": "stream",
     "text": [
      " 54%|█████▍    | 56/103 [10:31<07:00,  8.94s/it]"
     ]
    },
    {
     "name": "stdout",
     "output_type": "stream",
     "text": [
      "B: 아유 너무 설레는 마음보다는 우리 옛날 설렸단 말야 영상 올리고 전에 아마마 이면서 올렸잖아 그친 것 처럼 그런데 지금은 걱정되면서 올려\n"
     ]
    },
    {
     "name": "stderr",
     "output_type": "stream",
     "text": [
      " 55%|█████▌    | 57/103 [10:39<06:46,  8.84s/it]"
     ]
    },
    {
     "name": "stdout",
     "output_type": "stream",
     "text": [
      "B: 그래서 어디서 제가 하면 됐냐면 저는 약간 테마를 정하는 게 이거든요\n"
     ]
    },
    {
     "name": "stderr",
     "output_type": "stream",
     "text": [
      " 56%|█████▋    | 58/103 [10:48<06:36,  8.81s/it]"
     ]
    },
    {
     "name": "stdout",
     "output_type": "stream",
     "text": [
      "C: 기도님이 내한테 이게 엄청 많았잖아요 그래서 저는 이렇게 생각해서 만약에 기도님이 일을 했으면 요구가 넘어서 전 다르게 넘었을 거라고 생각하고 예를 들면\n"
     ]
    },
    {
     "name": "stderr",
     "output_type": "stream",
     "text": [
      " 57%|█████▋    | 59/103 [10:58<06:43,  9.18s/it]"
     ]
    },
    {
     "name": "stdout",
     "output_type": "stream",
     "text": [
      "C: 남자들은 저렇게 고상한 여자들여서는 왜 없어\n",
      "C:  왜 요구를 공정니까 나올 수밖에 없을 때 찾는 것 같아요 제가 보기엔\n"
     ]
    },
    {
     "name": "stderr",
     "output_type": "stream",
     "text": [
      " 58%|█████▊    | 60/103 [11:07<06:27,  9.02s/it]"
     ]
    },
    {
     "name": "stdout",
     "output_type": "stream",
     "text": [
      "A: 맞은 어떻게 돼요\n"
     ]
    },
    {
     "name": "stderr",
     "output_type": "stream",
     "text": [
      " 59%|█████▉    | 61/103 [11:15<06:13,  8.90s/it]"
     ]
    },
    {
     "name": "stdout",
     "output_type": "stream",
     "text": [
      "C: 그러니까 이걸 즐기지 못하고 그냥 뭔가 그런 걸\n"
     ]
    },
    {
     "name": "stderr",
     "output_type": "stream",
     "text": [
      " 60%|██████    | 62/103 [11:24<06:02,  8.85s/it]"
     ]
    },
    {
     "name": "stdout",
     "output_type": "stream",
     "text": [
      "C: 왜 그렇게 분갈한 생각을 줄대요\n"
     ]
    },
    {
     "name": "stderr",
     "output_type": "stream",
     "text": [
      " 61%|██████    | 63/103 [11:33<05:52,  8.81s/it]"
     ]
    },
    {
     "name": "stdout",
     "output_type": "stream",
     "text": [
      "C: 김현정의 권 또 집 위에 천안을 갖추고 있는 건 또 집 위에 천안을 갖추고 있다\n"
     ]
    },
    {
     "name": "stderr",
     "output_type": "stream",
     "text": [
      " 62%|██████▏   | 64/103 [11:51<07:36, 11.70s/it]"
     ]
    },
    {
     "name": "stdout",
     "output_type": "stream",
     "text": [
      "B: 무치는 웃음을 드리고 싶어 했는데 좀 더 구체적으로 가자는 서로 날씨가 있지 말고 서로 너무 불편해하지 말고 우리 한 번 웃어봐야 지\n"
     ]
    },
    {
     "name": "stderr",
     "output_type": "stream",
     "text": [
      " 63%|██████▎   | 65/103 [12:00<06:54, 10.90s/it]"
     ]
    },
    {
     "name": "stdout",
     "output_type": "stream",
     "text": [
      "D: 그런데 진짜 너무 승쟁이 이게 진짜 화가의 문제 아니라 엄청 전반적으로 다 깔려 있는 무덴데 뭐냐면 원룸도 너무 그렇고 결제되어 있는 거가 재미있잖아 그게 그렇게 이탈이 더 깔려 있거나 말하지는 모든 시선들이 기껏 졌어\n"
     ]
    },
    {
     "name": "stderr",
     "output_type": "stream",
     "text": [
      " 64%|██████▍   | 66/103 [12:20<08:19, 13.51s/it]"
     ]
    },
    {
     "name": "stdout",
     "output_type": "stream",
     "text": [
      "B: 불편한 게 없는 새들불편함과 싸우는 새들불편한 게 없는 새들불편함과 같은 새� ث\n"
     ]
    },
    {
     "name": "stderr",
     "output_type": "stream",
     "text": [
      " 65%|██████▌   | 67/103 [12:28<07:13, 12.03s/it]"
     ]
    },
    {
     "name": "stdout",
     "output_type": "stream",
     "text": [
      "D: 이게 조금만에 봤던 무은일체가 그런 상태에서 우리가 외침하고 있는 게\n"
     ]
    },
    {
     "name": "stderr",
     "output_type": "stream",
     "text": [
      " 66%|██████▌   | 68/103 [12:37<06:27, 11.06s/it]"
     ]
    },
    {
     "name": "stdout",
     "output_type": "stream",
     "text": [
      "C: 실적으로 저는 기도님이 얘기했던 그런 메시지를 같은 걸 사람들이 이해하고 싶지 않게 이해하려고 하지 않은 것 같아요\n"
     ]
    },
    {
     "name": "stderr",
     "output_type": "stream",
     "text": [
      " 67%|██████▋   | 69/103 [12:46<05:51, 10.34s/it]"
     ]
    },
    {
     "name": "stdout",
     "output_type": "stream",
     "text": [
      "C: 잘만 지금\n",
      "C:  십 분 내지 영상을 제공하는 사람 그 사람은 모든 사람들이잖아 그리고 십 분으로 그 사람들을 더 바꿀 수 있을까라는 생각이 들거든요\n",
      "C:  그럼 예진국은 거기서 더운 영향을 나와도 말했다\n"
     ]
    },
    {
     "name": "stderr",
     "output_type": "stream",
     "text": [
      " 68%|██████▊   | 70/103 [13:03<06:48, 12.39s/it]"
     ]
    },
    {
     "name": "stdout",
     "output_type": "stream",
     "text": [
      "C:  조언이 무언준에서 커티만을 받은 생각에 대해 그런데 우리는 받았는데 우리가 받았습니까 남들도 받을 거라는 기대를 하는 게 저는 안느냐고 좋겠습니까 우리가 그렇지 않은 사람까지 우리의 생각을 본다\n"
     ]
    },
    {
     "name": "stderr",
     "output_type": "stream",
     "text": [
      " 69%|██████▉   | 71/103 [13:12<06:06, 11.45s/it]"
     ]
    },
    {
     "name": "stdout",
     "output_type": "stream",
     "text": [
      "B: 그렇게 행복하게 느낄 수 있는 사람들이 많았으면 좋겠다지 너 이렇게 적극적한 세상을 사는데 우리 이런 콘텐츠야 너 앞으로 우리 형 공부가 행복해야 해 라고 그렇게 할 필요도 없는 것 같애요 그냥 좀 엄청 디타원적이지만 지금 내 원인이 나눴던 것들이 어쨌든 그 속에 있는 서비스는\n"
     ]
    },
    {
     "name": "stderr",
     "output_type": "stream",
     "text": [
      " 70%|██████▉   | 72/103 [13:21<05:29, 10.63s/it]"
     ]
    },
    {
     "name": "stdout",
     "output_type": "stream",
     "text": [
      "B: 내 머릿속에 제일 큰 파동은 불편할 것 같아\n"
     ]
    },
    {
     "name": "stderr",
     "output_type": "stream",
     "text": [
      " 71%|███████   | 73/103 [13:30<04:59,  9.99s/it]"
     ]
    },
    {
     "name": "stdout",
     "output_type": "stream",
     "text": [
      "B: 불편하노그냥\n",
      "B: 안 먹으면 안되요\n"
     ]
    },
    {
     "name": "stderr",
     "output_type": "stream",
     "text": [
      " 72%|███████▏  | 74/103 [13:46<05:42, 11.81s/it]"
     ]
    },
    {
     "name": "stdout",
     "output_type": "stream",
     "text": [
      "B: 그냥 아니 우리 영상을 보고 재밌게 즐기면서 행복해 할 수 있는 사람들을 무릎 흐르는게 너무나 슬퍼 너도 그치\n"
     ]
    },
    {
     "name": "stderr",
     "output_type": "stream",
     "text": [
      " 73%|███████▎  | 75/103 [13:54<05:05, 10.91s/it]"
     ]
    },
    {
     "name": "stdout",
     "output_type": "stream",
     "text": [
      "F: 저씨는 이 쩜 이 쩜 이 쩜 이 쩜\n"
     ]
    },
    {
     "name": "stderr",
     "output_type": "stream",
     "text": [
      " 74%|███████▍  | 76/103 [14:03<04:39, 10.35s/it]"
     ]
    },
    {
     "name": "stdout",
     "output_type": "stream",
     "text": [
      "B: 사실 무시하는 것도 하나의 방법일 수도 있고 이렇게 불펠러스를 꺼져서 이렇게 하는 것도 방법일 수도 있고 한데 나는 그걸 직접적으로 어떻게 해 봤으면 어떨까 싶어\n"
     ]
    },
    {
     "name": "stderr",
     "output_type": "stream",
     "text": [
      " 75%|███████▍  | 77/103 [14:12<04:16,  9.87s/it]"
     ]
    },
    {
     "name": "stdout",
     "output_type": "stream",
     "text": [
      "D: 물은 붕괴 나왔다\n"
     ]
    },
    {
     "name": "stderr",
     "output_type": "stream",
     "text": [
      " 76%|███████▌  | 78/103 [14:20<03:54,  9.38s/it]"
     ]
    },
    {
     "name": "stdout",
     "output_type": "stream",
     "text": [
      "D: 불편해한 사람들을 안 믿습니다 사실\n"
     ]
    },
    {
     "name": "stderr",
     "output_type": "stream",
     "text": [
      " 77%|███████▋  | 79/103 [14:29<03:41,  9.24s/it]"
     ]
    },
    {
     "name": "stdout",
     "output_type": "stream",
     "text": [
      "D:  댓글이 보이는 만큼 다수가 아닌가란 말야\n",
      "D:  소주야 정성적인 안성이야 그냥 별로 신경 썼어 재밌을 때 보고 재밌을 때 안 보고 무력할 것도 없어 맞아\n"
     ]
    },
    {
     "name": "stderr",
     "output_type": "stream",
     "text": [
      " 78%|███████▊  | 80/103 [14:38<03:27,  9.03s/it]"
     ]
    },
    {
     "name": "stdout",
     "output_type": "stream",
     "text": [
      "D: 그거를 보지 마세우라가 하는 거나 안 하는 건 차이가 돼 있는 거다\n"
     ]
    },
    {
     "name": "stderr",
     "output_type": "stream",
     "text": [
      " 79%|███████▊  | 81/103 [14:46<03:14,  8.84s/it]"
     ]
    },
    {
     "name": "stdout",
     "output_type": "stream",
     "text": [
      "B: 우리 마세월아가 하는 거나 안 돼\n"
     ]
    },
    {
     "name": "stderr",
     "output_type": "stream",
     "text": [
      " 80%|███████▉  | 82/103 [14:55<03:04,  8.80s/it]"
     ]
    },
    {
     "name": "stdout",
     "output_type": "stream",
     "text": [
      "B: 아이돌 맨처음에 들을 때랑 똑같은 연타임은 그러니까 새로운 직업이 직업으로 인정받기 위해 열렬 과정이었는데 첫번째는 단짝도\n"
     ]
    },
    {
     "name": "stderr",
     "output_type": "stream",
     "text": [
      " 81%|████████  | 83/103 [15:04<02:58,  8.91s/it]"
     ]
    },
    {
     "name": "stdout",
     "output_type": "stream",
     "text": [
      "B: 그다음 욕 기시해\n"
     ]
    },
    {
     "name": "stderr",
     "output_type": "stream",
     "text": [
      " 82%|████████▏ | 84/103 [15:14<02:52,  9.05s/it]"
     ]
    },
    {
     "name": "stdout",
     "output_type": "stream",
     "text": [
      "B: 그 다음 과정이 이 사람들이 이렇게 뜨기 위한 뒤에 모습들 그런 노력들이 그다음에 한 번씩 조명이 되면서 그다음에 직업으로 인정이 돼야 하는데 지금 사실 유튜�은 어떤 상황인 것 아니냐는\n"
     ]
    },
    {
     "name": "stderr",
     "output_type": "stream",
     "text": [
      " 83%|████████▎ | 85/103 [15:23<02:44,  9.16s/it]"
     ]
    },
    {
     "name": "stdout",
     "output_type": "stream",
     "text": [
      "B: 어떤 노력을 하는지 아직 사람들 하나도 몰라\n",
      "B: 유투버들이 어떻게 영상을 제자서도 어떤 이렇게 고민을 하는지 하나도 모르는 상태고 뭐냐면\n"
     ]
    },
    {
     "name": "stderr",
     "output_type": "stream",
     "text": [
      " 83%|████████▎ | 86/103 [15:32<02:35,  9.14s/it]"
     ]
    },
    {
     "name": "stdout",
     "output_type": "stream",
     "text": [
      "B: 전문성도 없어 보인네들이\n"
     ]
    },
    {
     "name": "stderr",
     "output_type": "stream",
     "text": [
      " 84%|████████▍ | 87/103 [15:41<02:24,  9.05s/it]"
     ]
    },
    {
     "name": "stdout",
     "output_type": "stream",
     "text": [
      "B: 엄청 유명해졌어 근데 제일 조명만이 된 건 리트로들 플렉스\n"
     ]
    },
    {
     "name": "stderr",
     "output_type": "stream",
     "text": [
      " 85%|████████▌ | 88/103 [15:49<02:13,  8.88s/it]"
     ]
    },
    {
     "name": "stdout",
     "output_type": "stream",
     "text": [
      "B: 여자 플렉슨\n"
     ]
    },
    {
     "name": "stderr",
     "output_type": "stream",
     "text": [
      " 86%|████████▋ | 89/103 [15:58<02:03,  8.80s/it]"
     ]
    },
    {
     "name": "stdout",
     "output_type": "stream",
     "text": [
      "B: 왜에 유튜베라는 직업에 대해서 재조명된 게 없는 당황이 됐어\n"
     ]
    },
    {
     "name": "stderr",
     "output_type": "stream",
     "text": [
      " 87%|████████▋ | 90/103 [16:07<01:56,  8.94s/it]"
     ]
    },
    {
     "name": "stdout",
     "output_type": "stream",
     "text": [
      "B: 아니 그래서 일반적인 사람들이 유튜버에 대한 시선이 좀 난 되게 그쪽 믹상은 지금 식인 것 같애 식죠? 식게 더 번져요 분명히 우리 주변에 크리에이터를 보면\n"
     ]
    },
    {
     "name": "stderr",
     "output_type": "stream",
     "text": [
      " 88%|████████▊ | 91/103 [16:16<01:47,  8.98s/it]"
     ]
    },
    {
     "name": "stdout",
     "output_type": "stream",
     "text": [
      "B: 실절마다 동작과 같고 이 사람들은 애초에 동걸리고 시작한 사람들이 이걸 내 시점에서 봤을 때 보면 별로 없어 보여요 그냥\n"
     ]
    },
    {
     "name": "stderr",
     "output_type": "stream",
     "text": [
      " 89%|████████▉ | 92/103 [16:25<01:37,  8.91s/it]"
     ]
    },
    {
     "name": "stdout",
     "output_type": "stream",
     "text": [
      "B: 무명 개그맨이었고 그냥 사람들을 즐겁게 해주기 위해서 그리고 나를 드러낸으로 인해서 좋은 가치를 전파하기 위해서 했던 사람들이지 뭐 그렇진 않은데\n"
     ]
    },
    {
     "name": "stderr",
     "output_type": "stream",
     "text": [
      " 90%|█████████ | 93/103 [16:34<01:28,  8.87s/it]"
     ]
    },
    {
     "name": "stdout",
     "output_type": "stream",
     "text": [
      "B: 그런 것들의 사람을 별로 모르는 것\n"
     ]
    },
    {
     "name": "stderr",
     "output_type": "stream",
     "text": [
      " 91%|█████████▏| 94/103 [16:43<01:19,  8.85s/it]"
     ]
    },
    {
     "name": "stdout",
     "output_type": "stream",
     "text": [
      "B: 너가 강하게 죽었는데\n"
     ]
    },
    {
     "name": "stderr",
     "output_type": "stream",
     "text": [
      " 92%|█████████▏| 95/103 [16:51<01:10,  8.77s/it]"
     ]
    },
    {
     "name": "stdout",
     "output_type": "stream",
     "text": [
      "B: 주노연아 조연이다 해 해\n"
     ]
    },
    {
     "name": "stderr",
     "output_type": "stream",
     "text": [
      " 93%|█████████▎| 96/103 [17:00<01:01,  8.76s/it]"
     ]
    },
    {
     "name": "stdout",
     "output_type": "stream",
     "text": [
      "B: 중요한 시점인 것이다\n"
     ]
    },
    {
     "name": "stderr",
     "output_type": "stream",
     "text": [
      " 94%|█████████▍| 97/103 [17:08<00:51,  8.62s/it]"
     ]
    },
    {
     "name": "stdout",
     "output_type": "stream",
     "text": [
      "B: 안 불편한 사람이라도 끌고 가야\n"
     ]
    },
    {
     "name": "stderr",
     "output_type": "stream",
     "text": [
      " 95%|█████████▌| 98/103 [17:17<00:43,  8.69s/it]"
     ]
    },
    {
     "name": "stdout",
     "output_type": "stream",
     "text": [
      "B: 되는데 불편한 사람에 의해서 안 불편한 설 때 다 이렇게 생긴다\n"
     ]
    },
    {
     "name": "stderr",
     "output_type": "stream",
     "text": [
      " 96%|█████████▌| 99/103 [17:26<00:34,  8.66s/it]"
     ]
    },
    {
     "name": "stdout",
     "output_type": "stream",
     "text": [
      "B: 즐기고 싶어요\n"
     ]
    },
    {
     "name": "stderr",
     "output_type": "stream",
     "text": [
      " 97%|█████████▋| 100/103 [17:34<00:26,  8.67s/it]"
     ]
    },
    {
     "name": "stdout",
     "output_type": "stream",
     "text": [
      "B: 그런데 이걸 회사해야 돼\n",
      "B: 한번 해결이 아니라서는 해결하는 방안으로 가야겠다\n"
     ]
    },
    {
     "name": "stderr",
     "output_type": "stream",
     "text": [
      " 98%|█████████▊| 101/103 [17:50<00:21, 10.87s/it]"
     ]
    },
    {
     "name": "stdout",
     "output_type": "stream",
     "text": [
      "B: 그럭지 않은데 오미지 말겨요\n"
     ]
    },
    {
     "name": "stderr",
     "output_type": "stream",
     "text": [
      " 99%|█████████▉| 102/103 [17:59<00:10, 10.31s/it]"
     ]
    },
    {
     "name": "stdout",
     "output_type": "stream",
     "text": [
      "B: 이게 문제다라는 지금 공통적인 문제제기는 됐으니까 밥 먹고 어떤 전략으로 갈까에 대한 얘기를 이어서 해 봅시다\n"
     ]
    },
    {
     "name": "stderr",
     "output_type": "stream",
     "text": [
      "100%|██████████| 103/103 [18:09<00:00, 10.58s/it]"
     ]
    },
    {
     "name": "stdout",
     "output_type": "stream",
     "text": [
      "B: 내가 무한도전 시즌투를 못하는 이유에 대한 기사가 할 수 있었어요\n",
      "B: 근데 거기 있는 댓글들이 절대 못한다 무한도전 시즌투는 그런 의견이 엄청 지지적인가 못하는 이유가 요즘 세상에 무한우전하면 용만 먹고 그 시즌원의 그런 추억들만 다 훼손될 거다 분명히 무한우전 시즌투가 그렇게 될 거다라는 얘기들을 봤는데 나는 요즘\n"
     ]
    },
    {
     "name": "stderr",
     "output_type": "stream",
     "text": [
      "\n"
     ]
    }
   ],
   "source": [
    "from tqdm import tqdm\n",
    "\n",
    "Nicknames = ['A', 'B', 'C', 'D', 'E', 'F', 'G', 'H']\n",
    "\n",
    "with open('RESULT.txt', 'wt', encoding='utf-8') as f:\n",
    "\n",
    "    for file in tqdm(file_list):\n",
    "        \n",
    "        nick = Nicknames[int(file.split('_')[-1][:-4])]\n",
    "        \n",
    "        segments, info = model.transcribe(file, language='ko')\n",
    "        \n",
    "        for segment in segments:\n",
    "            m, s = divmod(segment.start, 60)\n",
    "            time_str = f\"{int(m):02d}:{int(s):02d}\" if m > 0 else f\"{int(s):02d}\"\n",
    "            f.write(f\"[{time_str}] {nick}: {segment.text}\\n\")\n",
    "            print(f\"{nick}: {segment.text}\")\n",
    "    \n",
    "    f.close()"
   ]
  },
  {
   "cell_type": "code",
   "execution_count": 5,
   "metadata": {},
   "outputs": [
    {
     "name": "stdout",
     "output_type": "stream",
     "text": [
      "B: 몇 자막 제공 및 자막 제공 및 자막 제공 및 광고를 포기한다\n",
      "B:  제도는 제도다\n",
      "B: 그리고 불편한 것 같아 사실 무시하는 것도 하나의 방법일 수도 있고 이렇게 불편력을 꺼져 보면 이렇게 하는 것도 방법일 수도 있고 한데 나는 그거를 직접적으로 해봤으면 어떨까 싶어\n",
      "B: 그런데 거기 있는 댓글들에 절대 못한다 무안전 시즌2는 그런 의견이 엄청 질적이며 못하는 이유가 요즘 세상에 무안전 하면 용만 먹고 그 시즌1의 그런 추억들만 다 훼손될 뿐일까 분명히 무안전 시즌2가 그렇게 될 거다라는 얘기들을 봤는데 나는 요즘\n",
      "B: 올림픽니다 나 올림픽이다\n",
      "B:  이 논의 주택으로 미쳤다\n",
      "B: 부지적인 생활이긴 한데 아직까지 우리나라에서 나오는 게 지금 메시지에서 일곱은 다 젖에서 나가면 불편한 문제들이 그래서 그걸 할 수 있는 방법은 번화를 좀 바꾸게 하는 게 힘들 것 같다\n",
      "B: 따라서 웃으면서 합시다\n",
      "B: 그 나는 채널에서 아무리 잘되는 순간이더라도 지금 문제가 뭔지 약간 솔직하게 좀 사람들로 소통하고 싶거든요 아 요즘 주유수 개그치 않나는가 이러면서 얘기하고 싶단 말이야 우리의 걱정 고민 이슈들을 그걸 얘기하면 지금은 약점이 돼 뭐 예를 들면 요즘 주유수가 안 나와가지고 뭐 그렇게 얘기하면 너가 이러니까 주유수가 안 나오지부터 시작이 된다\n",
      "B: 몬�엘�다\n",
      "B: 몬�여다\n",
      "B: 몬�여다\n",
      "B: 몬�여다\n",
      "B: 몬�여\n",
      "B: 몬�여다\n",
      "B: 우리 직업이 직업으로 인정받기 위한 일 열 과정인데 첫번째는 단짝 떠 그 다음 과정이 이 사람들이 이렇게 뜨기 위한 주의 모습들 그런 노력들이 그다음에 한 번씩 조명이 되면서 그다음에 직업으로 인정되게 하는 건데 지금 사실 유튜브는 어떤 상황인 것 같으면 어떤 노력을 하는지 아직 사람들은 하나도 몰라 유튜브들이 어떻게 영상을 제작하고 어떤 이렇게 고민을 하는지 하나도 모르는 상태고 뭐냐면\n",
      "B:  별로 전문성도 없어 보인 애들이 엄청 유명해졌어 그런데 제일 조명 아닌 건 유튜버들 플렉스야 돈 여자 플렉스 외에 유튜�라는 직업에 대해서 재조명된 게 없는 상황이다\n"
     ]
    }
   ],
   "source": [
    "from tqdm import tqdm\n",
    "\n",
    "Nicknames = ['A', 'B', 'C', 'D', 'E', 'F', 'G', 'H']\n",
    "\n",
    "segments, info = model.transcribe('XtVE-9ywfDc.wav', language='ko')\n",
    "\n",
    "with open('RESULT2.txt', 'wt', encoding='utf-8') as f:\n",
    "    \n",
    "    for segment in segments:\n",
    "        m, s = divmod(int(segment.start), 60)\n",
    "        time_str = f\"{int(m)}:{int(s)}\" if m > 0 else f\"{int(s)}\"\n",
    "        f.write(f\"[{time_str}] {nick}: {segment.text}\\n\")\n",
    "        print(f\"[{time_str}] {nick}: {segment.text}\")\n",
    "    \n",
    "    f.close()"
   ]
  },
  {
   "cell_type": "code",
   "execution_count": null,
   "metadata": {},
   "outputs": [
    {
     "name": "stdout",
     "output_type": "stream",
     "text": [
      "\n",
      "```\n",
      "## AI 어플리케이션 개발 주제 요약:\n",
      "    1. 인공지능을 활용한 애플리케이션 아이디어 발상\n",
      "        * summary: AI를 활용한 앱으로 사용자의 불편을 해소하는 방향으로 아이디어 발상\n",
      "        * result: AI를 활용한 회의 어시스턴트 서비스 개발을 결정\n",
      "        * search: AI를 활용한 회의 어시스턴트 서비스 구현 방법\n",
      "\n",
      "    2. AI 회의 어시스턴트 서비스 기능 및 차별화 아이디어\n",
      "        * summary: 회의 내용 녹음, 텍스트 변환, 캘린더 관리, 자료 조사 지원 등의 기능 제안\n",
      "        * result: AI를 활용한 회의 어시스턴트 서비스의 차별화된 기능 도출\n",
      "        * search: AI를 활용한 회의 어시스턴트 서비스의 기능 구현 방법\n",
      "\n",
      "    3. 다음 회의 일정 및 과제\n",
      "        * summary: 다음 회의는 29일에 예정되며, UI/UX 디자인, 기획, 백엔드 플로우 구현 등의 과제를 분담\n",
      "        * result: 다음 회의는 29일에 학교 카페에서 진행\n",
      "        * search: AI 어플리케이션 개발에 필요한 한국어 STT 모델 파인튜닝 방법\n",
      "\n",
      "*next meeting*: 29일, 미정, 학교 카페\n",
      "```\n"
     ]
    }
   ],
   "source": [
    "import os\n",
    "from openai import OpenAI\n",
    "\n",
    "\n",
    "client = OpenAI(\n",
    "    api_key=open('API_KEY.txt', 'r').read()\n",
    ")\n",
    "\n",
    "chat_completion = client.chat.completions.create(\n",
    "    messages=[\n",
    "        { 'role': \"system\", 'content': \"You are a assistant to clarify the meeting in a meeting script.\" },\n",
    "        {\n",
    "            \"role\": \"user\",\n",
    "            \"content\": \n",
    "                f\"\"\"회의 대본 : {open('RESULT2.txt', 'r').read()}\n",
    "                    회의 대본은 회의 음성을 텍스트로 변환한 거야. 다음 지침을 따라줘. \n",
    "                    1. 한국어로 요약해줘.         \n",
    "                    2. 회의 대본에서 각 주제별로 요약하고 결론을 자세히 알려줘. 화자는 언급하지 않아도 돼.\n",
    "                    3. 회의 대본에서 더 조사하려는 내용이 있었으면 해당 내용의 검색 키워드를 알려줘.\n",
    "                    4. 회의 내용 중 다음 회의 일정을 언급했다면 미팅 예정일과 시간, 장소를 알려줘.\n",
    "                    5. 아래 출력 형식으로 Markdown code를 작성해줘.\n",
    "                    6. 출력 형식 : '\n",
    "                    (##)topic summary: \n",
    "                        1. 주제 1 \n",
    "                            * summry : 회의 내용 요약\n",
    "                            * result : 회의 결론\n",
    "                            * search : (이텔릭체)추가로 조사할 내용에 대한 검색 문장\n",
    "                        2. 주제 2 \n",
    "                            * summary : 회의 내용 요약\n",
    "                            * result : 회의 결론\n",
    "                            * search : (이텔릭체)추가로 조사할 내용에 대한 검색 문장\n",
    "                        ...\n",
    "                        \n",
    "                    *next meeting*: (날짜(월/일 or 이번주 금요일), 시간(오전/오후 n시 or 미정), 장소(없을 경우 미정) or 없음\n",
    "                    '\n",
    "                    \"\"\"\n",
    "        }\n",
    "    ],\n",
    "    model=\"gpt-3.5-turbo\",\n",
    "    temperature=0.1,\n",
    ")\n",
    "print(chat_completion.choices[0].message.content)\n"
   ]
  },
  {
   "cell_type": "markdown",
   "metadata": {},
   "source": [
    "# Simple Diarizer"
   ]
  },
  {
   "cell_type": "code",
   "execution_count": 47,
   "metadata": {},
   "outputs": [
    {
     "name": "stderr",
     "output_type": "stream",
     "text": [
      "Using cache found in /home/gue707/.cache/torch/hub/snakers4_silero-vad_master\n",
      "INFO:speechbrain.utils.fetching:Fetch hyperparams.yaml: Fetching from HuggingFace Hub 'speechbrain/spkrec-xvect-voxceleb' if not cached\n",
      "INFO:speechbrain.utils.fetching:Fetch custom.py: Fetching from HuggingFace Hub 'speechbrain/spkrec-xvect-voxceleb' if not cached\n",
      "INFO:speechbrain.utils.fetching:Fetch embedding_model.ckpt: Fetching from HuggingFace Hub 'speechbrain/spkrec-xvect-voxceleb' if not cached\n",
      "INFO:speechbrain.utils.fetching:Fetch mean_var_norm_emb.ckpt: Fetching from HuggingFace Hub 'speechbrain/spkrec-xvect-voxceleb' if not cached\n",
      "INFO:speechbrain.utils.fetching:Fetch classifier.ckpt: Fetching from HuggingFace Hub 'speechbrain/spkrec-xvect-voxceleb' if not cached\n",
      "INFO:speechbrain.utils.fetching:Fetch label_encoder.txt: Fetching from HuggingFace Hub 'speechbrain/spkrec-xvect-voxceleb' if not cached\n",
      "INFO:speechbrain.utils.parameter_transfer:Loading pretrained files for: embedding_model, mean_var_norm_emb, classifier, label_encoder\n",
      "/home/gue707/.conda/envs/test/lib/python3.10/site-packages/speechbrain/utils/checkpoints.py:200: FutureWarning: You are using `torch.load` with `weights_only=False` (the current default value), which uses the default pickle module implicitly. It is possible to construct malicious pickle data which will execute arbitrary code during unpickling (See https://github.com/pytorch/pytorch/blob/main/SECURITY.md#untrusted-models for more details). In a future release, the default value for `weights_only` will be flipped to `True`. This limits the functions that could be executed during unpickling. Arbitrary objects will no longer be allowed to be loaded via this mode unless they are explicitly allowlisted by the user via `torch.serialization.add_safe_globals`. We recommend you start setting `weights_only=True` for any use case where you don't have full control of the loaded file. Please open an issue on GitHub for any issues related to this experimental feature.\n",
      "  state_dict = torch.load(path, map_location=device)\n",
      "/home/gue707/.conda/envs/test/lib/python3.10/site-packages/speechbrain/processing/features.py:1311: FutureWarning: You are using `torch.load` with `weights_only=False` (the current default value), which uses the default pickle module implicitly. It is possible to construct malicious pickle data which will execute arbitrary code during unpickling (See https://github.com/pytorch/pytorch/blob/main/SECURITY.md#untrusted-models for more details). In a future release, the default value for `weights_only` will be flipped to `True`. This limits the functions that could be executed during unpickling. Arbitrary objects will no longer be allowed to be loaded via this mode unless they are explicitly allowlisted by the user via `torch.serialization.add_safe_globals`. We recommend you start setting `weights_only=True` for any use case where you don't have full control of the loaded file. Please open an issue on GitHub for any issues related to this experimental feature.\n",
      "  stats = torch.load(path, map_location=device)\n"
     ]
    },
    {
     "name": "stdout",
     "output_type": "stream",
     "text": [
      "Converting audio file to single channel WAV using ffmpeg...\n"
     ]
    },
    {
     "name": "stderr",
     "output_type": "stream",
     "text": [
      "ffmpeg version 6.1.1 Copyright (c) 2000-2023 the FFmpeg developers\n",
      "  built with gcc 11.2.0 (Anaconda gcc)\n",
      "  configuration: --prefix=/croot/ffmpeg_1722024521393/_h_env_placehold_placehold_placehold_placehold_placehold_placehold_placehold_placehold_placehold_placehold_placehold_placehold_placehold_placehold_placehold_placehold_placehold_placehold_placehold_placehold_placehold_placehold_ --cc=/croot/ffmpeg_1722024521393/_build_env/bin/x86_64-conda-linux-gnu-cc --ar=/croot/ffmpeg_1722024521393/_build_env/bin/x86_64-conda-linux-gnu-ar --nm=/croot/ffmpeg_1722024521393/_build_env/bin/x86_64-conda-linux-gnu-nm --ranlib=/croot/ffmpeg_1722024521393/_build_env/bin/x86_64-conda-linux-gnu-ranlib --strip=/croot/ffmpeg_1722024521393/_build_env/bin/x86_64-conda-linux-gnu-strip --disable-doc --enable-swresample --enable-swscale --enable-openssl --enable-libxml2 --enable-libtheora --enable-demuxer=dash --enable-postproc --enable-hardcoded-tables --enable-libfreetype --enable-libharfbuzz --enable-libfontconfig --enable-libdav1d --enable-zlib --enable-libaom --enable-pic --enable-shared --disable-static --disable-gpl --enable-version3 --disable-sdl2 --enable-libopenh264 --enable-libopus --enable-libmp3lame --enable-libopenjpeg --enable-libvorbis --enable-pthreads --enable-libtesseract --enable-libvpx\n",
      "  libavutil      58. 29.100 / 58. 29.100\n",
      "  libavcodec     60. 31.102 / 60. 31.102\n",
      "  libavformat    60. 16.100 / 60. 16.100\n",
      "  libavdevice    60.  3.100 / 60.  3.100\n",
      "  libavfilter     9. 12.100 /  9. 12.100\n",
      "  libswscale      7.  5.100 /  7.  5.100\n",
      "  libswresample   4. 12.100 /  4. 12.100\n",
      "[aist#0:0/pcm_s16le @ 0x2469680] Guessed Channel Layout: stereo\n",
      "Input #0, wav, from 'XtVE-9ywfDc.wav':\n",
      "  Metadata:\n",
      "    encoder         : Lavf60.16.100\n",
      "  Duration: 00:13:24.07, bitrate: 1536 kb/s\n",
      "  Stream #0:0: Audio: pcm_s16le ([1][0][0][0] / 0x0001), 48000 Hz, 2 channels, s16, 1536 kb/s\n",
      "Stream mapping:\n",
      "  Stream #0:0 -> #0:0 (pcm_s16le (native) -> pcm_s16le (native))\n",
      "Press [q] to stop, [?] for help\n",
      "Output #0, wav, to 'XtVE-9ywfDc_converted.wav':\n",
      "  Metadata:\n",
      "    ISFT            : Lavf60.16.100\n",
      "  Stream #0:0: Audio: pcm_s16le ([1][0][0][0] / 0x0001), 16000 Hz, mono, s16, 256 kb/s\n",
      "    Metadata:\n",
      "      encoder         : Lavc60.31.102 pcm_s16le\n",
      "[out#0/wav @ 0x246a240] video:0kB audio:25127kB subtitle:0kB other streams:0kB global headers:0kB muxing overhead: 0.000303%\n",
      "size=   25127kB time=00:13:24.07 bitrate= 256.0kbits/s speed= 293x    \n"
     ]
    },
    {
     "name": "stdout",
     "output_type": "stream",
     "text": [
      "Running VAD...\n",
      "Splitting by silence found 312 utterances\n",
      "Extracting embeddings...\n"
     ]
    },
    {
     "name": "stderr",
     "output_type": "stream",
     "text": [
      "Utterances: 100%|██████████| 312/312 [00:01<00:00, 222.91it/s]\n",
      "/home/gue707/.conda/envs/test/lib/python3.10/site-packages/sklearn/manifold/_spectral_embedding.py:310: UserWarning: Array is not symmetric, and will be converted to symmetric by average with its transpose.\n",
      "  adjacency = check_symmetric(adjacency)\n"
     ]
    },
    {
     "name": "stdout",
     "output_type": "stream",
     "text": [
      "Clustering to 5 speakers...\n",
      "Cleaning up output...\n",
      "Done!\n",
      "Speaker 3 (13.73s - 15.8379375s) saved to output_segments/13_15_speaker_3.wav\n",
      "Speaker 3 (16.29s - 20.0939375s) saved to output_segments/16_20_speaker_3.wav\n",
      "Speaker 3 (21.154s - 23.9339375s) saved to output_segments/21_23_speaker_3.wav\n",
      "Speaker 3 (24.514s - 27.1019375s) saved to output_segments/24_27_speaker_3.wav\n",
      "Speaker 3 (27.426s - 29.0539375s) saved to output_segments/27_29_speaker_3.wav\n",
      "Speaker 3 (29.282s - 30.3339375s) saved to output_segments/29_30_speaker_3.wav\n",
      "Speaker 3 (31.106s - 34.1419375s) saved to output_segments/31_34_speaker_3.wav\n",
      "Speaker 0 (35.458s - 36.7019375s) saved to output_segments/35_36_speaker_0.wav\n",
      "Speaker 0 (37.218s - 39.2939375s) saved to output_segments/37_39_speaker_0.wav\n",
      "Speaker 3 (39.874s - 41.4379375s) saved to output_segments/39_41_speaker_3.wav\n",
      "Speaker 3 (42.21s - 44.6379375s) saved to output_segments/42_44_speaker_3.wav\n",
      "Speaker 3 (46.082s - 47.6779375s) saved to output_segments/46_47_speaker_3.wav\n",
      "Speaker 3 (48.514s - 51.3579375s) saved to output_segments/48_51_speaker_3.wav\n",
      "Speaker 0 (51.938s - 53.4379375s) saved to output_segments/51_53_speaker_0.wav\n",
      "Speaker 0 (53.698s - 56.5739375s) saved to output_segments/53_56_speaker_0.wav\n",
      "Speaker 0 (58.402s - 60.8939375s) saved to output_segments/58_60_speaker_0.wav\n",
      "Speaker 0 (61.89s - 65.7259375s) saved to output_segments/61_65_speaker_0.wav\n",
      "Speaker 0 (65.986s - 68.611s) saved to output_segments/65_68_speaker_0.wav\n",
      "Speaker 3 (68.611s - 69.6939375s) saved to output_segments/68_69_speaker_3.wav\n",
      "Speaker 0 (69.954s - 71.0699375s) saved to output_segments/69_71_speaker_0.wav\n",
      "Speaker 0 (71.65s - 73.525s) saved to output_segments/71_73_speaker_0.wav\n",
      "Speaker 3 (79.106s - 81.5979375s) saved to output_segments/79_81_speaker_3.wav\n",
      "Speaker 3 (82.146s - 83.8699375s) saved to output_segments/82_83_speaker_3.wav\n",
      "Speaker 3 (84.098s - 85.5659375s) saved to output_segments/84_85_speaker_3.wav\n",
      "Speaker 3 (85.794s - 86.8779375s) saved to output_segments/85_86_speaker_3.wav\n",
      "Speaker 0 (87.266s - 88.4139375s) saved to output_segments/87_88_speaker_0.wav\n",
      "Speaker 0 (88.994s - 90.6539375s) saved to output_segments/88_90_speaker_0.wav\n",
      "Speaker 3 (91.202s - 92.3499375s) saved to output_segments/91_92_speaker_3.wav\n",
      "Speaker 3 (92.61s - 94.485s) saved to output_segments/92_94_speaker_3.wav\n",
      "Speaker 0 (94.485s - 95.985s) saved to output_segments/94_95_speaker_0.wav\n",
      "Speaker 3 (95.985s - 105.8539375s) saved to output_segments/95_105_speaker_3.wav\n",
      "Speaker 3 (106.21s - 108.085s) saved to output_segments/106_108_speaker_3.wav\n",
      "Speaker 0 (109.154s - 110.7499375s) saved to output_segments/109_110_speaker_0.wav\n",
      "Speaker 0 (111.01s - 112.2539375s) saved to output_segments/111_112_speaker_0.wav\n",
      "Speaker 0 (112.546s - 115.4539375s) saved to output_segments/112_115_speaker_0.wav\n",
      "Speaker 0 (115.874s - 123.1019375s) saved to output_segments/115_123_speaker_0.wav\n",
      "Speaker 0 (123.362s - 124.487s) saved to output_segments/123_124_speaker_0.wav\n",
      "Speaker 3 (125.25s - 126.9419375s) saved to output_segments/125_126_speaker_3.wav\n",
      "Speaker 3 (127.874s - 130.7179375s) saved to output_segments/127_130_speaker_3.wav\n",
      "Speaker 3 (131.298s - 135.423s) saved to output_segments/131_135_speaker_3.wav\n",
      "Speaker 0 (135.423s - 137.0859375s) saved to output_segments/135_137_speaker_0.wav\n",
      "Speaker 3 (137.282s - 139.3579375s) saved to output_segments/137_139_speaker_3.wav\n",
      "Speaker 0 (139.874s - 141.6939375s) saved to output_segments/139_141_speaker_0.wav\n",
      "Speaker 0 (146.178s - 147.303s) saved to output_segments/146_147_speaker_0.wav\n",
      "Speaker 3 (148.642s - 150.9099375s) saved to output_segments/148_150_speaker_3.wav\n",
      "Speaker 3 (151.81s - 153.4379375s) saved to output_segments/151_153_speaker_3.wav\n",
      "Speaker 0 (153.922s - 155.1339375s) saved to output_segments/153_155_speaker_0.wav\n",
      "Speaker 0 (156.45s - 157.8539375s) saved to output_segments/156_157_speaker_0.wav\n",
      "Speaker 4 (166.85s - 172.1899375s) saved to output_segments/166_172_speaker_4.wav\n",
      "Speaker 4 (172.418s - 175.8379375s) saved to output_segments/172_175_speaker_4.wav\n",
      "Speaker 4 (177.986s - 179.2299375s) saved to output_segments/177_179_speaker_4.wav\n",
      "Speaker 4 (179.746s - 181.3099375s) saved to output_segments/179_181_speaker_4.wav\n",
      "Speaker 4 (182.018s - 183.0699375s) saved to output_segments/182_183_speaker_4.wav\n",
      "Speaker 0 (184.29s - 186.1419375s) saved to output_segments/184_186_speaker_0.wav\n",
      "Speaker 3 (187.298s - 190.5259375s) saved to output_segments/187_190_speaker_3.wav\n",
      "Speaker 3 (191.938s - 193.0219375s) saved to output_segments/191_193_speaker_3.wav\n",
      "Speaker 3 (193.442s - 194.6219375s) saved to output_segments/193_194_speaker_3.wav\n",
      "Speaker 3 (195.01s - 196.0619375s) saved to output_segments/195_196_speaker_3.wav\n",
      "Speaker 3 (196.802s - 198.0459375s) saved to output_segments/196_198_speaker_3.wav\n",
      "Speaker 3 (200.098s - 202.723s) saved to output_segments/200_202_speaker_3.wav\n",
      "Speaker 0 (202.723s - 203.7419375s) saved to output_segments/202_203_speaker_0.wav\n",
      "Speaker 3 (203.874s - 205.0539375s) saved to output_segments/203_205_speaker_3.wav\n",
      "Speaker 3 (205.57s - 206.9419375s) saved to output_segments/205_206_speaker_3.wav\n",
      "Speaker 0 (207.074s - 208.2219375s) saved to output_segments/207_208_speaker_0.wav\n",
      "Speaker 0 (208.61s - 209.9179375s) saved to output_segments/208_209_speaker_0.wav\n",
      "Speaker 0 (210.978s - 213.0219375s) saved to output_segments/210_213_speaker_0.wav\n",
      "Speaker 0 (213.282s - 214.3659375s) saved to output_segments/213_214_speaker_0.wav\n",
      "Speaker 0 (214.658s - 216.7659375s) saved to output_segments/214_216_speaker_0.wav\n",
      "Speaker 0 (217.314s - 218.439s) saved to output_segments/217_218_speaker_0.wav\n",
      "Speaker 4 (219.938s - 221.813s) saved to output_segments/219_221_speaker_4.wav\n",
      "Speaker 0 (223.33s - 224.6059375s) saved to output_segments/223_224_speaker_0.wav\n",
      "Speaker 3 (228.29s - 230.439s) saved to output_segments/228_230_speaker_3.wav\n",
      "Speaker 0 (230.439s - 233.8539375s) saved to output_segments/230_233_speaker_0.wav\n",
      "Speaker 0 (234.306s - 236.181s) saved to output_segments/234_236_speaker_0.wav\n",
      "Speaker 3 (236.181s - 240.7979375s) saved to output_segments/236_240_speaker_3.wav\n",
      "Speaker 3 (243.042s - 246.4939375s) saved to output_segments/243_246_speaker_3.wav\n",
      "Speaker 3 (246.882s - 248.007s) saved to output_segments/246_248_speaker_3.wav\n",
      "Speaker 0 (248.007s - 249.2459375s) saved to output_segments/248_249_speaker_0.wav\n",
      "Speaker 3 (251.042s - 252.7019375s) saved to output_segments/251_252_speaker_3.wav\n",
      "Speaker 3 (252.962s - 256.7659375s) saved to output_segments/252_256_speaker_3.wav\n",
      "Speaker 3 (257.09s - 262.5259375s) saved to output_segments/257_262_speaker_3.wav\n",
      "Speaker 0 (263.65s - 265.6299375s) saved to output_segments/263_265_speaker_0.wav\n",
      "Speaker 3 (266.818s - 269.6619375s) saved to output_segments/266_269_speaker_3.wav\n",
      "Speaker 0 (271.81s - 272.8299375s) saved to output_segments/271_272_speaker_0.wav\n",
      "Speaker 3 (272.994s - 276.5099375s) saved to output_segments/272_276_speaker_3.wav\n",
      "Speaker 0 (276.834s - 280.209s) saved to output_segments/276_280_speaker_0.wav\n",
      "Speaker 3 (281.09s - 282.965s) saved to output_segments/281_282_speaker_3.wav\n",
      "Speaker 0 (282.965s - 284.5419375s) saved to output_segments/282_284_speaker_0.wav\n",
      "Speaker 3 (286.914s - 290.5899375s) saved to output_segments/286_290_speaker_3.wav\n",
      "Speaker 3 (291.266s - 292.7339375s) saved to output_segments/291_292_speaker_3.wav\n",
      "Speaker 3 (293.25s - 297.077s) saved to output_segments/293_297_speaker_3.wav\n",
      "Speaker 0 (297.077s - 298.9419375s) saved to output_segments/297_298_speaker_0.wav\n",
      "Speaker 1 (299.746s - 301.2139375s) saved to output_segments/299_301_speaker_1.wav\n",
      "Speaker 1 (301.73s - 304.1259375s) saved to output_segments/301_304_speaker_1.wav\n",
      "Speaker 1 (305.09s - 311.7099375s) saved to output_segments/305_311_speaker_1.wav\n",
      "Speaker 1 (312.29s - 313.5659375s) saved to output_segments/312_313_speaker_1.wav\n",
      "Speaker 1 (313.986s - 316.7979375s) saved to output_segments/313_316_speaker_1.wav\n",
      "Speaker 0 (317.73s - 318.855s) saved to output_segments/317_318_speaker_0.wav\n",
      "Speaker 1 (318.855s - 320.3179375s) saved to output_segments/318_320_speaker_1.wav\n",
      "Speaker 1 (320.578s - 324.4459375s) saved to output_segments/320_324_speaker_1.wav\n",
      "Speaker 1 (324.962s - 331.0059375s) saved to output_segments/324_331_speaker_1.wav\n",
      "Speaker 1 (331.266s - 336.8619375s) saved to output_segments/331_336_speaker_1.wav\n",
      "Speaker 1 (337.634s - 340.8939375s) saved to output_segments/337_340_speaker_1.wav\n",
      "Speaker 0 (341.538s - 348.5739375s) saved to output_segments/341_348_speaker_0.wav\n",
      "Speaker 0 (349.218s - 350.6859375s) saved to output_segments/349_350_speaker_0.wav\n",
      "Speaker 0 (350.946s - 354.1099375s) saved to output_segments/350_354_speaker_0.wav\n",
      "Speaker 0 (354.562s - 358.0779375s) saved to output_segments/354_358_speaker_0.wav\n",
      "Speaker 3 (358.562s - 359.7739375s) saved to output_segments/358_359_speaker_3.wav\n",
      "Speaker 0 (367.842s - 369.5339375s) saved to output_segments/367_369_speaker_0.wav\n",
      "Speaker 0 (372.194s - 373.4699375s) saved to output_segments/372_373_speaker_0.wav\n",
      "Speaker 2 (373.826s - 375.701s) saved to output_segments/373_375_speaker_2.wav\n",
      "Speaker 0 (381.922s - 383.9659375s) saved to output_segments/381_383_speaker_0.wav\n",
      "Speaker 0 (384.258s - 388.743s) saved to output_segments/384_388_speaker_0.wav\n",
      "Speaker 3 (391.298s - 393.5659375s) saved to output_segments/391_393_speaker_3.wav\n",
      "Speaker 0 (395.81s - 397.685s) saved to output_segments/395_397_speaker_0.wav\n",
      "Speaker 3 (397.685s - 400.685s) saved to output_segments/397_400_speaker_3.wav\n",
      "Speaker 0 (401.666s - 404.5419375s) saved to output_segments/401_404_speaker_0.wav\n",
      "Speaker 3 (404.962s - 406.2059375s) saved to output_segments/404_406_speaker_3.wav\n",
      "Speaker 3 (406.69s - 408.7979375s) saved to output_segments/406_408_speaker_3.wav\n",
      "Speaker 3 (409.442s - 411.5819375s) saved to output_segments/409_411_speaker_3.wav\n",
      "Speaker 0 (414.434s - 416.6699375s) saved to output_segments/414_416_speaker_0.wav\n",
      "Speaker 0 (417.346s - 418.471s) saved to output_segments/417_418_speaker_0.wav\n",
      "Speaker 3 (418.471s - 419.6139375s) saved to output_segments/418_419_speaker_3.wav\n",
      "Speaker 3 (419.906s - 421.031s) saved to output_segments/419_421_speaker_3.wav\n",
      "Speaker 0 (422.754s - 423.879s) saved to output_segments/422_423_speaker_0.wav\n",
      "Speaker 3 (423.879s - 429.5659375s) saved to output_segments/423_429_speaker_3.wav\n",
      "Speaker 0 (430.018s - 431.1339375s) saved to output_segments/430_431_speaker_0.wav\n",
      "Speaker 0 (433.442s - 435.317s) saved to output_segments/433_435_speaker_0.wav\n",
      "Speaker 3 (435.317s - 437.3099375s) saved to output_segments/435_437_speaker_3.wav\n",
      "Speaker 0 (440.226s - 441.6299375s) saved to output_segments/440_441_speaker_0.wav\n",
      "Speaker 0 (442.498s - 443.623s) saved to output_segments/442_443_speaker_0.wav\n",
      "Speaker 3 (443.623s - 445.9179375s) saved to output_segments/443_445_speaker_3.wav\n",
      "Speaker 0 (448.77s - 453.4699375s) saved to output_segments/448_453_speaker_0.wav\n",
      "Speaker 0 (455.394s - 457.2459375s) saved to output_segments/455_457_speaker_0.wav\n",
      "Speaker 0 (458.978s - 459.9979375s) saved to output_segments/458_459_speaker_0.wav\n",
      "Speaker 4 (460.546s - 462.5259375s) saved to output_segments/460_462_speaker_4.wav\n",
      "Speaker 4 (467.362s - 471.5819375s) saved to output_segments/467_471_speaker_4.wav\n",
      "Speaker 4 (473.666s - 475.5819375s) saved to output_segments/473_475_speaker_4.wav\n",
      "Speaker 0 (476.514s - 477.8219375s) saved to output_segments/476_477_speaker_0.wav\n",
      "Speaker 0 (478.146s - 479.271s) saved to output_segments/478_479_speaker_0.wav\n",
      "Speaker 4 (481.73s - 482.7499375s) saved to output_segments/481_482_speaker_4.wav\n",
      "Speaker 4 (483.202s - 485.4699375s) saved to output_segments/483_485_speaker_4.wav\n",
      "Speaker 4 (486.53s - 487.5819375s) saved to output_segments/486_487_speaker_4.wav\n",
      "Speaker 4 (489.442s - 491.1339375s) saved to output_segments/489_491_speaker_4.wav\n",
      "Speaker 4 (493.698s - 496.2219375s) saved to output_segments/493_496_speaker_4.wav\n",
      "Speaker 4 (496.514s - 497.7899375s) saved to output_segments/496_497_speaker_4.wav\n",
      "Speaker 0 (499.298s - 500.6699375s) saved to output_segments/499_500_speaker_0.wav\n",
      "Speaker 3 (501.25s - 505.969s) saved to output_segments/501_505_speaker_3.wav\n",
      "Speaker 0 (505.969s - 507.4219375s) saved to output_segments/505_507_speaker_0.wav\n",
      "Speaker 0 (508.642s - 509.767s) saved to output_segments/508_509_speaker_0.wav\n",
      "Speaker 2 (509.767s - 511.1979375s) saved to output_segments/509_511_speaker_2.wav\n",
      "Speaker 2 (511.714s - 517.1179375s) saved to output_segments/511_517_speaker_2.wav\n",
      "Speaker 2 (517.346s - 518.471s) saved to output_segments/517_518_speaker_2.wav\n",
      "Speaker 2 (519.33s - 520.8619375s) saved to output_segments/519_520_speaker_2.wav\n",
      "Speaker 2 (521.314s - 523.939s) saved to output_segments/521_523_speaker_2.wav\n",
      "Speaker 4 (523.939s - 525.1819375s) saved to output_segments/523_525_speaker_4.wav\n",
      "Speaker 2 (525.826s - 527.701s) saved to output_segments/525_527_speaker_2.wav\n",
      "Speaker 2 (529.09s - 532.5419375s) saved to output_segments/529_532_speaker_2.wav\n",
      "Speaker 4 (532.738s - 534.0779375s) saved to output_segments/532_534_speaker_4.wav\n",
      "Speaker 4 (534.37s - 536.6699375s) saved to output_segments/534_536_speaker_4.wav\n",
      "Speaker 4 (536.93s - 538.1419375s) saved to output_segments/536_538_speaker_4.wav\n",
      "Speaker 4 (539.97s - 542.1419375s) saved to output_segments/539_542_speaker_4.wav\n",
      "Speaker 4 (543.586s - 544.7019375s) saved to output_segments/543_544_speaker_4.wav\n",
      "Speaker 4 (545.474s - 547.8699375s) saved to output_segments/545_547_speaker_4.wav\n",
      "Speaker 4 (548.226s - 550.4939375s) saved to output_segments/548_550_speaker_4.wav\n",
      "Speaker 4 (551.618s - 554.6859375s) saved to output_segments/551_554_speaker_4.wav\n",
      "Speaker 0 (555.586s - 556.7659375s) saved to output_segments/555_556_speaker_0.wav\n",
      "Speaker 4 (559.298s - 561.0539375s) saved to output_segments/559_561_speaker_4.wav\n",
      "Speaker 4 (561.282s - 565.4699375s) saved to output_segments/561_565_speaker_4.wav\n",
      "Speaker 4 (566.018s - 568.3819375s) saved to output_segments/566_568_speaker_4.wav\n",
      "Speaker 4 (569.538s - 571.6139375s) saved to output_segments/569_571_speaker_4.wav\n",
      "Speaker 4 (572.066s - 575.1339375s) saved to output_segments/572_575_speaker_4.wav\n",
      "Speaker 0 (575.938s - 580.181s) saved to output_segments/575_580_speaker_0.wav\n",
      "Speaker 3 (580.181s - 582.5259375s) saved to output_segments/580_582_speaker_3.wav\n",
      "Speaker 3 (583.906s - 589.5019375s) saved to output_segments/583_589_speaker_3.wav\n",
      "Speaker 0 (590.082s - 592.707s) saved to output_segments/590_592_speaker_0.wav\n",
      "Speaker 3 (594.082s - 596.9259375s) saved to output_segments/594_596_speaker_3.wav\n",
      "Speaker 0 (597.282s - 598.9419375s) saved to output_segments/597_598_speaker_0.wav\n",
      "Speaker 0 (599.234s - 600.9579375s) saved to output_segments/599_600_speaker_0.wav\n",
      "Speaker 0 (603.618s - 604.8299375s) saved to output_segments/603_604_speaker_0.wav\n",
      "Speaker 0 (605.698s - 609.5339375s) saved to output_segments/605_609_speaker_0.wav\n",
      "Speaker 3 (610.754s - 615.2939375s) saved to output_segments/610_615_speaker_3.wav\n",
      "Speaker 0 (615.65s - 616.7979375s) saved to output_segments/615_616_speaker_0.wav\n",
      "Speaker 0 (617.122s - 618.1419375s) saved to output_segments/617_618_speaker_0.wav\n",
      "Speaker 2 (619.938s - 621.0539375s) saved to output_segments/619_621_speaker_2.wav\n",
      "Speaker 2 (621.73s - 624.0619375s) saved to output_segments/621_624_speaker_2.wav\n",
      "Speaker 2 (624.482s - 629.7899375s) saved to output_segments/624_629_speaker_2.wav\n",
      "Speaker 2 (630.082s - 633.457s) saved to output_segments/630_633_speaker_2.wav\n",
      "Speaker 4 (633.457s - 634.7819375s) saved to output_segments/633_634_speaker_4.wav\n",
      "Speaker 2 (636.674s - 640.4779375s) saved to output_segments/636_640_speaker_2.wav\n",
      "Speaker 0 (641.058s - 642.3339375s) saved to output_segments/641_642_speaker_0.wav\n",
      "Speaker 0 (642.754s - 644.7659375s) saved to output_segments/642_644_speaker_0.wav\n",
      "Speaker 3 (645.122s - 649.4059375s) saved to output_segments/645_649_speaker_3.wav\n",
      "Speaker 0 (649.794s - 650.9739375s) saved to output_segments/649_650_speaker_0.wav\n",
      "Speaker 3 (651.458s - 652.7979375s) saved to output_segments/651_652_speaker_3.wav\n",
      "Speaker 3 (653.506s - 654.6219375s) saved to output_segments/653_654_speaker_3.wav\n",
      "Speaker 3 (654.978s - 659.7419375s) saved to output_segments/654_659_speaker_3.wav\n",
      "Speaker 3 (660.194s - 661.4059375s) saved to output_segments/660_661_speaker_3.wav\n",
      "Speaker 3 (662.114s - 663.989s) saved to output_segments/662_663_speaker_3.wav\n",
      "Speaker 0 (663.989s - 665.7899375s) saved to output_segments/663_665_speaker_0.wav\n",
      "Speaker 0 (666.242s - 667.6459375s) saved to output_segments/666_667_speaker_0.wav\n",
      "Speaker 0 (667.938s - 669.1179375s) saved to output_segments/667_669_speaker_0.wav\n",
      "Speaker 0 (669.378s - 670.503s) saved to output_segments/669_670_speaker_0.wav\n",
      "Speaker 3 (670.503s - 672.5099375s) saved to output_segments/670_672_speaker_3.wav\n",
      "Speaker 3 (672.77s - 673.895s) saved to output_segments/672_673_speaker_3.wav\n",
      "Speaker 3 (677.282s - 678.8459375s) saved to output_segments/677_678_speaker_3.wav\n",
      "Speaker 3 (681.474s - 683.349s) saved to output_segments/681_683_speaker_3.wav\n",
      "Speaker 0 (687.17s - 688.3179375s) saved to output_segments/687_688_speaker_0.wav\n",
      "Speaker 3 (689.186s - 692.2219375s) saved to output_segments/689_692_speaker_3.wav\n",
      "Speaker 3 (692.738s - 693.863s) saved to output_segments/692_693_speaker_3.wav\n",
      "Speaker 0 (693.863s - 695.5179375s) saved to output_segments/693_695_speaker_0.wav\n",
      "Speaker 2 (696.354s - 698.6219375s) saved to output_segments/696_698_speaker_2.wav\n",
      "Speaker 0 (698.818s - 700.4459375s) saved to output_segments/698_700_speaker_0.wav\n",
      "Speaker 3 (702.914s - 707.039s) saved to output_segments/702_707_speaker_3.wav\n",
      "Speaker 0 (707.039s - 710.8459375s) saved to output_segments/707_710_speaker_0.wav\n",
      "Speaker 3 (711.074s - 713.0539375s) saved to output_segments/711_713_speaker_3.wav\n",
      "Speaker 3 (714.018s - 715.2939375s) saved to output_segments/714_715_speaker_3.wav\n",
      "Speaker 3 (716.706s - 718.3339375s) saved to output_segments/716_718_speaker_3.wav\n",
      "Speaker 3 (719.17s - 720.295s) saved to output_segments/719_720_speaker_3.wav\n",
      "Speaker 0 (720.295s - 722.9739375s) saved to output_segments/720_722_speaker_0.wav\n",
      "Speaker 3 (725.666s - 726.8459375s) saved to output_segments/725_726_speaker_3.wav\n",
      "Speaker 3 (727.234s - 733.609s) saved to output_segments/727_733_speaker_3.wav\n",
      "Speaker 0 (733.609s - 735.0699375s) saved to output_segments/733_735_speaker_0.wav\n",
      "Speaker 0 (735.522s - 737.3419375s) saved to output_segments/735_737_speaker_0.wav\n",
      "Speaker 0 (737.858s - 741.1499375s) saved to output_segments/737_741_speaker_0.wav\n",
      "Speaker 0 (742.626s - 743.8379375s) saved to output_segments/742_743_speaker_0.wav\n",
      "Speaker 0 (745.378s - 746.3979375s) saved to output_segments/745_746_speaker_0.wav\n",
      "Speaker 4 (746.626s - 747.7099375s) saved to output_segments/746_747_speaker_4.wav\n",
      "Speaker 0 (752.706s - 753.7579375s) saved to output_segments/752_753_speaker_0.wav\n",
      "Speaker 0 (755.394s - 756.519s) saved to output_segments/755_756_speaker_0.wav\n",
      "Speaker 3 (756.519s - 757.6299375s) saved to output_segments/756_757_speaker_3.wav\n",
      "Speaker 3 (758.69s - 761.141s) saved to output_segments/758_761_speaker_3.wav\n",
      "Speaker 0 (765.378s - 766.8779375s) saved to output_segments/765_766_speaker_0.wav\n",
      "Speaker 3 (767.618s - 769.493s) saved to output_segments/767_769_speaker_3.wav\n",
      "Speaker 0 (769.493s - 770.6219375s) saved to output_segments/769_770_speaker_0.wav\n",
      "Speaker 0 (771.17s - 772.2859375s) saved to output_segments/771_772_speaker_0.wav\n",
      "Speaker 0 (775.266s - 777.141s) saved to output_segments/775_777_speaker_0.wav\n",
      "Speaker 3 (777.141s - 780.0939375s) saved to output_segments/777_780_speaker_3.wav\n",
      "Speaker 3 (782.018s - 785.2459375s) saved to output_segments/782_785_speaker_3.wav\n"
     ]
    }
   ],
   "source": [
    "import soundfile as sf\n",
    "import matplotlib.pyplot as plt\n",
    "\n",
    "from simple_diarizer.diarizer import Diarizer\n",
    "from simple_diarizer.utils import combined_waveplot\n",
    "\n",
    "diar = Diarizer(\n",
    "                  embed_model='xvec', # 'xvec' and 'ecapa' supported\n",
    "                  cluster_method='sc' # 'ahc' and 'sc' supported\n",
    "               )\n",
    "\n",
    "WAV_FILE = 'XtVE-9ywfDc.wav'\n",
    "\n",
    "NUM_SPEAKERS=5\n",
    "\n",
    "segments = diar.diarize(WAV_FILE, num_speakers=NUM_SPEAKERS)\n",
    "\n",
    "signal, fs = sf.read(WAV_FILE)\n",
    "# 저장할 디렉토리 생성 (없을 경우)\n",
    "output_directory = 'output_segments'\n",
    "os.makedirs(output_directory, exist_ok=True)\n",
    "\n",
    "for seg in segments:\n",
    "    \n",
    "    if seg['end'] - seg['start'] < 1.0:\n",
    "        continue\n",
    "    \n",
    "    start = seg[\"start_sample\"]\n",
    "    end = seg[\"end_sample\"]\n",
    "    speech = signal[start:end]\n",
    "\n",
    "    filename = f\"{int(seg['start'])}_{int(seg['end'])}_speaker_{seg['label']}.wav\"\n",
    "    file_path = os.path.join(output_directory, filename)\n",
    "\n",
    "    sf.write(file_path, speech, fs)\n",
    "\n",
    "    print(f\"Speaker {seg['label']} ({seg['start']}s - {seg['end']}s) saved to {file_path}\")\n",
    "        "
   ]
  },
  {
   "cell_type": "code",
   "execution_count": 48,
   "metadata": {},
   "outputs": [
    {
     "name": "stderr",
     "output_type": "stream",
     "text": [
      "  0%|          | 0/239 [00:00<?, ?it/s]INFO:faster_whisper:Processing audio with duration 00:00.625\n",
      "  0%|          | 1/239 [00:07<29:23,  7.41s/it]"
     ]
    },
    {
     "name": "stdout",
     "output_type": "stream",
     "text": [
      "D: 오오호\n"
     ]
    },
    {
     "name": "stderr",
     "output_type": "stream",
     "text": [
      "INFO:faster_whisper:Processing audio with duration 00:00.532\n",
      "  1%|          | 2/239 [00:19<40:30, 10.25s/it]"
     ]
    },
    {
     "name": "stdout",
     "output_type": "stream",
     "text": [
      "A: 저씨의 주인공을 받았을 때까지 했다\n"
     ]
    },
    {
     "name": "stderr",
     "output_type": "stream",
     "text": [
      "INFO:faster_whisper:Processing audio with duration 00:00.415\n",
      "  1%|▏         | 3/239 [00:30<42:00, 10.68s/it]"
     ]
    },
    {
     "name": "stdout",
     "output_type": "stream",
     "text": [
      "A: 일본의 자리에 의혹한 것으로 보인 것으로 보인다\n"
     ]
    },
    {
     "name": "stderr",
     "output_type": "stream",
     "text": [
      "INFO:faster_whisper:Processing audio with duration 00:00.969\n",
      "  2%|▏         | 4/239 [00:37<36:09,  9.23s/it]"
     ]
    },
    {
     "name": "stdout",
     "output_type": "stream",
     "text": [
      "A: 저씨는 이 쩜 이 쩜 이 쩜 이 쩜 이 쩜 이 쩜 이 쩜\n"
     ]
    },
    {
     "name": "stderr",
     "output_type": "stream",
     "text": [
      "INFO:faster_whisper:Processing audio with duration 00:02.409\n",
      "  2%|▏         | 5/239 [00:44<32:10,  8.25s/it]"
     ]
    },
    {
     "name": "stdout",
     "output_type": "stream",
     "text": [
      "A: 그런데 왜 다 먹는다\n"
     ]
    },
    {
     "name": "stderr",
     "output_type": "stream",
     "text": [
      "INFO:faster_whisper:Processing audio with duration 00:00.375\n",
      "  3%|▎         | 6/239 [00:56<37:12,  9.58s/it]"
     ]
    },
    {
     "name": "stdout",
     "output_type": "stream",
     "text": [
      "A: 감사일에 없었을 때까지도 인정될 때까지 했다\n"
     ]
    },
    {
     "name": "stderr",
     "output_type": "stream",
     "text": [
      "INFO:faster_whisper:Processing audio with duration 00:00.564\n",
      "  3%|▎         | 7/239 [01:09<41:14, 10.67s/it]"
     ]
    },
    {
     "name": "stdout",
     "output_type": "stream",
     "text": [
      "D: 홍의 자리에 의혹한다고 말했다\n"
     ]
    },
    {
     "name": "stderr",
     "output_type": "stream",
     "text": [
      "INFO:faster_whisper:Processing audio with duration 00:00.948\n",
      "  3%|▎         | 8/239 [01:16<36:13,  9.41s/it]"
     ]
    },
    {
     "name": "stdout",
     "output_type": "stream",
     "text": [
      "D: 애 왜 저런\n"
     ]
    },
    {
     "name": "stderr",
     "output_type": "stream",
     "text": [
      "INFO:faster_whisper:Processing audio with duration 00:01.375\n",
      "  4%|▍         | 9/239 [01:25<36:07,  9.43s/it]"
     ]
    },
    {
     "name": "stdout",
     "output_type": "stream",
     "text": [
      "D: 저씨의 주인은 이 소식으로써도 이 소식이 있어서는 이 소식은 이 소식으로써도 이 소식으로써도 이 소식으로써도 이 소식으로써도 이 소식이 있습니다\n"
     ]
    },
    {
     "name": "stderr",
     "output_type": "stream",
     "text": [
      "INFO:faster_whisper:Processing audio with duration 00:00.554\n",
      "  4%|▍         | 10/239 [01:38<39:45, 10.42s/it]"
     ]
    },
    {
     "name": "stdout",
     "output_type": "stream",
     "text": [
      "A: 몇 논의로 할인 것으로 보인 것으로 보인다\n"
     ]
    },
    {
     "name": "stderr",
     "output_type": "stream",
     "text": [
      "INFO:faster_whisper:Processing audio with duration 00:00.692\n",
      "  5%|▍         | 11/239 [01:45<35:31,  9.35s/it]"
     ]
    },
    {
     "name": "stdout",
     "output_type": "stream",
     "text": [
      "D: 저씨는 이 쩜 이 쩜 이 쩜 이 쩜\n"
     ]
    },
    {
     "name": "stderr",
     "output_type": "stream",
     "text": [
      "INFO:faster_whisper:Processing audio with duration 00:00.607\n",
      "  5%|▌         | 12/239 [01:57<38:26, 10.16s/it]"
     ]
    },
    {
     "name": "stdout",
     "output_type": "stream",
     "text": [
      "A: 전날 밤샘을 잃지 않았다\n"
     ]
    },
    {
     "name": "stderr",
     "output_type": "stream",
     "text": [
      "INFO:faster_whisper:Processing audio with duration 00:00.703\n",
      "  5%|▌         | 13/239 [02:08<39:38, 10.52s/it]"
     ]
    },
    {
     "name": "stdout",
     "output_type": "stream",
     "text": [
      "D: 홍보된다고 말했다\n"
     ]
    },
    {
     "name": "stderr",
     "output_type": "stream",
     "text": [
      "INFO:faster_whisper:Processing audio with duration 00:00.375\n",
      "  6%|▌         | 14/239 [02:20<40:37, 10.83s/it]"
     ]
    },
    {
     "name": "stdout",
     "output_type": "stream",
     "text": [
      "A: 저씨의 주인공을 받았을 때까지 하기도 했다\n"
     ]
    },
    {
     "name": "stderr",
     "output_type": "stream",
     "text": [
      "INFO:faster_whisper:Processing audio with duration 00:00.756\n",
      "  6%|▋         | 15/239 [02:26<35:47,  9.59s/it]"
     ]
    },
    {
     "name": "stdout",
     "output_type": "stream",
     "text": [
      "D: 태발을 통한다고 말했다\n"
     ]
    },
    {
     "name": "stderr",
     "output_type": "stream",
     "text": [
      "INFO:faster_whisper:Processing audio with duration 00:00.543\n",
      "  7%|▋         | 16/239 [02:39<39:07, 10.53s/it]INFO:faster_whisper:Processing audio with duration 00:00.404\n"
     ]
    },
    {
     "name": "stdout",
     "output_type": "stream",
     "text": [
      "D: 홍빛은 이곳에서 계속될 것으로 보인다고 하였습니다\n"
     ]
    },
    {
     "name": "stderr",
     "output_type": "stream",
     "text": [
      "  7%|▋         | 17/239 [02:46<34:45,  9.39s/it]"
     ]
    },
    {
     "name": "stdout",
     "output_type": "stream",
     "text": [
      "A: 저씨는 이 쩜 이 쩜 이 쩜 이 쩜 이 쩜\n"
     ]
    },
    {
     "name": "stderr",
     "output_type": "stream",
     "text": [
      "INFO:faster_whisper:Processing audio with duration 00:00.468\n",
      "  8%|▊         | 18/239 [03:00<40:26, 10.98s/it]"
     ]
    },
    {
     "name": "stdout",
     "output_type": "stream",
     "text": [
      "A: 저씨는 이 논의에 의견을 갖추고 있다\n"
     ]
    },
    {
     "name": "stderr",
     "output_type": "stream",
     "text": [
      "INFO:faster_whisper:Processing audio with duration 00:01.780\n",
      "  8%|▊         | 19/239 [03:07<35:27,  9.67s/it]"
     ]
    },
    {
     "name": "stdout",
     "output_type": "stream",
     "text": [
      "E: 저씨는 너무 시원한 게 너무 시원해\n"
     ]
    },
    {
     "name": "stderr",
     "output_type": "stream",
     "text": [
      "INFO:faster_whisper:Processing audio with duration 00:01.268\n",
      "  8%|▊         | 20/239 [03:14<31:57,  8.75s/it]"
     ]
    },
    {
     "name": "stdout",
     "output_type": "stream",
     "text": [
      "D: 네 잘하셨습니다\n"
     ]
    },
    {
     "name": "stderr",
     "output_type": "stream",
     "text": [
      "INFO:faster_whisper:Processing audio with duration 00:01.140\n",
      "  9%|▉         | 21/239 [03:27<36:34, 10.07s/it]"
     ]
    },
    {
     "name": "stdout",
     "output_type": "stream",
     "text": [
      "E: 일본의 자리에 의혹한다고 말했다\n"
     ]
    },
    {
     "name": "stderr",
     "output_type": "stream",
     "text": [
      "INFO:faster_whisper:Processing audio with duration 00:00.415\n",
      "  9%|▉         | 22/239 [03:40<39:32, 10.93s/it]"
     ]
    },
    {
     "name": "stdout",
     "output_type": "stream",
     "text": [
      "E: 그리고 이 금방에서 계속될 것으로 보인다\n"
     ]
    },
    {
     "name": "stderr",
     "output_type": "stream",
     "text": [
      "INFO:faster_whisper:Processing audio with duration 00:00.521\n",
      " 10%|▉         | 23/239 [03:47<34:54,  9.70s/it]INFO:faster_whisper:Processing audio with duration 00:00.351\n"
     ]
    },
    {
     "name": "stdout",
     "output_type": "stream",
     "text": [
      "E: 불편으로써는 불편함이 불편함이 불편함이 불편함이다\n"
     ]
    },
    {
     "name": "stderr",
     "output_type": "stream",
     "text": [
      " 10%|█         | 24/239 [03:58<36:21, 10.14s/it]"
     ]
    },
    {
     "name": "stdout",
     "output_type": "stream",
     "text": [
      "E: 홍보된다고 말했다\n"
     ]
    },
    {
     "name": "stderr",
     "output_type": "stream",
     "text": [
      "INFO:faster_whisper:Processing audio with duration 00:00.617\n",
      " 10%|█         | 25/239 [04:11<39:36, 11.10s/it]"
     ]
    },
    {
     "name": "stdout",
     "output_type": "stream",
     "text": [
      "A: 감사합니다\n"
     ]
    },
    {
     "name": "stderr",
     "output_type": "stream",
     "text": [
      "INFO:faster_whisper:Processing audio with duration 00:01.076\n",
      " 11%|█         | 26/239 [04:18<34:42,  9.78s/it]INFO:faster_whisper:Processing audio with duration 00:00.361\n"
     ]
    },
    {
     "name": "stdout",
     "output_type": "stream",
     "text": [
      "D: 무시한 이것도\n"
     ]
    },
    {
     "name": "stderr",
     "output_type": "stream",
     "text": [
      " 11%|█▏        | 27/239 [04:28<35:20, 10.00s/it]"
     ]
    },
    {
     "name": "stdout",
     "output_type": "stream",
     "text": [
      "D: 하이\n"
     ]
    },
    {
     "name": "stderr",
     "output_type": "stream",
     "text": [
      "INFO:faster_whisper:Processing audio with duration 00:00.393\n",
      " 12%|█▏        | 28/239 [04:35<31:44,  9.03s/it]INFO:faster_whisper:Processing audio with duration 00:00.351\n"
     ]
    },
    {
     "name": "stdout",
     "output_type": "stream",
     "text": [
      "D: 그 방법일 수 있도록 할 수 있는 방법일 수 있도록 할 수 있는 방법\n"
     ]
    },
    {
     "name": "stderr",
     "output_type": "stream",
     "text": [
      " 12%|█▏        | 29/239 [04:48<35:30, 10.15s/it]"
     ]
    },
    {
     "name": "stdout",
     "output_type": "stream",
     "text": [
      "D:  학년 자막 제공 및 자막 제공 및 자막 제공 및 광고를 포기하고 있습니다\n"
     ]
    },
    {
     "name": "stderr",
     "output_type": "stream",
     "text": [
      "INFO:faster_whisper:Processing audio with duration 00:00.415\n",
      " 13%|█▎        | 30/239 [04:58<35:42, 10.25s/it]"
     ]
    },
    {
     "name": "stdout",
     "output_type": "stream",
     "text": [
      "D: 몇 논의를 받았다\n"
     ]
    },
    {
     "name": "stderr",
     "output_type": "stream",
     "text": [
      "INFO:faster_whisper:Processing audio with duration 00:00.875\n",
      " 13%|█▎        | 31/239 [05:05<32:06,  9.26s/it]"
     ]
    },
    {
     "name": "stdout",
     "output_type": "stream",
     "text": [
      "D: 저씨는 이 쩜 이 쩜 이 쩜 이 쩜 이 쩜 이 쩜\n"
     ]
    },
    {
     "name": "stderr",
     "output_type": "stream",
     "text": [
      "INFO:faster_whisper:Processing audio with duration 00:00.340\n",
      " 13%|█▎        | 32/239 [05:20<37:38, 10.91s/it]"
     ]
    },
    {
     "name": "stdout",
     "output_type": "stream",
     "text": [
      "A: 저씨는 이 논의에 의견을 갖추고 있다\n"
     ]
    },
    {
     "name": "stderr",
     "output_type": "stream",
     "text": [
      "INFO:faster_whisper:Processing audio with duration 00:00.393\n",
      " 14%|█▍        | 33/239 [05:28<34:11,  9.96s/it]INFO:faster_whisper:Processing audio with duration 00:00.457\n"
     ]
    },
    {
     "name": "stdout",
     "output_type": "stream",
     "text": [
      "D: 저씨의 주장은 이 소식은 이 소식은 이 소식은 이 소식은 이 소식은 이 소식은 이 소식은 이 소식은 이 소식으로부터 면접게 됐습니다\n"
     ]
    },
    {
     "name": "stderr",
     "output_type": "stream",
     "text": [
      " 14%|█▍        | 34/239 [05:42<38:17, 11.21s/it]"
     ]
    },
    {
     "name": "stdout",
     "output_type": "stream",
     "text": [
      "D: 홍장의 자막 제공 및 자막 제공 및 자막 제공 및 광고를 포기했다\n"
     ]
    },
    {
     "name": "stderr",
     "output_type": "stream",
     "text": [
      "INFO:faster_whisper:Processing audio with duration 00:00.383\n",
      " 15%|█▍        | 35/239 [05:54<39:07, 11.51s/it]"
     ]
    },
    {
     "name": "stdout",
     "output_type": "stream",
     "text": [
      "A: 일본의 자리에 대해 설명해 주셔서 감사합니다\n"
     ]
    },
    {
     "name": "stderr",
     "output_type": "stream",
     "text": [
      "INFO:faster_whisper:Processing audio with duration 00:00.436\n",
      " 15%|█▌        | 36/239 [06:07<39:54, 11.79s/it]"
     ]
    },
    {
     "name": "stdout",
     "output_type": "stream",
     "text": [
      "A: 몇 논의를 갖추고 있다\n"
     ]
    },
    {
     "name": "stderr",
     "output_type": "stream",
     "text": [
      "INFO:faster_whisper:Processing audio with duration 00:00.681\n",
      " 15%|█▌        | 37/239 [06:19<40:25, 12.01s/it]"
     ]
    },
    {
     "name": "stdout",
     "output_type": "stream",
     "text": [
      "A: 축구를 할 수 있도록 할 수 있도록 할 수 있다\n"
     ]
    },
    {
     "name": "stderr",
     "output_type": "stream",
     "text": [
      "INFO:faster_whisper:Processing audio with duration 00:00.361\n",
      " 16%|█▌        | 38/239 [06:32<40:58, 12.23s/it]"
     ]
    },
    {
     "name": "stdout",
     "output_type": "stream",
     "text": [
      "A: 그리고 차량을 갖춰서는 적용 여동생이었습니다\n"
     ]
    },
    {
     "name": "stderr",
     "output_type": "stream",
     "text": [
      "INFO:faster_whisper:Processing audio with duration 00:00.703\n",
      " 16%|█▋        | 39/239 [06:39<35:23, 10.62s/it]"
     ]
    },
    {
     "name": "stdout",
     "output_type": "stream",
     "text": [
      "A: 저씨도 쩜 쩜 쩜 쩜 쩜\n"
     ]
    },
    {
     "name": "stderr",
     "output_type": "stream",
     "text": [
      "INFO:faster_whisper:Processing audio with duration 00:00.375\n",
      " 17%|█▋        | 40/239 [06:46<31:40,  9.55s/it]"
     ]
    },
    {
     "name": "stdout",
     "output_type": "stream",
     "text": [
      "A: 저씨는 이 논의에 있어서는 이 논의에 있어서는 이 논의에 있겠습니다\n"
     ]
    },
    {
     "name": "stderr",
     "output_type": "stream",
     "text": [
      "INFO:faster_whisper:Processing audio with duration 00:00.625\n",
      " 17%|█▋        | 41/239 [06:53<28:51,  8.74s/it]"
     ]
    },
    {
     "name": "stdout",
     "output_type": "stream",
     "text": [
      "E: 어떨까\n"
     ]
    },
    {
     "name": "stderr",
     "output_type": "stream",
     "text": [
      "INFO:faster_whisper:Processing audio with duration 00:00.927\n",
      " 18%|█▊        | 42/239 [07:05<32:19,  9.85s/it]"
     ]
    },
    {
     "name": "stdout",
     "output_type": "stream",
     "text": [
      "D: 홍병을 갖추고 있다고 말했다\n"
     ]
    },
    {
     "name": "stderr",
     "output_type": "stream",
     "text": [
      "INFO:faster_whisper:Processing audio with duration 00:00.425\n",
      " 18%|█▊        | 43/239 [07:12<29:21,  8.99s/it]"
     ]
    },
    {
     "name": "stdout",
     "output_type": "stream",
     "text": [
      "A: 지도\n"
     ]
    },
    {
     "name": "stderr",
     "output_type": "stream",
     "text": [
      "INFO:faster_whisper:Processing audio with duration 00:00.716\n",
      " 18%|█▊        | 44/239 [07:23<31:10,  9.59s/it]"
     ]
    },
    {
     "name": "stdout",
     "output_type": "stream",
     "text": [
      "D: 저씨의 주인공을 받았을 때까지 했을 때까지 했다\n"
     ]
    },
    {
     "name": "stderr",
     "output_type": "stream",
     "text": [
      "INFO:faster_whisper:Processing audio with duration 00:01.138\n",
      " 19%|█▉        | 45/239 [07:38<36:19, 11.24s/it]"
     ]
    },
    {
     "name": "stdout",
     "output_type": "stream",
     "text": [
      "A: 홍보된다고 말했다\n"
     ]
    },
    {
     "name": "stderr",
     "output_type": "stream",
     "text": [
      "INFO:faster_whisper:Processing audio with duration 00:00.625\n",
      " 19%|█▉        | 46/239 [07:52<38:21, 11.93s/it]"
     ]
    },
    {
     "name": "stdout",
     "output_type": "stream",
     "text": [
      "A: 홍보된다고 말했다\n"
     ]
    },
    {
     "name": "stderr",
     "output_type": "stream",
     "text": [
      "INFO:faster_whisper:Processing audio with duration 00:01.539\n",
      " 20%|█▉        | 47/239 [07:58<33:11, 10.37s/it]"
     ]
    },
    {
     "name": "stdout",
     "output_type": "stream",
     "text": [
      "D: 무한호대 시즌 투 록\n"
     ]
    },
    {
     "name": "stderr",
     "output_type": "stream",
     "text": [
      "INFO:faster_whisper:Processing audio with duration 00:01.151\n",
      " 20%|██        | 48/239 [08:10<34:02, 10.70s/it]"
     ]
    },
    {
     "name": "stdout",
     "output_type": "stream",
     "text": [
      "D: 일날 밤샘을 잃지 않았다\n"
     ]
    },
    {
     "name": "stderr",
     "output_type": "stream",
     "text": [
      "INFO:faster_whisper:Processing audio with duration 00:00.375\n",
      " 21%|██        | 49/239 [08:19<32:41, 10.32s/it]"
     ]
    },
    {
     "name": "stdout",
     "output_type": "stream",
     "text": [
      "D: 감사합니다\n"
     ]
    },
    {
     "name": "stderr",
     "output_type": "stream",
     "text": [
      "INFO:faster_whisper:Processing audio with duration 00:00.413\n",
      " 21%|██        | 50/239 [08:26<29:17,  9.30s/it]"
     ]
    },
    {
     "name": "stdout",
     "output_type": "stream",
     "text": [
      "A: 저씨는 이 쩜 이 쩜 이 쩜\n"
     ]
    },
    {
     "name": "stderr",
     "output_type": "stream",
     "text": [
      "INFO:faster_whisper:Processing audio with duration 00:00.863\n",
      " 21%|██▏       | 51/239 [08:40<33:26, 10.67s/it]"
     ]
    },
    {
     "name": "stdout",
     "output_type": "stream",
     "text": [
      "D: 저씨의 손가락으로 덮어져 있었는데요\n"
     ]
    },
    {
     "name": "stderr",
     "output_type": "stream",
     "text": [
      "INFO:faster_whisper:Processing audio with duration 00:00.553\n",
      " 22%|██▏       | 52/239 [08:54<36:27, 11.70s/it]"
     ]
    },
    {
     "name": "stdout",
     "output_type": "stream",
     "text": [
      "D: 그리고 그는 이 논의에 의혹의 주장은 이 논의에 의혹의 주장이다\n"
     ]
    },
    {
     "name": "stderr",
     "output_type": "stream",
     "text": [
      "INFO:faster_whisper:Processing audio with duration 00:01.268\n",
      " 22%|██▏       | 53/239 [09:01<31:49, 10.27s/it]"
     ]
    },
    {
     "name": "stdout",
     "output_type": "stream",
     "text": [
      "D: 고개인이 댓글도 돼\n"
     ]
    },
    {
     "name": "stderr",
     "output_type": "stream",
     "text": [
      "INFO:faster_whisper:Processing audio with duration 00:01.812\n",
      " 23%|██▎       | 54/239 [09:08<28:38,  9.29s/it]"
     ]
    },
    {
     "name": "stdout",
     "output_type": "stream",
     "text": [
      "D: 절대 못한다\n"
     ]
    },
    {
     "name": "stderr",
     "output_type": "stream",
     "text": [
      "INFO:faster_whisper:Processing audio with duration 00:00.660\n",
      " 23%|██▎       | 55/239 [09:15<26:18,  8.58s/it]"
     ]
    },
    {
     "name": "stdout",
     "output_type": "stream",
     "text": [
      "A: 저씨는 이 쩜 이 쩜 이 쩜\n"
     ]
    },
    {
     "name": "stderr",
     "output_type": "stream",
     "text": [
      "INFO:faster_whisper:Processing audio with duration 00:00.948\n",
      " 23%|██▎       | 56/239 [09:22<24:39,  8.08s/it]"
     ]
    },
    {
     "name": "stdout",
     "output_type": "stream",
     "text": [
      "D: 그로 늘려요\n"
     ]
    },
    {
     "name": "stderr",
     "output_type": "stream",
     "text": [
      "INFO:faster_whisper:Processing audio with duration 00:00.340\n",
      " 24%|██▍       | 57/239 [09:34<27:46,  9.16s/it]"
     ]
    },
    {
     "name": "stdout",
     "output_type": "stream",
     "text": [
      "A: 몇 논의를 받았다.\n"
     ]
    },
    {
     "name": "stderr",
     "output_type": "stream",
     "text": [
      "INFO:faster_whisper:Processing audio with duration 00:01.172\n",
      " 24%|██▍       | 58/239 [09:43<27:59,  9.28s/it]"
     ]
    },
    {
     "name": "stdout",
     "output_type": "stream",
     "text": [
      "D: 못하는 이유가 없지 않다\n"
     ]
    },
    {
     "name": "stderr",
     "output_type": "stream",
     "text": [
      "INFO:faster_whisper:Processing audio with duration 00:01.125\n",
      " 25%|██▍       | 59/239 [09:50<25:34,  8.53s/it]"
     ]
    },
    {
     "name": "stdout",
     "output_type": "stream",
     "text": [
      "A: 요즘 세상에\n"
     ]
    },
    {
     "name": "stderr",
     "output_type": "stream",
     "text": [
      "INFO:faster_whisper:Processing audio with duration 00:00.543\n",
      " 25%|██▌       | 60/239 [10:01<27:17,  9.15s/it]"
     ]
    },
    {
     "name": "stdout",
     "output_type": "stream",
     "text": [
      "D: 홍보명의 주인공 및 광고를 포기한다\n"
     ]
    },
    {
     "name": "stderr",
     "output_type": "stream",
     "text": [
      "INFO:faster_whisper:Processing audio with duration 00:00.625\n",
      " 26%|██▌       | 61/239 [10:11<28:14,  9.52s/it]"
     ]
    },
    {
     "name": "stdout",
     "output_type": "stream",
     "text": [
      "D: 전날 밤샘을 잃지 않았다\n"
     ]
    },
    {
     "name": "stderr",
     "output_type": "stream",
     "text": [
      "INFO:faster_whisper:Processing audio with duration 00:00.526\n",
      " 26%|██▌       | 62/239 [10:22<29:28,  9.99s/it]"
     ]
    },
    {
     "name": "stdout",
     "output_type": "stream",
     "text": [
      "A: 저씨는 영감스러웠다\n"
     ]
    },
    {
     "name": "stderr",
     "output_type": "stream",
     "text": [
      "INFO:faster_whisper:Processing audio with duration 00:01.225\n",
      " 26%|██▋       | 63/239 [10:30<27:16,  9.30s/it]"
     ]
    },
    {
     "name": "stdout",
     "output_type": "stream",
     "text": [
      "D: 뉴 시즌 오 뇌로는 추억을 받았다\n"
     ]
    },
    {
     "name": "stderr",
     "output_type": "stream",
     "text": [
      "INFO:faster_whisper:Processing audio with duration 00:00.489\n",
      " 27%|██▋       | 64/239 [10:41<28:40,  9.83s/it]"
     ]
    },
    {
     "name": "stdout",
     "output_type": "stream",
     "text": [
      "D: 그럭 많다\n"
     ]
    },
    {
     "name": "stderr",
     "output_type": "stream",
     "text": [
      "INFO:faster_whisper:Processing audio with duration 00:01.276\n",
      " 27%|██▋       | 65/239 [10:49<27:21,  9.43s/it]"
     ]
    },
    {
     "name": "stdout",
     "output_type": "stream",
     "text": [
      "D: 희손들 문을 열었다\n"
     ]
    },
    {
     "name": "stderr",
     "output_type": "stream",
     "text": [
      "INFO:faster_whisper:Processing audio with duration 00:00.622\n",
      " 28%|██▊       | 66/239 [10:58<26:22,  9.15s/it]"
     ]
    },
    {
     "name": "stdout",
     "output_type": "stream",
     "text": [
      "A: 분명히 봐\n"
     ]
    },
    {
     "name": "stderr",
     "output_type": "stream",
     "text": [
      "INFO:faster_whisper:Processing audio with duration 00:00.489\n",
      " 28%|██▊       | 67/239 [11:09<27:49,  9.70s/it]"
     ]
    },
    {
     "name": "stdout",
     "output_type": "stream",
     "text": [
      "B: 저씨는 이 쩜 이 쩜 이 쩜 이 쩜 이 쩜 이 쩜 이 쩜\n"
     ]
    },
    {
     "name": "stderr",
     "output_type": "stream",
     "text": [
      "INFO:faster_whisper:Processing audio with duration 00:00.351\n",
      " 28%|██▊       | 68/239 [11:17<26:31,  9.30s/it]"
     ]
    },
    {
     "name": "stdout",
     "output_type": "stream",
     "text": [
      "D: 몇 논의로는 이 논의로는 이 논의를 받았다\n"
     ]
    },
    {
     "name": "stderr",
     "output_type": "stream",
     "text": [
      "INFO:faster_whisper:Processing audio with duration 00:00.799\n",
      " 29%|██▉       | 69/239 [11:26<25:42,  9.07s/it]"
     ]
    },
    {
     "name": "stdout",
     "output_type": "stream",
     "text": [
      "B: 그렇게 될 거다\n"
     ]
    },
    {
     "name": "stderr",
     "output_type": "stream",
     "text": [
      "INFO:faster_whisper:Processing audio with duration 00:02.207\n",
      " 29%|██▉       | 70/239 [11:34<25:01,  8.88s/it]"
     ]
    },
    {
     "name": "stdout",
     "output_type": "stream",
     "text": [
      "B: 라는 얘기들을 반영합니다\n"
     ]
    },
    {
     "name": "stderr",
     "output_type": "stream",
     "text": [
      "INFO:faster_whisper:Processing audio with duration 00:00.425\n",
      " 30%|██▉       | 71/239 [11:43<25:13,  9.01s/it]"
     ]
    },
    {
     "name": "stdout",
     "output_type": "stream",
     "text": [
      "B: 네\n"
     ]
    },
    {
     "name": "stderr",
     "output_type": "stream",
     "text": [
      "INFO:faster_whisper:Processing audio with duration 00:00.937\n",
      " 30%|███       | 72/239 [12:00<31:31, 11.32s/it]"
     ]
    },
    {
     "name": "stdout",
     "output_type": "stream",
     "text": [
      "B: 나는 누구 질렁대로는 누구 질렁대로는 누구 질렁대로라\n"
     ]
    },
    {
     "name": "stderr",
     "output_type": "stream",
     "text": [
      "INFO:faster_whisper:Processing audio with duration 00:00.375\n",
      " 31%|███       | 73/239 [12:14<33:30, 12.11s/it]"
     ]
    },
    {
     "name": "stdout",
     "output_type": "stream",
     "text": [
      "A: 감사실의 자리에 가진 이후나 의원의 자리에 가진 이후나 의원의 자리에 가진 이후나 의원을 갖추고 있다고 말했다\n"
     ]
    },
    {
     "name": "stderr",
     "output_type": "stream",
     "text": [
      "INFO:faster_whisper:Processing audio with duration 00:00.488\n",
      " 31%|███       | 74/239 [12:23<30:56, 11.25s/it]"
     ]
    },
    {
     "name": "stdout",
     "output_type": "stream",
     "text": [
      "B: 올림픽이다\n"
     ]
    },
    {
     "name": "stderr",
     "output_type": "stream",
     "text": [
      "INFO:faster_whisper:Processing audio with duration 00:01.012\n",
      " 31%|███▏      | 75/239 [12:36<31:50, 11.65s/it]"
     ]
    },
    {
     "name": "stdout",
     "output_type": "stream",
     "text": [
      "D: 몇 지켜보려고 한 마디 남은 이 자리에 대해 더욱더 더욱더 더욱더 더욱더 더욱더 더욱더 더욱더 더욱더 더욱더 더욱더 더욱더\n"
     ]
    },
    {
     "name": "stderr",
     "output_type": "stream",
     "text": [
      "INFO:faster_whisper:Processing audio with duration 00:01.289\n",
      " 32%|███▏      | 76/239 [12:46<30:38, 11.28s/it]"
     ]
    },
    {
     "name": "stdout",
     "output_type": "stream",
     "text": [
      "B: 그리고 스로티릭을 해서 진짜 다니고\n"
     ]
    },
    {
     "name": "stderr",
     "output_type": "stream",
     "text": [
      "INFO:faster_whisper:Processing audio with duration 00:02.015\n",
      " 32%|███▏      | 77/239 [12:53<26:48,  9.93s/it]"
     ]
    },
    {
     "name": "stdout",
     "output_type": "stream",
     "text": [
      "B: 그게 좀 아기 없어\n"
     ]
    },
    {
     "name": "stderr",
     "output_type": "stream",
     "text": [
      "INFO:faster_whisper:Processing audio with duration 00:01.865\n",
      " 33%|███▎      | 78/239 [13:00<23:56,  8.92s/it]"
     ]
    },
    {
     "name": "stdout",
     "output_type": "stream",
     "text": [
      "B:  행복한 거리가 없다\n"
     ]
    },
    {
     "name": "stderr",
     "output_type": "stream",
     "text": [
      "INFO:faster_whisper:Processing audio with duration 00:01.087\n",
      " 33%|███▎      | 79/239 [13:07<22:51,  8.57s/it]"
     ]
    },
    {
     "name": "stdout",
     "output_type": "stream",
     "text": [
      "B: 우리 뿐만이 아니고 저국뿐만 아니라\n"
     ]
    },
    {
     "name": "stderr",
     "output_type": "stream",
     "text": [
      "INFO:faster_whisper:Processing audio with duration 00:02.345\n",
      " 33%|███▎      | 80/239 [13:14<21:16,  8.03s/it]"
     ]
    },
    {
     "name": "stdout",
     "output_type": "stream",
     "text": [
      "A: 그리고 전체가 나라다\n"
     ]
    },
    {
     "name": "stderr",
     "output_type": "stream",
     "text": [
      "INFO:faster_whisper:Processing audio with duration 00:00.489\n",
      " 34%|███▍      | 81/239 [13:27<25:02,  9.51s/it]"
     ]
    },
    {
     "name": "stdout",
     "output_type": "stream",
     "text": [
      "A: 하자\n"
     ]
    },
    {
     "name": "stderr",
     "output_type": "stream",
     "text": [
      "INFO:faster_whisper:Processing audio with duration 00:01.055\n",
      " 34%|███▍      | 82/239 [13:42<29:06, 11.12s/it]"
     ]
    },
    {
     "name": "stdout",
     "output_type": "stream",
     "text": [
      "A: 뭐야가지고 뭘 했을 때까지 했을 때까지 했다\n"
     ]
    },
    {
     "name": "stderr",
     "output_type": "stream",
     "text": [
      "INFO:faster_whisper:Processing audio with duration 00:01.172\n",
      " 35%|███▍      | 83/239 [13:49<25:35,  9.84s/it]"
     ]
    },
    {
     "name": "stdout",
     "output_type": "stream",
     "text": [
      "A: 저씨도 많았을 것 같았을 것 같았다\n"
     ]
    },
    {
     "name": "stderr",
     "output_type": "stream",
     "text": [
      "INFO:faster_whisper:Processing audio with duration 00:00.404\n",
      " 35%|███▌      | 84/239 [14:02<28:01, 10.85s/it]"
     ]
    },
    {
     "name": "stdout",
     "output_type": "stream",
     "text": [
      "D: 저씨는 이 논의에 의견을 제기한다고 말했다\n"
     ]
    },
    {
     "name": "stderr",
     "output_type": "stream",
     "text": [
      "INFO:faster_whisper:Processing audio with duration 00:00.415\n",
      " 36%|███▌      | 85/239 [14:15<29:17, 11.41s/it]"
     ]
    },
    {
     "name": "stdout",
     "output_type": "stream",
     "text": [
      "A: 저씨의 주인공 이 시각 세계였습니다\n"
     ]
    },
    {
     "name": "stderr",
     "output_type": "stream",
     "text": [
      "INFO:faster_whisper:Processing audio with duration 00:00.564\n",
      " 36%|███▌      | 86/239 [14:25<28:07, 11.03s/it]"
     ]
    },
    {
     "name": "stdout",
     "output_type": "stream",
     "text": [
      "A: 저씨는 이 논의로 인간의 제도를 포기한다\n"
     ]
    },
    {
     "name": "stderr",
     "output_type": "stream",
     "text": [
      "INFO:faster_whisper:Processing audio with duration 00:00.425\n",
      " 36%|███▋      | 87/239 [14:32<24:51,  9.81s/it]"
     ]
    },
    {
     "name": "stdout",
     "output_type": "stream",
     "text": [
      "A: 저씨도 많았을 것 같았다\n"
     ]
    },
    {
     "name": "stderr",
     "output_type": "stream",
     "text": [
      "INFO:faster_whisper:Processing audio with duration 00:00.625\n",
      " 37%|███▋      | 88/239 [14:43<25:34, 10.17s/it]"
     ]
    },
    {
     "name": "stdout",
     "output_type": "stream",
     "text": [
      "C: 홍보로부터 사과를 공격했다\n"
     ]
    },
    {
     "name": "stderr",
     "output_type": "stream",
     "text": [
      "INFO:faster_whisper:Processing audio with duration 00:00.692\n",
      " 37%|███▋      | 89/239 [14:55<27:14, 10.89s/it]"
     ]
    },
    {
     "name": "stdout",
     "output_type": "stream",
     "text": [
      "A: 몇 사장의 자리에 적지 않습니다.\n"
     ]
    },
    {
     "name": "stderr",
     "output_type": "stream",
     "text": [
      "INFO:faster_whisper:Processing audio with duration 00:00.681\n",
      " 38%|███▊      | 90/239 [15:10<29:41, 11.96s/it]"
     ]
    },
    {
     "name": "stdout",
     "output_type": "stream",
     "text": [
      "A: 닿병� 닥쳐서는 이 쩜 이 쩜 이 쩜\n"
     ]
    },
    {
     "name": "stderr",
     "output_type": "stream",
     "text": [
      "INFO:faster_whisper:Processing audio with duration 00:01.495\n",
      " 38%|███▊      | 91/239 [15:18<26:43, 10.84s/it]"
     ]
    },
    {
     "name": "stdout",
     "output_type": "stream",
     "text": [
      "A: 일단은 낙시 주말마다 모집에서 낙시 주말마다 모집을 갖추고 있다\n"
     ]
    },
    {
     "name": "stderr",
     "output_type": "stream",
     "text": [
      "INFO:faster_whisper:Processing audio with duration 00:00.756\n",
      " 38%|███▊      | 92/239 [15:31<27:56, 11.41s/it]"
     ]
    },
    {
     "name": "stdout",
     "output_type": "stream",
     "text": [
      "D: 저씨의 주인공을 받았다고 말했다\n"
     ]
    },
    {
     "name": "stderr",
     "output_type": "stream",
     "text": [
      "INFO:faster_whisper:Processing audio with duration 00:00.625\n",
      " 39%|███▉      | 93/239 [15:38<24:22, 10.01s/it]"
     ]
    },
    {
     "name": "stdout",
     "output_type": "stream",
     "text": [
      "A: 한 시간\n"
     ]
    },
    {
     "name": "stderr",
     "output_type": "stream",
     "text": [
      "INFO:faster_whisper:Processing audio with duration 00:01.000\n",
      " 39%|███▉      | 94/239 [15:45<22:02,  9.12s/it]"
     ]
    },
    {
     "name": "stdout",
     "output_type": "stream",
     "text": [
      "D: 보다 고는 게 나 진짜 고는 게 나 진짜 고는 게 나\n"
     ]
    },
    {
     "name": "stderr",
     "output_type": "stream",
     "text": [
      "INFO:faster_whisper:Processing audio with duration 00:00.521\n",
      " 40%|███▉      | 95/239 [16:01<26:49, 11.18s/it]"
     ]
    },
    {
     "name": "stdout",
     "output_type": "stream",
     "text": [
      "D: 하소서 일원분의 손가락을 치받는 효과가다고 열 도움의 손가락으로 쏟아졌고 일원분의 손가락이다\n"
     ]
    },
    {
     "name": "stderr",
     "output_type": "stream",
     "text": [
      "INFO:faster_whisper:Processing audio with duration 00:00.959\n",
      " 40%|████      | 96/239 [16:08<23:42,  9.95s/it]"
     ]
    },
    {
     "name": "stdout",
     "output_type": "stream",
     "text": [
      "A: 우리는 스티즌이죠\n"
     ]
    },
    {
     "name": "stderr",
     "output_type": "stream",
     "text": [
      "INFO:faster_whisper:Processing audio with duration 00:00.415\n",
      " 41%|████      | 97/239 [16:20<25:27, 10.76s/it]"
     ]
    },
    {
     "name": "stdout",
     "output_type": "stream",
     "text": [
      "D: 저씨는 이 논간이 아니라 이 논간의 논간을 갖추고 있다\n"
     ]
    },
    {
     "name": "stderr",
     "output_type": "stream",
     "text": [
      "INFO:faster_whisper:Processing audio with duration 00:00.703\n",
      " 41%|████      | 98/239 [16:28<22:49,  9.71s/it]"
     ]
    },
    {
     "name": "stdout",
     "output_type": "stream",
     "text": [
      "D: 저씨는 이 쩜 이 쩜 이 쩜 이 쩜 이 쩜 이 쩜\n"
     ]
    },
    {
     "name": "stderr",
     "output_type": "stream",
     "text": [
      "INFO:faster_whisper:Processing audio with duration 00:00.713\n",
      " 41%|████▏     | 99/239 [16:40<24:24, 10.46s/it]"
     ]
    },
    {
     "name": "stdout",
     "output_type": "stream",
     "text": [
      "D: 저것은 아니다\n"
     ]
    },
    {
     "name": "stderr",
     "output_type": "stream",
     "text": [
      "INFO:faster_whisper:Processing audio with duration 00:00.745\n",
      " 42%|████▏     | 100/239 [16:47<21:58,  9.48s/it]"
     ]
    },
    {
     "name": "stdout",
     "output_type": "stream",
     "text": [
      "A: 저씨는 이 쩜 이 쩜 이 쩜 이 쩜 이 쩜 이 쩜 이 쩜\n"
     ]
    },
    {
     "name": "stderr",
     "output_type": "stream",
     "text": [
      "INFO:faster_whisper:Processing audio with duration 00:00.375\n",
      " 42%|████▏     | 101/239 [16:58<22:34,  9.81s/it]"
     ]
    },
    {
     "name": "stdout",
     "output_type": "stream",
     "text": [
      "A: 중인 자막 제공 및 자막 제공 및 광고를 포기하고 있습니다.\n"
     ]
    },
    {
     "name": "stderr",
     "output_type": "stream",
     "text": [
      "INFO:faster_whisper:Processing audio with duration 00:00.381\n",
      " 43%|████▎     | 102/239 [17:10<23:53, 10.46s/it]"
     ]
    },
    {
     "name": "stdout",
     "output_type": "stream",
     "text": [
      "D: 홍보된다고 말했다\n"
     ]
    },
    {
     "name": "stderr",
     "output_type": "stream",
     "text": [
      "INFO:faster_whisper:Processing audio with duration 00:00.375\n",
      " 43%|████▎     | 103/239 [17:24<26:18, 11.61s/it]"
     ]
    },
    {
     "name": "stdout",
     "output_type": "stream",
     "text": [
      "D: 저씨는 이 논의에 의견을 받았을 때까지 했다\n"
     ]
    },
    {
     "name": "stderr",
     "output_type": "stream",
     "text": [
      "INFO:faster_whisper:Processing audio with duration 00:00.375\n",
      " 44%|████▎     | 104/239 [17:31<23:04, 10.26s/it]"
     ]
    },
    {
     "name": "stdout",
     "output_type": "stream",
     "text": [
      "A: 저씨는 이 쩜 이 쩜 이 쩜\n"
     ]
    },
    {
     "name": "stderr",
     "output_type": "stream",
     "text": [
      "INFO:faster_whisper:Processing audio with duration 00:01.896\n",
      " 44%|████▍     | 105/239 [17:38<20:50,  9.33s/it]"
     ]
    },
    {
     "name": "stdout",
     "output_type": "stream",
     "text": [
      "D: 몇 일어나는 것 같은 거 즐기는 하는 것 같은 거 즐기는 하는 것 같다\n"
     ]
    },
    {
     "name": "stderr",
     "output_type": "stream",
     "text": [
      "INFO:faster_whisper:Processing audio with duration 00:00.809\n",
      " 44%|████▍     | 106/239 [17:48<21:14,  9.58s/it]"
     ]
    },
    {
     "name": "stdout",
     "output_type": "stream",
     "text": [
      "D: 저씨도 그런 일이기도 했다\n"
     ]
    },
    {
     "name": "stderr",
     "output_type": "stream",
     "text": [
      "INFO:faster_whisper:Processing audio with duration 00:00.372\n",
      " 45%|████▍     | 107/239 [17:59<21:31,  9.79s/it]"
     ]
    },
    {
     "name": "stdout",
     "output_type": "stream",
     "text": [
      "A: 홍보된다고 말했다\n"
     ]
    },
    {
     "name": "stderr",
     "output_type": "stream",
     "text": [
      "INFO:faster_whisper:Processing audio with duration 00:00.625\n",
      " 45%|████▌     | 108/239 [18:06<19:37,  8.99s/it]"
     ]
    },
    {
     "name": "stdout",
     "output_type": "stream",
     "text": [
      "A: 클돈데요\n"
     ]
    },
    {
     "name": "stderr",
     "output_type": "stream",
     "text": [
      "INFO:faster_whisper:Processing audio with duration 00:00.664\n",
      " 46%|████▌     | 109/239 [18:18<21:41, 10.01s/it]"
     ]
    },
    {
     "name": "stdout",
     "output_type": "stream",
     "text": [
      "D: 홍보된다고 말했다\n"
     ]
    },
    {
     "name": "stderr",
     "output_type": "stream",
     "text": [
      "INFO:faster_whisper:Processing audio with duration 00:00.468\n",
      " 46%|████▌     | 110/239 [18:28<21:07,  9.82s/it]"
     ]
    },
    {
     "name": "stdout",
     "output_type": "stream",
     "text": [
      "A: 전부터 시작된다고 말했다\n"
     ]
    },
    {
     "name": "stderr",
     "output_type": "stream",
     "text": [
      "INFO:faster_whisper:Processing audio with duration 00:00.375\n",
      " 46%|████▋     | 111/239 [18:43<24:20, 11.41s/it]"
     ]
    },
    {
     "name": "stdout",
     "output_type": "stream",
     "text": [
      "A: 화주의 제도는 이 시장의 시장은 이 시장의 시장은 이 시장은 이 시장은 이 시장은 이 시장은 이 시장에 오는 곳에 있다\n"
     ]
    },
    {
     "name": "stderr",
     "output_type": "stream",
     "text": [
      "INFO:faster_whisper:Processing audio with duration 00:00.765\n",
      " 47%|████▋     | 112/239 [18:54<24:02, 11.36s/it]"
     ]
    },
    {
     "name": "stdout",
     "output_type": "stream",
     "text": [
      "D: 저씨의 주장은 이 자리에 적용되고 있다고 말했다\n"
     ]
    },
    {
     "name": "stderr",
     "output_type": "stream",
     "text": [
      "INFO:faster_whisper:Processing audio with duration 00:01.567\n",
      " 47%|████▋     | 113/239 [19:01<21:04, 10.03s/it]"
     ]
    },
    {
     "name": "stdout",
     "output_type": "stream",
     "text": [
      "A: 너무한 도전을 만들자\n"
     ]
    },
    {
     "name": "stderr",
     "output_type": "stream",
     "text": [
      "INFO:faster_whisper:Processing audio with duration 00:00.617\n",
      " 48%|████▊     | 114/239 [19:11<20:49, 10.00s/it]"
     ]
    },
    {
     "name": "stdout",
     "output_type": "stream",
     "text": [
      "A: 클리클로는 이 논의를 갖춰서는 이 논의를 갖춰서는 이 논의를 갖추고 있다\n"
     ]
    },
    {
     "name": "stderr",
     "output_type": "stream",
     "text": [
      "INFO:faster_whisper:Processing audio with duration 00:00.340\n",
      " 48%|████▊     | 115/239 [19:20<20:08,  9.75s/it]"
     ]
    },
    {
     "name": "stdout",
     "output_type": "stream",
     "text": [
      "A: 감사합니다\n"
     ]
    },
    {
     "name": "stderr",
     "output_type": "stream",
     "text": [
      "INFO:faster_whisper:Processing audio with duration 00:00.660\n",
      " 49%|████▊     | 116/239 [19:34<22:33, 11.00s/it]"
     ]
    },
    {
     "name": "stdout",
     "output_type": "stream",
     "text": [
      "E: 그냥 웃음을 다 갖춰서는 이 논간은 이 논간을 갖춰서는 이 논간을 갖춰서는 이 논간이다\n"
     ]
    },
    {
     "name": "stderr",
     "output_type": "stream",
     "text": [
      "INFO:faster_whisper:Processing audio with duration 00:01.407\n",
      " 49%|████▉     | 117/239 [19:41<19:50,  9.76s/it]"
     ]
    },
    {
     "name": "stdout",
     "output_type": "stream",
     "text": [
      "E: 저씨가 불편함을 났습니다\n"
     ]
    },
    {
     "name": "stderr",
     "output_type": "stream",
     "text": [
      "INFO:faster_whisper:Processing audio with duration 00:00.532\n",
      " 49%|████▉     | 118/239 [19:52<20:23, 10.11s/it]"
     ]
    },
    {
     "name": "stdout",
     "output_type": "stream",
     "text": [
      "D: 전부터는 또는 이 대로 역할을 맞춰서는 이 대로 역할을 맞춰서는 이 대로 역할을 맞춰서는 이 대로 역할을 받았다고 말했다\n"
     ]
    },
    {
     "name": "stderr",
     "output_type": "stream",
     "text": [
      "INFO:faster_whisper:Processing audio with duration 00:00.639\n",
      " 50%|████▉     | 119/239 [20:05<22:06, 11.05s/it]"
     ]
    },
    {
     "name": "stdout",
     "output_type": "stream",
     "text": [
      "E: 홍보로부터는 제도다\n"
     ]
    },
    {
     "name": "stderr",
     "output_type": "stream",
     "text": [
      "INFO:faster_whisper:Processing audio with duration 00:00.436\n",
      " 50%|█████     | 120/239 [20:16<21:57, 11.07s/it]"
     ]
    },
    {
     "name": "stdout",
     "output_type": "stream",
     "text": [
      "A: 홍빛은 이곳에서 구경 쩜 다운을 갖추고 있다\n"
     ]
    },
    {
     "name": "stderr",
     "output_type": "stream",
     "text": [
      "INFO:faster_whisper:Processing audio with duration 00:00.375\n",
      " 51%|█████     | 121/239 [20:28<22:33, 11.47s/it]"
     ]
    },
    {
     "name": "stdout",
     "output_type": "stream",
     "text": [
      "A: 몇 논의를 받았다\n"
     ]
    },
    {
     "name": "stderr",
     "output_type": "stream",
     "text": [
      "INFO:faster_whisper:Processing audio with duration 00:00.340\n",
      " 51%|█████     | 122/239 [20:35<19:39, 10.08s/it]"
     ]
    },
    {
     "name": "stdout",
     "output_type": "stream",
     "text": [
      "E: 저씨는 이 쩜 이 쩜 이 쩜 이 쩜 이 쩜\n"
     ]
    },
    {
     "name": "stderr",
     "output_type": "stream",
     "text": [
      "INFO:faster_whisper:Processing audio with duration 00:00.756\n",
      " 51%|█████▏    | 123/239 [20:42<17:38,  9.12s/it]"
     ]
    },
    {
     "name": "stdout",
     "output_type": "stream",
     "text": [
      "E: 홍보명의 주인공 및 자막 제공 및 자막 제공 및 광고를 포기했다\n"
     ]
    },
    {
     "name": "stderr",
     "output_type": "stream",
     "text": [
      "INFO:faster_whisper:Processing audio with duration 00:00.351\n",
      " 52%|█████▏    | 124/239 [20:55<19:52, 10.37s/it]"
     ]
    },
    {
     "name": "stdout",
     "output_type": "stream",
     "text": [
      "E: 몇 논의로는 이 논의를 받았다\n"
     ]
    },
    {
     "name": "stderr",
     "output_type": "stream",
     "text": [
      "INFO:faster_whisper:Processing audio with duration 00:00.564\n",
      " 52%|█████▏    | 125/239 [21:11<22:42, 11.95s/it]"
     ]
    },
    {
     "name": "stdout",
     "output_type": "stream",
     "text": [
      "E: 홍보된다고 말했다\n"
     ]
    },
    {
     "name": "stderr",
     "output_type": "stream",
     "text": [
      "INFO:faster_whisper:Processing audio with duration 00:00.948\n",
      " 53%|█████▎    | 126/239 [21:18<19:32, 10.38s/it]"
     ]
    },
    {
     "name": "stdout",
     "output_type": "stream",
     "text": [
      "D: 세 개만을\n"
     ]
    },
    {
     "name": "stderr",
     "output_type": "stream",
     "text": [
      "INFO:faster_whisper:Processing audio with duration 00:00.841\n",
      " 53%|█████▎    | 127/239 [21:31<21:14, 11.38s/it]"
     ]
    },
    {
     "name": "stdout",
     "output_type": "stream",
     "text": [
      "E: 홍빛이 불어 닥쳤다\n"
     ]
    },
    {
     "name": "stderr",
     "output_type": "stream",
     "text": [
      "INFO:faster_whisper:Processing audio with duration 00:00.425\n",
      " 54%|█████▎    | 128/239 [21:43<21:03, 11.38s/it]"
     ]
    },
    {
     "name": "stdout",
     "output_type": "stream",
     "text": [
      "E: 몇 논의를 받았을 때까지 했을 때까지 했다\n"
     ]
    },
    {
     "name": "stderr",
     "output_type": "stream",
     "text": [
      "INFO:faster_whisper:Processing audio with duration 00:00.457\n",
      " 54%|█████▍    | 129/239 [21:56<21:50, 11.92s/it]"
     ]
    },
    {
     "name": "stdout",
     "output_type": "stream",
     "text": [
      "A: 홍병을 받아들여졌다\n"
     ]
    },
    {
     "name": "stderr",
     "output_type": "stream",
     "text": [
      "INFO:faster_whisper:Processing audio with duration 00:01.573\n",
      " 54%|█████▍    | 130/239 [22:03<18:50, 10.37s/it]"
     ]
    },
    {
     "name": "stdout",
     "output_type": "stream",
     "text": [
      "D: 부시적인 생활이긴 한데\n"
     ]
    },
    {
     "name": "stderr",
     "output_type": "stream",
     "text": [
      "INFO:faster_whisper:Processing audio with duration 00:00.484\n",
      " 55%|█████▍    | 131/239 [22:15<19:54, 11.06s/it]"
     ]
    },
    {
     "name": "stdout",
     "output_type": "stream",
     "text": [
      "A: 저씨의 주인공을 받았을 때까지 했을 때까지 했다\n"
     ]
    },
    {
     "name": "stderr",
     "output_type": "stream",
     "text": [
      "INFO:faster_whisper:Processing audio with duration 00:00.375\n",
      " 55%|█████▌    | 132/239 [22:29<21:02, 11.80s/it]"
     ]
    },
    {
     "name": "stdout",
     "output_type": "stream",
     "text": [
      "A: 홍의 자리에 대해 알 수 있습니다\n"
     ]
    },
    {
     "name": "stderr",
     "output_type": "stream",
     "text": [
      "INFO:faster_whisper:Processing audio with duration 00:00.477\n",
      " 56%|█████▌    | 133/239 [22:40<20:40, 11.71s/it]"
     ]
    },
    {
     "name": "stdout",
     "output_type": "stream",
     "text": [
      "C: 홍어의 주장은 이 기준으로부터 멀리서는 이 기준으로부터 멀리서는 이 기준으로부터 멀리서는 이 기준으로부터 멀리서다\n"
     ]
    },
    {
     "name": "stderr",
     "output_type": "stream",
     "text": [
      "INFO:faster_whisper:Processing audio with duration 00:01.801\n",
      " 56%|█████▌    | 134/239 [22:47<17:58, 10.27s/it]"
     ]
    },
    {
     "name": "stdout",
     "output_type": "stream",
     "text": [
      "C: 저씨는 매니저임 소수입니다\n"
     ]
    },
    {
     "name": "stderr",
     "output_type": "stream",
     "text": [
      "INFO:faster_whisper:Processing audio with duration 00:00.375\n",
      " 56%|█████▋    | 135/239 [22:57<17:39, 10.18s/it]"
     ]
    },
    {
     "name": "stdout",
     "output_type": "stream",
     "text": [
      "C: 홍보된다고 말했다\n"
     ]
    },
    {
     "name": "stderr",
     "output_type": "stream",
     "text": [
      "INFO:faster_whisper:Processing audio with duration 00:00.511\n",
      " 57%|█████▋    | 136/239 [23:05<16:25,  9.57s/it]"
     ]
    },
    {
     "name": "stdout",
     "output_type": "stream",
     "text": [
      "C: 저것은 무엇을 도와드릴까요\n"
     ]
    },
    {
     "name": "stderr",
     "output_type": "stream",
     "text": [
      "INFO:faster_whisper:Processing audio with duration 00:00.500\n",
      " 57%|█████▋    | 137/239 [23:19<18:23, 10.82s/it]"
     ]
    },
    {
     "name": "stdout",
     "output_type": "stream",
     "text": [
      "A: 홍이 쩜 서막 제공 및 자막 제공 및 자막 제공 및 광고를 포기한다는 게 없었다\n"
     ]
    },
    {
     "name": "stderr",
     "output_type": "stream",
     "text": [
      "INFO:faster_whisper:Processing audio with duration 00:00.875\n",
      " 58%|█████▊    | 138/239 [23:26<16:18,  9.69s/it]"
     ]
    },
    {
     "name": "stdout",
     "output_type": "stream",
     "text": [
      "C: 홍보로부터 온갖 액체로부터 온갖 액체로부터 온갖 액체로부터 왔습니다\n"
     ]
    },
    {
     "name": "stderr",
     "output_type": "stream",
     "text": [
      "INFO:faster_whisper:Processing audio with duration 00:00.414\n",
      " 58%|█████▊    | 139/239 [23:38<17:21, 10.42s/it]INFO:faster_whisper:Processing audio with duration 00:00.625\n"
     ]
    },
    {
     "name": "stdout",
     "output_type": "stream",
     "text": [
      "E: 홍보된다고 말했다\n"
     ]
    },
    {
     "name": "stderr",
     "output_type": "stream",
     "text": [
      " 59%|█████▊    | 140/239 [23:45<15:28,  9.38s/it]"
     ]
    },
    {
     "name": "stdout",
     "output_type": "stream",
     "text": [
      "C: 저씨는 이 쩜 이 쩜 이 쩜\n"
     ]
    },
    {
     "name": "stderr",
     "output_type": "stream",
     "text": [
      "INFO:faster_whisper:Processing audio with duration 00:01.151\n",
      " 59%|█████▉    | 141/239 [23:58<16:46, 10.27s/it]"
     ]
    },
    {
     "name": "stdout",
     "output_type": "stream",
     "text": [
      "C: 저씨가 사과를 받아들여서는 이 자리에 적용되었습니다\n"
     ]
    },
    {
     "name": "stderr",
     "output_type": "stream",
     "text": [
      "INFO:faster_whisper:Processing audio with duration 00:00.447\n",
      " 59%|█████▉    | 142/239 [24:10<17:29, 10.82s/it]"
     ]
    },
    {
     "name": "stdout",
     "output_type": "stream",
     "text": [
      "E: 홍의 자리에 대해 말했다\n"
     ]
    },
    {
     "name": "stderr",
     "output_type": "stream",
     "text": [
      "INFO:faster_whisper:Processing audio with duration 00:00.767\n",
      " 60%|█████▉    | 143/239 [24:20<16:47, 10.49s/it]INFO:faster_whisper:Processing audio with duration 00:00.404\n"
     ]
    },
    {
     "name": "stdout",
     "output_type": "stream",
     "text": [
      "E: 저씨는 별로\n"
     ]
    },
    {
     "name": "stderr",
     "output_type": "stream",
     "text": [
      " 60%|██████    | 144/239 [24:33<17:54, 11.31s/it]"
     ]
    },
    {
     "name": "stdout",
     "output_type": "stream",
     "text": [
      "E: 몇 논의를 받았다\n"
     ]
    },
    {
     "name": "stderr",
     "output_type": "stream",
     "text": [
      "INFO:faster_whisper:Processing audio with duration 00:00.724\n",
      " 61%|██████    | 145/239 [24:40<15:40, 10.01s/it]"
     ]
    },
    {
     "name": "stdout",
     "output_type": "stream",
     "text": [
      "E: 저씨는 이 쩜 이 쩜 이 쩜 이 쩜 이 쩜 이 쩜\n"
     ]
    },
    {
     "name": "stderr",
     "output_type": "stream",
     "text": [
      "INFO:faster_whisper:Processing audio with duration 00:00.959\n",
      " 61%|██████    | 146/239 [24:47<14:09,  9.13s/it]"
     ]
    },
    {
     "name": "stdout",
     "output_type": "stream",
     "text": [
      "A: 그는 채널마다 해\n"
     ]
    },
    {
     "name": "stderr",
     "output_type": "stream",
     "text": [
      "INFO:faster_whisper:Processing audio with duration 00:00.372\n",
      " 62%|██████▏   | 147/239 [24:54<13:03,  8.51s/it]"
     ]
    },
    {
     "name": "stdout",
     "output_type": "stream",
     "text": [
      "E: 홍보로부터 온갖 액체로부터 온갖 액체로부터 온갖 액체로부터 왔습니다\n"
     ]
    },
    {
     "name": "stderr",
     "output_type": "stream",
     "text": [
      "INFO:faster_whisper:Processing audio with duration 00:00.799\n",
      " 62%|██████▏   | 148/239 [25:05<14:06,  9.30s/it]"
     ]
    },
    {
     "name": "stdout",
     "output_type": "stream",
     "text": [
      "E: 김무여\n"
     ]
    },
    {
     "name": "stderr",
     "output_type": "stream",
     "text": [
      "INFO:faster_whisper:Processing audio with duration 00:00.756\n",
      " 62%|██████▏   | 149/239 [25:17<14:56,  9.97s/it]"
     ]
    },
    {
     "name": "stdout",
     "output_type": "stream",
     "text": [
      "E: 감사합니다\n"
     ]
    },
    {
     "name": "stderr",
     "output_type": "stream",
     "text": [
      "INFO:faster_whisper:Processing audio with duration 00:01.023\n",
      " 63%|██████▎   | 150/239 [25:24<13:28,  9.08s/it]"
     ]
    },
    {
     "name": "stdout",
     "output_type": "stream",
     "text": [
      "E: 금액세기금액은 이익률이익률이익률이다\n"
     ]
    },
    {
     "name": "stderr",
     "output_type": "stream",
     "text": [
      "INFO:faster_whisper:Processing audio with duration 00:00.393\n",
      " 63%|██████▎   | 151/239 [25:33<13:32,  9.23s/it]"
     ]
    },
    {
     "name": "stdout",
     "output_type": "stream",
     "text": [
      "A: 감사합니다\n"
     ]
    },
    {
     "name": "stderr",
     "output_type": "stream",
     "text": [
      "INFO:faster_whisper:Processing audio with duration 00:00.585\n",
      " 64%|██████▎   | 152/239 [25:47<15:18, 10.56s/it]"
     ]
    },
    {
     "name": "stdout",
     "output_type": "stream",
     "text": [
      "E: 최근혜석열 씨의 주택은 국내로부터 상당한 것으로 보인다고 생각한다\n"
     ]
    },
    {
     "name": "stderr",
     "output_type": "stream",
     "text": [
      "INFO:faster_whisper:Processing audio with duration 00:01.396\n",
      " 64%|██████▍   | 153/239 [25:54<13:39,  9.53s/it]"
     ]
    },
    {
     "name": "stdout",
     "output_type": "stream",
     "text": [
      "E: 뭐 이렇게 모든 게 불가능해?\n"
     ]
    },
    {
     "name": "stderr",
     "output_type": "stream",
     "text": [
      "INFO:faster_whisper:Processing audio with duration 00:00.788\n",
      " 64%|██████▍   | 154/239 [26:06<14:40, 10.36s/it]"
     ]
    },
    {
     "name": "stdout",
     "output_type": "stream",
     "text": [
      "E: 그래 왜 이 논간은 왜 이 논간은 왜 이 논간이 아니라 논간이 없었을 때까지도 제대로 된다는 게 아니라 논간이 없어서는 다니다\n"
     ]
    },
    {
     "name": "stderr",
     "output_type": "stream",
     "text": [
      "INFO:faster_whisper:Processing audio with duration 00:00.692\n",
      " 65%|██████▍   | 155/239 [26:19<15:24, 11.00s/it]"
     ]
    },
    {
     "name": "stdout",
     "output_type": "stream",
     "text": [
      "E: 저것은 없었을 것 같았다\n"
     ]
    },
    {
     "name": "stderr",
     "output_type": "stream",
     "text": [
      "INFO:faster_whisper:Processing audio with duration 00:01.023\n",
      " 65%|██████▌   | 156/239 [26:26<13:32,  9.78s/it]"
     ]
    },
    {
     "name": "stdout",
     "output_type": "stream",
     "text": [
      "E: 저씨는 이 쩜 이 쩜 이 쩜 이 쩜\n"
     ]
    },
    {
     "name": "stderr",
     "output_type": "stream",
     "text": [
      "INFO:faster_whisper:Processing audio with duration 00:01.414\n",
      " 66%|██████▌   | 157/239 [26:33<12:11,  8.92s/it]"
     ]
    },
    {
     "name": "stdout",
     "output_type": "stream",
     "text": [
      "A: 그런데 조금 더 순하되잖아요\n"
     ]
    },
    {
     "name": "stderr",
     "output_type": "stream",
     "text": [
      "INFO:faster_whisper:Processing audio with duration 00:00.782\n",
      " 66%|██████▌   | 158/239 [26:40<11:15,  8.33s/it]"
     ]
    },
    {
     "name": "stdout",
     "output_type": "stream",
     "text": [
      "D: 소어에 대한 나이\n"
     ]
    },
    {
     "name": "stderr",
     "output_type": "stream",
     "text": [
      "INFO:faster_whisper:Processing audio with duration 00:01.865\n",
      " 67%|██████▋   | 159/239 [26:47<10:36,  7.95s/it]"
     ]
    },
    {
     "name": "stdout",
     "output_type": "stream",
     "text": [
      "D: 그걸 없애고\n"
     ]
    },
    {
     "name": "stderr",
     "output_type": "stream",
     "text": [
      "INFO:faster_whisper:Processing audio with duration 00:00.831\n",
      " 67%|██████▋   | 160/239 [26:54<10:04,  7.65s/it]"
     ]
    },
    {
     "name": "stdout",
     "output_type": "stream",
     "text": [
      "A: 꺼번에 봐봐\n"
     ]
    },
    {
     "name": "stderr",
     "output_type": "stream",
     "text": [
      "INFO:faster_whisper:Processing audio with duration 00:00.875\n",
      " 67%|██████▋   | 161/239 [27:01<09:41,  7.45s/it]"
     ]
    },
    {
     "name": "stdout",
     "output_type": "stream",
     "text": [
      "A: 무수며 삼십시오\n"
     ]
    },
    {
     "name": "stderr",
     "output_type": "stream",
     "text": [
      "INFO:faster_whisper:Processing audio with duration 00:00.948\n",
      " 68%|██████▊   | 162/239 [27:15<12:22,  9.64s/it]"
     ]
    },
    {
     "name": "stdout",
     "output_type": "stream",
     "text": [
      "D: 홍병을 찾았다.\n"
     ]
    },
    {
     "name": "stderr",
     "output_type": "stream",
     "text": [
      "INFO:faster_whisper:Processing audio with duration 00:00.553\n",
      " 68%|██████▊   | 163/239 [27:27<13:01, 10.28s/it]"
     ]
    },
    {
     "name": "stdout",
     "output_type": "stream",
     "text": [
      "A: 전날 밤샘을 찾았을 때까지 했다\n"
     ]
    },
    {
     "name": "stderr",
     "output_type": "stream",
     "text": [
      "INFO:faster_whisper:Processing audio with duration 00:00.575\n",
      " 69%|██████▊   | 164/239 [27:44<15:19, 12.26s/it]"
     ]
    },
    {
     "name": "stdout",
     "output_type": "stream",
     "text": [
      "A: 홍보된다고 말했다\n"
     ]
    },
    {
     "name": "stderr",
     "output_type": "stream",
     "text": [
      "INFO:faster_whisper:Processing audio with duration 00:00.404\n",
      " 69%|██████▉   | 165/239 [27:51<13:09, 10.67s/it]"
     ]
    },
    {
     "name": "stdout",
     "output_type": "stream",
     "text": [
      "A: 홍보로부터 온갖 수준으로부터 온갖 수준으로부터 온갖 수준으로부터 온갖 수준으로 나타났다\n"
     ]
    },
    {
     "name": "stderr",
     "output_type": "stream",
     "text": [
      "INFO:faster_whisper:Processing audio with duration 00:01.279\n",
      " 69%|██████▉   | 166/239 [27:58<11:38,  9.57s/it]"
     ]
    },
    {
     "name": "stdout",
     "output_type": "stream",
     "text": [
      "A: 제가 있다라는 도상에서\n"
     ]
    },
    {
     "name": "stderr",
     "output_type": "stream",
     "text": [
      "INFO:faster_whisper:Processing audio with duration 00:01.513\n",
      " 70%|██████▉   | 167/239 [28:05<10:33,  8.80s/it]"
     ]
    },
    {
     "name": "stdout",
     "output_type": "stream",
     "text": [
      "D: 유를 물렸을 때\n"
     ]
    },
    {
     "name": "stderr",
     "output_type": "stream",
     "text": [
      "INFO:faster_whisper:Processing audio with duration 00:00.383\n",
      " 70%|███████   | 168/239 [28:18<11:47,  9.97s/it]"
     ]
    },
    {
     "name": "stdout",
     "output_type": "stream",
     "text": [
      "A: 몇 논의를 받았다\n"
     ]
    },
    {
     "name": "stderr",
     "output_type": "stream",
     "text": [
      "INFO:faster_whisper:Processing audio with duration 00:00.340\n",
      " 71%|███████   | 169/239 [28:25<10:35,  9.08s/it]INFO:faster_whisper:Processing audio with duration 00:00.372\n"
     ]
    },
    {
     "name": "stdout",
     "output_type": "stream",
     "text": [
      "A: 저씨는 이 쩜 이 쩜 이 쩜 이 쩜 이 쩜 이 쩜\n"
     ]
    },
    {
     "name": "stderr",
     "output_type": "stream",
     "text": [
      " 71%|███████   | 170/239 [28:37<11:27,  9.97s/it]"
     ]
    },
    {
     "name": "stdout",
     "output_type": "stream",
     "text": [
      "C: 감사일에 참여한다고 말했다\n"
     ]
    },
    {
     "name": "stderr",
     "output_type": "stream",
     "text": [
      "INFO:faster_whisper:Processing audio with duration 00:01.279\n",
      " 72%|███████▏  | 171/239 [28:43<10:12,  9.00s/it]"
     ]
    },
    {
     "name": "stdout",
     "output_type": "stream",
     "text": [
      "A: 응 가치 메시계를 갖추고 있다\n"
     ]
    },
    {
     "name": "stderr",
     "output_type": "stream",
     "text": [
      "INFO:faster_whisper:Processing audio with duration 00:00.777\n",
      " 72%|███████▏  | 172/239 [28:56<11:10, 10.01s/it]"
     ]
    },
    {
     "name": "stdout",
     "output_type": "stream",
     "text": [
      "C: 몰따브로링이 불어 닥쳤다\n"
     ]
    },
    {
     "name": "stderr",
     "output_type": "stream",
     "text": [
      "INFO:faster_whisper:Processing audio with duration 00:01.769\n",
      " 72%|███████▏  | 173/239 [29:03<09:57,  9.05s/it]INFO:faster_whisper:Processing audio with duration 00:01.125\n"
     ]
    },
    {
     "name": "stdout",
     "output_type": "stream",
     "text": [
      "C: 너무 시원해\n"
     ]
    },
    {
     "name": "stderr",
     "output_type": "stream",
     "text": [
      " 73%|███████▎  | 174/239 [29:18<11:43, 10.82s/it]"
     ]
    },
    {
     "name": "stdout",
     "output_type": "stream",
     "text": [
      "C: 몇 일계를 할 수 있었다\n"
     ]
    },
    {
     "name": "stderr",
     "output_type": "stream",
     "text": [
      "INFO:faster_whisper:Processing audio with duration 00:00.442\n",
      " 73%|███████▎  | 175/239 [29:32<12:33, 11.77s/it]"
     ]
    },
    {
     "name": "stdout",
     "output_type": "stream",
     "text": [
      "E: 홍 사장은 불과 닥쳤다\n"
     ]
    },
    {
     "name": "stderr",
     "output_type": "stream",
     "text": [
      "INFO:faster_whisper:Processing audio with duration 00:01.268\n",
      " 74%|███████▎  | 176/239 [29:45<12:51, 12.24s/it]"
     ]
    },
    {
     "name": "stdout",
     "output_type": "stream",
     "text": [
      "C: 저씨는 이 논의에 의견을 갖추고 있다고 말했다\n"
     ]
    },
    {
     "name": "stderr",
     "output_type": "stream",
     "text": [
      "INFO:faster_whisper:Processing audio with duration 00:00.425\n",
      " 74%|███████▍  | 177/239 [29:52<11:07, 10.76s/it]"
     ]
    },
    {
     "name": "stdout",
     "output_type": "stream",
     "text": [
      "A: 홍보로부터 온갖 수준으로부터 온갖 수준으로부터 온갖 수준으로부터 온갖 수준으로 나타났다\n"
     ]
    },
    {
     "name": "stderr",
     "output_type": "stream",
     "text": [
      "INFO:faster_whisper:Processing audio with duration 00:00.671\n",
      " 74%|███████▍  | 178/239 [30:06<11:49, 11.63s/it]INFO:faster_whisper:Processing audio with duration 00:01.428\n"
     ]
    },
    {
     "name": "stdout",
     "output_type": "stream",
     "text": [
      "A: 홍 사장은 아직도 없지 않던가 조직으로부터 멀리서는 없지 않던가 조직으로부터 멀리서는 없지 않던가 조직으로부터 멀리서는 없었습니다\n"
     ]
    },
    {
     "name": "stderr",
     "output_type": "stream",
     "text": [
      " 75%|███████▍  | 179/239 [30:20<12:20, 12.34s/it]"
     ]
    },
    {
     "name": "stdout",
     "output_type": "stream",
     "text": [
      "D: 파악 대클린이 있었다\n"
     ]
    },
    {
     "name": "stderr",
     "output_type": "stream",
     "text": [
      "INFO:faster_whisper:Processing audio with duration 00:00.393\n",
      " 75%|███████▌  | 180/239 [30:27<10:39, 10.85s/it]"
     ]
    },
    {
     "name": "stdout",
     "output_type": "stream",
     "text": [
      "A: 홍보로부터 온갖 액체로부터 온갖 액체로부터 온갖 액체로부터 왔습니다\n"
     ]
    },
    {
     "name": "stderr",
     "output_type": "stream",
     "text": [
      "INFO:faster_whisper:Processing audio with duration 00:00.447\n",
      " 76%|███████▌  | 181/239 [30:34<09:27,  9.78s/it]"
     ]
    },
    {
     "name": "stdout",
     "output_type": "stream",
     "text": [
      "D: 몇 논의로는 이 논의로는 이 논의로는 이 논의로는 이 논의들이 있습니다\n"
     ]
    },
    {
     "name": "stderr",
     "output_type": "stream",
     "text": [
      "INFO:faster_whisper:Processing audio with duration 00:00.372\n",
      " 76%|███████▌  | 182/239 [30:47<10:00, 10.54s/it]INFO:faster_whisper:Processing audio with duration 00:01.588\n"
     ]
    },
    {
     "name": "stdout",
     "output_type": "stream",
     "text": [
      "D: 저씨의 주인공을 받았을 때까지 했다\n"
     ]
    },
    {
     "name": "stderr",
     "output_type": "stream",
     "text": [
      " 77%|███████▋  | 183/239 [30:54<08:51,  9.50s/it]"
     ]
    },
    {
     "name": "stdout",
     "output_type": "stream",
     "text": [
      "D: 따라서\n"
     ]
    },
    {
     "name": "stderr",
     "output_type": "stream",
     "text": [
      "INFO:faster_whisper:Processing audio with duration 00:00.875\n",
      " 77%|███████▋  | 184/239 [31:07<09:47, 10.68s/it]"
     ]
    },
    {
     "name": "stdout",
     "output_type": "stream",
     "text": [
      "A: 제일을 갖추고 있다고 말했다\n"
     ]
    },
    {
     "name": "stderr",
     "output_type": "stream",
     "text": [
      "INFO:faster_whisper:Processing audio with duration 00:00.404\n",
      " 77%|███████▋  | 185/239 [31:23<10:53, 12.10s/it]"
     ]
    },
    {
     "name": "stdout",
     "output_type": "stream",
     "text": [
      "D: 일본의 자리에 적용되고 있다고 말했다\n"
     ]
    },
    {
     "name": "stderr",
     "output_type": "stream",
     "text": [
      "INFO:faster_whisper:Processing audio with duration 00:00.625\n",
      " 78%|███████▊  | 186/239 [31:35<10:41, 12.11s/it]"
     ]
    },
    {
     "name": "stdout",
     "output_type": "stream",
     "text": [
      "D: 저씨의 손가락으로 덧붙였다\n"
     ]
    },
    {
     "name": "stderr",
     "output_type": "stream",
     "text": [
      "INFO:faster_whisper:Processing audio with duration 00:00.600\n",
      " 78%|███████▊  | 187/239 [31:49<11:03, 12.75s/it]"
     ]
    },
    {
     "name": "stdout",
     "output_type": "stream",
     "text": [
      "A: 그러면\n"
     ]
    },
    {
     "name": "stderr",
     "output_type": "stream",
     "text": [
      "INFO:faster_whisper:Processing audio with duration 00:00.468\n",
      " 79%|███████▊  | 188/239 [32:07<12:12, 14.36s/it]"
     ]
    },
    {
     "name": "stdout",
     "output_type": "stream",
     "text": [
      "A: 일반의 주장은 이 시각 세계였습니다.\n"
     ]
    },
    {
     "name": "stderr",
     "output_type": "stream",
     "text": [
      "INFO:faster_whisper:Processing audio with duration 00:00.393\n",
      " 79%|███████▉  | 189/239 [32:21<11:45, 14.12s/it]"
     ]
    },
    {
     "name": "stdout",
     "output_type": "stream",
     "text": [
      "A: 저씨의 주인공을 받아들여졌다\n"
     ]
    },
    {
     "name": "stderr",
     "output_type": "stream",
     "text": [
      "INFO:faster_whisper:Processing audio with duration 00:00.375\n",
      " 79%|███████▉  | 190/239 [32:37<12:02, 14.74s/it]"
     ]
    },
    {
     "name": "stdout",
     "output_type": "stream",
     "text": [
      "A: 홍보된다고 말했다\n"
     ]
    },
    {
     "name": "stderr",
     "output_type": "stream",
     "text": [
      "INFO:faster_whisper:Processing audio with duration 00:00.669\n",
      " 80%|███████▉  | 191/239 [32:46<10:20, 12.92s/it]"
     ]
    },
    {
     "name": "stdout",
     "output_type": "stream",
     "text": [
      "D:  같은 게 많이 튀겨져 있는 게 많이 튀겨져 있는 게 많았다\n"
     ]
    },
    {
     "name": "stderr",
     "output_type": "stream",
     "text": [
      "INFO:faster_whisper:Processing audio with duration 00:00.375\n",
      " 80%|████████  | 192/239 [33:00<10:23, 13.26s/it]"
     ]
    },
    {
     "name": "stdout",
     "output_type": "stream",
     "text": [
      "D: 저씨는 이 논의에 의견을 받았다\n"
     ]
    },
    {
     "name": "stderr",
     "output_type": "stream",
     "text": [
      "INFO:faster_whisper:Processing audio with duration 00:00.521\n",
      " 81%|████████  | 193/239 [33:11<09:46, 12.75s/it]"
     ]
    },
    {
     "name": "stdout",
     "output_type": "stream",
     "text": [
      "D: 몇 논의를 받았다\n"
     ]
    },
    {
     "name": "stderr",
     "output_type": "stream",
     "text": [
      "INFO:faster_whisper:Processing audio with duration 00:00.625\n",
      " 81%|████████  | 194/239 [33:18<08:12, 10.95s/it]"
     ]
    },
    {
     "name": "stdout",
     "output_type": "stream",
     "text": [
      "D: 그러니까 나는\n"
     ]
    },
    {
     "name": "stderr",
     "output_type": "stream",
     "text": [
      "INFO:faster_whisper:Processing audio with duration 00:00.383\n",
      " 82%|████████▏ | 195/239 [33:32<08:36, 11.74s/it]"
     ]
    },
    {
     "name": "stdout",
     "output_type": "stream",
     "text": [
      "A: 홍빛이 불어 닥쳤다\n"
     ]
    },
    {
     "name": "stderr",
     "output_type": "stream",
     "text": [
      "INFO:faster_whisper:Processing audio with duration 00:01.012\n",
      " 82%|████████▏ | 196/239 [33:43<08:26, 11.78s/it]"
     ]
    },
    {
     "name": "stdout",
     "output_type": "stream",
     "text": [
      "D: 일날 밤에 일어나는 순간이더라도 한 마디 남겼다\n"
     ]
    },
    {
     "name": "stderr",
     "output_type": "stream",
     "text": [
      "INFO:faster_whisper:Processing audio with duration 00:00.361\n",
      " 82%|████████▏ | 197/239 [33:53<07:43, 11.03s/it]"
     ]
    },
    {
     "name": "stdout",
     "output_type": "stream",
     "text": [
      "D: 저씨는 무슨 일인지 알 수 있겠습니다\n"
     ]
    },
    {
     "name": "stderr",
     "output_type": "stream",
     "text": [
      "INFO:faster_whisper:Processing audio with duration 00:00.375\n",
      " 83%|████████▎ | 198/239 [34:05<07:46, 11.39s/it]"
     ]
    },
    {
     "name": "stdout",
     "output_type": "stream",
     "text": [
      "D: 저씨는 무저다\n"
     ]
    },
    {
     "name": "stderr",
     "output_type": "stream",
     "text": [
      "INFO:faster_whisper:Processing audio with duration 00:00.552\n",
      " 83%|████████▎ | 199/239 [34:16<07:36, 11.41s/it]"
     ]
    },
    {
     "name": "stdout",
     "output_type": "stream",
     "text": [
      "A: 저씨의 문제는 이 논의에 의견을 제기한다는 점에서 사과를 갖추고 있다\n"
     ]
    },
    {
     "name": "stderr",
     "output_type": "stream",
     "text": [
      "INFO:faster_whisper:Processing audio with duration 00:00.756\n",
      " 84%|████████▎ | 200/239 [34:32<08:12, 12.62s/it]"
     ]
    },
    {
     "name": "stdout",
     "output_type": "stream",
     "text": [
      "C: 저것의 자리에 적용되었다고 말했다\n"
     ]
    },
    {
     "name": "stderr",
     "output_type": "stream",
     "text": [
      "INFO:faster_whisper:Processing audio with duration 00:00.543\n",
      " 84%|████████▍ | 201/239 [34:47<08:26, 13.34s/it]"
     ]
    },
    {
     "name": "stdout",
     "output_type": "stream",
     "text": [
      "A: 저씨도 좋았을 것 같았다\n"
     ]
    },
    {
     "name": "stderr",
     "output_type": "stream",
     "text": [
      "INFO:faster_whisper:Processing audio with duration 00:00.372\n",
      " 85%|████████▍ | 202/239 [35:02<08:32, 13.86s/it]"
     ]
    },
    {
     "name": "stdout",
     "output_type": "stream",
     "text": [
      "A: 일반에 더욱더 더 주장한다는 점에서 더욱더 더 주장한다는 점에서 더욱더 더 주장한다는 점\n"
     ]
    },
    {
     "name": "stderr",
     "output_type": "stream",
     "text": [
      "INFO:faster_whisper:Processing audio with duration 00:01.375\n",
      " 85%|████████▍ | 203/239 [35:11<07:26, 12.41s/it]"
     ]
    },
    {
     "name": "stdout",
     "output_type": "stream",
     "text": [
      "D: 아 요즘 쇼스 개그치 않아\n"
     ]
    },
    {
     "name": "stderr",
     "output_type": "stream",
     "text": [
      "INFO:faster_whisper:Processing audio with duration 00:01.269\n",
      " 85%|████████▌ | 204/239 [35:19<06:31, 11.20s/it]"
     ]
    },
    {
     "name": "stdout",
     "output_type": "stream",
     "text": [
      "A: 그러면서 얘기하고 싶다고 말했다\n"
     ]
    },
    {
     "name": "stderr",
     "output_type": "stream",
     "text": [
      "INFO:faster_whisper:Processing audio with duration 00:00.660\n",
      " 86%|████████▌ | 205/239 [35:28<05:53, 10.41s/it]"
     ]
    },
    {
     "name": "stdout",
     "output_type": "stream",
     "text": [
      "D: 우리의 대신에 의견을 받았을 때까지 했을 때까지 했을 때까지 했다\n"
     ]
    },
    {
     "name": "stderr",
     "output_type": "stream",
     "text": [
      "INFO:faster_whisper:Processing audio with duration 00:00.425\n",
      " 86%|████████▌ | 206/239 [35:47<07:10, 13.05s/it]"
     ]
    },
    {
     "name": "stdout",
     "output_type": "stream",
     "text": [
      "D: 몇 정도는 없지 않다\n"
     ]
    },
    {
     "name": "stderr",
     "output_type": "stream",
     "text": [
      "INFO:faster_whisper:Processing audio with duration 00:00.543\n",
      " 87%|████████▋ | 207/239 [36:02<07:14, 13.57s/it]"
     ]
    },
    {
     "name": "stdout",
     "output_type": "stream",
     "text": [
      "D: 저씨의 주소를 갖추고 있다\n"
     ]
    },
    {
     "name": "stderr",
     "output_type": "stream",
     "text": [
      "INFO:faster_whisper:Processing audio with duration 00:00.375\n",
      " 87%|████████▋ | 208/239 [36:09<06:02, 11.70s/it]"
     ]
    },
    {
     "name": "stdout",
     "output_type": "stream",
     "text": [
      "D: 이클릭\n"
     ]
    },
    {
     "name": "stderr",
     "output_type": "stream",
     "text": [
      "INFO:faster_whisper:Processing audio with duration 00:00.625\n",
      " 87%|████████▋ | 209/239 [36:22<05:58, 11.94s/it]"
     ]
    },
    {
     "name": "stdout",
     "output_type": "stream",
     "text": [
      "A: 치의 아래 이 논의에겨나는 게 아니라 이 논의에겨나는 게 있다며 이 논의에겨나는 게 아니라 이 논의에겨나는 게 이렇습니다\n"
     ]
    },
    {
     "name": "stderr",
     "output_type": "stream",
     "text": [
      "INFO:faster_whisper:Processing audio with duration 00:00.893\n",
      " 88%|████████▊ | 210/239 [36:29<05:03, 10.48s/it]INFO:faster_whisper:Processing audio with duration 00:00.393\n"
     ]
    },
    {
     "name": "stdout",
     "output_type": "stream",
     "text": [
      "A: 애기하면\n"
     ]
    },
    {
     "name": "stderr",
     "output_type": "stream",
     "text": [
      " 88%|████████▊ | 211/239 [36:40<05:03, 10.83s/it]"
     ]
    },
    {
     "name": "stdout",
     "output_type": "stream",
     "text": [
      "D: 감사실에 참여해 주셔서 감사합니다\n"
     ]
    },
    {
     "name": "stderr",
     "output_type": "stream",
     "text": [
      "INFO:faster_whisper:Processing audio with duration 00:02.125\n",
      " 89%|████████▊ | 212/239 [36:47<04:19,  9.63s/it]"
     ]
    },
    {
     "name": "stdout",
     "output_type": "stream",
     "text": [
      "D: 뭐 이를 들면 눈 필수 안 나와요\n"
     ]
    },
    {
     "name": "stderr",
     "output_type": "stream",
     "text": [
      "INFO:faster_whisper:Processing audio with duration 00:00.487\n",
      " 89%|████████▉ | 213/239 [37:01<04:39, 10.77s/it]"
     ]
    },
    {
     "name": "stdout",
     "output_type": "stream",
     "text": [
      "A: 홍보된다고 말했다\n"
     ]
    },
    {
     "name": "stderr",
     "output_type": "stream",
     "text": [
      "INFO:faster_whisper:Processing audio with duration 00:00.607\n",
      " 90%|████████▉ | 214/239 [37:11<04:27, 10.70s/it]INFO:faster_whisper:Processing audio with duration 00:01.097\n"
     ]
    },
    {
     "name": "stdout",
     "output_type": "stream",
     "text": [
      "A: 오오호의 아름다운 것 같았다\n"
     ]
    },
    {
     "name": "stderr",
     "output_type": "stream",
     "text": [
      " 90%|████████▉ | 215/239 [37:21<04:11, 10.48s/it]"
     ]
    },
    {
     "name": "stdout",
     "output_type": "stream",
     "text": [
      "A: 저씨는 이 논의에 의견을 갖추고 있다\n"
     ]
    },
    {
     "name": "stderr",
     "output_type": "stream",
     "text": [
      "INFO:faster_whisper:Processing audio with duration 00:00.404\n",
      " 90%|█████████ | 216/239 [37:32<04:00, 10.47s/it]"
     ]
    },
    {
     "name": "stdout",
     "output_type": "stream",
     "text": [
      "A: 시오파\n"
     ]
    },
    {
     "name": "stderr",
     "output_type": "stream",
     "text": [
      "INFO:faster_whisper:Processing audio with duration 00:00.340\n",
      " 91%|█████████ | 217/239 [37:43<03:55, 10.72s/it]"
     ]
    },
    {
     "name": "stdout",
     "output_type": "stream",
     "text": [
      "A: 저씨의 주인공을 받았을 때까지 받았다\n"
     ]
    },
    {
     "name": "stderr",
     "output_type": "stream",
     "text": [
      "INFO:faster_whisper:Processing audio with duration 00:00.361\n",
      " 91%|█████████ | 218/239 [37:56<04:01, 11.50s/it]"
     ]
    },
    {
     "name": "stdout",
     "output_type": "stream",
     "text": [
      "E: 홍보명의 주인공 및 자막 제공 및 광고를 포기한다\n"
     ]
    },
    {
     "name": "stderr",
     "output_type": "stream",
     "text": [
      "INFO:faster_whisper:Processing audio with duration 00:00.351\n",
      " 92%|█████████▏| 219/239 [38:13<04:20, 13.04s/it]"
     ]
    },
    {
     "name": "stdout",
     "output_type": "stream",
     "text": [
      "A: 그런데 이 논간은 이 논간의 논간을 제시했다\n"
     ]
    },
    {
     "name": "stderr",
     "output_type": "stream",
     "text": [
      "INFO:faster_whisper:Processing audio with duration 00:00.375\n",
      " 92%|█████████▏| 220/239 [38:30<04:32, 14.35s/it]"
     ]
    },
    {
     "name": "stdout",
     "output_type": "stream",
     "text": [
      "A: 일본의 자리에 의혹의 자리에 의혹되고 있다\n"
     ]
    },
    {
     "name": "stderr",
     "output_type": "stream",
     "text": [
      "INFO:faster_whisper:Processing audio with duration 00:00.370\n",
      " 92%|█████████▏| 221/239 [38:47<04:32, 15.14s/it]"
     ]
    },
    {
     "name": "stdout",
     "output_type": "stream",
     "text": [
      "D: 홍병\n"
     ]
    },
    {
     "name": "stderr",
     "output_type": "stream",
     "text": [
      "INFO:faster_whisper:Processing audio with duration 00:00.817\n",
      " 93%|█████████▎| 222/239 [38:56<03:44, 13.19s/it]"
     ]
    },
    {
     "name": "stdout",
     "output_type": "stream",
     "text": [
      "D: 우리가 뭐가\n"
     ]
    },
    {
     "name": "stderr",
     "output_type": "stream",
     "text": [
      "INFO:faster_whisper:Processing audio with duration 00:00.500\n",
      " 93%|█████████▎| 223/239 [39:10<03:34, 13.42s/it]"
     ]
    },
    {
     "name": "stdout",
     "output_type": "stream",
     "text": [
      "A: 제도다\n"
     ]
    },
    {
     "name": "stderr",
     "output_type": "stream",
     "text": [
      "INFO:faster_whisper:Processing audio with duration 00:00.625\n",
      " 94%|█████████▎| 224/239 [39:19<03:02, 12.15s/it]"
     ]
    },
    {
     "name": "stdout",
     "output_type": "stream",
     "text": [
      "D: 저씨는 벌써 산다기보다\n"
     ]
    },
    {
     "name": "stderr",
     "output_type": "stream",
     "text": [
      "INFO:faster_whisper:Processing audio with duration 00:00.376\n",
      " 94%|█████████▍| 225/239 [39:31<02:49, 12.10s/it]"
     ]
    },
    {
     "name": "stdout",
     "output_type": "stream",
     "text": [
      "A: 일본의 자리에 대해 설명드리고 싶은데 이 자리에 대해 설명드리고 싶은데 이 자리에 대해 설명드리고 싶습니다\n"
     ]
    },
    {
     "name": "stderr",
     "output_type": "stream",
     "text": [
      "INFO:faster_whisper:Processing audio with duration 00:00.372\n",
      " 95%|█████████▍| 226/239 [39:49<03:01, 13.99s/it]"
     ]
    },
    {
     "name": "stdout",
     "output_type": "stream",
     "text": [
      "A:  혹은 부터에도 불구하고도 불구하고도 불구하고도 불구하고도 불구하고도 불구하고 있습니다.\n"
     ]
    },
    {
     "name": "stderr",
     "output_type": "stream",
     "text": [
      "INFO:faster_whisper:Processing audio with duration 00:00.625\n",
      " 95%|█████████▍| 227/239 [40:03<02:46, 13.86s/it]"
     ]
    },
    {
     "name": "stdout",
     "output_type": "stream",
     "text": [
      "A: 태계를 갖추고 있다\n"
     ]
    },
    {
     "name": "stderr",
     "output_type": "stream",
     "text": [
      "INFO:faster_whisper:Processing audio with duration 00:00.984\n",
      " 95%|█████████▌| 228/239 [40:14<02:22, 12.93s/it]"
     ]
    },
    {
     "name": "stdout",
     "output_type": "stream",
     "text": [
      "D: 일반적으로는 더욱더 더욱더 더욱더 더욱더 더욱더 더욱더\n"
     ]
    },
    {
     "name": "stderr",
     "output_type": "stream",
     "text": [
      "INFO:faster_whisper:Processing audio with duration 00:01.076\n",
      " 96%|█████████▌| 229/239 [40:23<01:57, 11.76s/it]"
     ]
    },
    {
     "name": "stdout",
     "output_type": "stream",
     "text": [
      "D:  계속 이런 얘기는\n"
     ]
    },
    {
     "name": "stderr",
     "output_type": "stream",
     "text": [
      "INFO:faster_whisper:Processing audio with duration 00:00.831\n",
      " 96%|█████████▌| 230/239 [40:40<02:01, 13.47s/it]"
     ]
    },
    {
     "name": "stdout",
     "output_type": "stream",
     "text": [
      "D: 할 때까지 기다리게 하는 게 아니라\n"
     ]
    },
    {
     "name": "stderr",
     "output_type": "stream",
     "text": [
      "INFO:faster_whisper:Processing audio with duration 00:00.575\n",
      " 97%|█████████▋| 231/239 [40:49<01:36, 12.12s/it]"
     ]
    },
    {
     "name": "stdout",
     "output_type": "stream",
     "text": [
      "D: 계획을 요구하는 사업 계획을 요구하는 사업 계획을 요구하는 사업 계획이다\n"
     ]
    },
    {
     "name": "stderr",
     "output_type": "stream",
     "text": [
      "INFO:faster_whisper:Processing audio with duration 00:00.489\n",
      " 97%|█████████▋| 232/239 [40:58<01:18, 11.25s/it]"
     ]
    },
    {
     "name": "stdout",
     "output_type": "stream",
     "text": [
      "D: 저씨는 이 쩜 이 쩜 이 쩜\n"
     ]
    },
    {
     "name": "stderr",
     "output_type": "stream",
     "text": [
      "INFO:faster_whisper:Processing audio with duration 00:00.361\n",
      " 97%|█████████▋| 233/239 [41:12<01:12, 12.09s/it]"
     ]
    },
    {
     "name": "stdout",
     "output_type": "stream",
     "text": [
      "D: 일본의 자리에 대해 설명해 주셔서 감사합니다\n"
     ]
    },
    {
     "name": "stderr",
     "output_type": "stream",
     "text": [
      "INFO:faster_whisper:Processing audio with duration 00:00.383\n",
      " 98%|█████████▊| 234/239 [41:33<01:12, 14.53s/it]"
     ]
    },
    {
     "name": "stdout",
     "output_type": "stream",
     "text": [
      "A: 대기자들�� 수학기가 많았다\n"
     ]
    },
    {
     "name": "stderr",
     "output_type": "stream",
     "text": [
      "INFO:faster_whisper:Processing audio with duration 00:00.553\n",
      " 98%|█████████▊| 235/239 [41:52<01:03, 15.94s/it]"
     ]
    },
    {
     "name": "stdout",
     "output_type": "stream",
     "text": [
      "A: 주의한 게\n"
     ]
    },
    {
     "name": "stderr",
     "output_type": "stream",
     "text": [
      "INFO:faster_whisper:Processing audio with duration 00:00.383\n",
      " 99%|█████████▊| 236/239 [42:08<00:47, 15.98s/it]"
     ]
    },
    {
     "name": "stdout",
     "output_type": "stream",
     "text": [
      "D: 홍보된다고 말했다\n"
     ]
    },
    {
     "name": "stderr",
     "output_type": "stream",
     "text": [
      "INFO:faster_whisper:Processing audio with duration 00:00.625\n",
      " 99%|█████████▉| 237/239 [42:19<00:28, 14.42s/it]"
     ]
    },
    {
     "name": "stdout",
     "output_type": "stream",
     "text": [
      "D: 지금이 불닿병이 불닿병이 불닿병이라고 말했다\n"
     ]
    },
    {
     "name": "stderr",
     "output_type": "stream",
     "text": [
      "INFO:faster_whisper:Processing audio with duration 00:00.500\n",
      "100%|█████████▉| 238/239 [42:31<00:13, 13.78s/it]INFO:faster_whisper:Processing audio with duration 00:03.290\n"
     ]
    },
    {
     "name": "stdout",
     "output_type": "stream",
     "text": [
      "A: 현재\n"
     ]
    },
    {
     "name": "stderr",
     "output_type": "stream",
     "text": [
      "100%|██████████| 239/239 [42:41<00:00, 10.72s/it]"
     ]
    },
    {
     "name": "stdout",
     "output_type": "stream",
     "text": [
      "D: 전날 밤샘이 폭동구 예습이관 이 조금\n"
     ]
    },
    {
     "name": "stderr",
     "output_type": "stream",
     "text": [
      "\n"
     ]
    }
   ],
   "source": [
    "from tqdm import tqdm\n",
    "from faster_whisper import WhisperModel\n",
    "import os\n",
    "\n",
    "model = WhisperModel(\"imTak/faster-whisper_Korean_L3turbo\", device=\"cpu\")\n",
    "\n",
    "wav_dir = \"output_segments/\"\n",
    "file_list = sorted(os.listdir(wav_dir))\n",
    "file_list = [os.path.join(wav_dir, file) for file in file_list]\n",
    "\n",
    "Nicknames = ['A', 'B', 'C', 'D', 'E', 'F', 'G', 'H']\n",
    "\n",
    "with open('RESULT_cpu.txt', 'wt', encoding='utf-8') as f:\n",
    "\n",
    "    for file in tqdm(file_list):\n",
    "        \n",
    "        nick = Nicknames[int(file.split('_')[-1][:-4])]\n",
    "        \n",
    "        segments, info = model.transcribe(file, language='ko')\n",
    "        \n",
    "        for segment in segments:\n",
    "            m, s = divmod(segment.start, 60)\n",
    "            time_str = f\"{int(m):02d}:{int(s):02d}\" if m > 0 else f\"{int(s):02d}\"\n",
    "            f.write(f\"[{time_str}] {nick}: {segment.text}\\n\")\n",
    "            print(f\"{nick}: {segment.text}\")\n",
    "    \n",
    "    f.close()"
   ]
  },
  {
   "cell_type": "code",
   "execution_count": null,
   "metadata": {},
   "outputs": [
    {
     "name": "stdout",
     "output_type": "stream",
     "text": [
      "```\n",
      "## topic summary: \n",
      "   1. 홍보 및 일본의 자리에 대한 의혹\n",
      "       * summary: 회의 참여자들이 홍보 및 일본의 자리에 대한 의혹에 대해 토론함\n",
      "       * result: 홍보 및 의혹에 대한 논의가 계속될 것으로 보임\n",
      "       * search: 홍보 및 의혹 관련 사례 연구\n",
      "\n",
      "   2. 저씨의 주장과 의견 제시\n",
      "       * summary: 저씨가 주장하고 의견을 제시하는 내용에 대한 토론\n",
      "       * result: 저씨의 주장이 회의에 영향을 미칠 것으로 예상됨\n",
      "       * search: 저씨의 주장에 대한 추가 정보\n",
      "\n",
      "   3. 홍빛과 홍병에 대한 논의\n",
      "       * summary: 홍빛과 홍병에 대한 토론 및 결론 도출\n",
      "       * result: 홍빛과 홍병에 대한 조치가 필요함\n",
      "       * search: 홍빛 및 홍병 관련 전략\n",
      "\n",
      "## next meeting: 이번주 금요일 오후 2시\n",
      "```\n"
     ]
    }
   ],
   "source": [
    "import os\n",
    "from openai import OpenAI\n",
    "\n",
    "\n",
    "client = OpenAI(\n",
    "    api_key=open('API_KEY.txt', 'r').read()\n",
    ")\n",
    "\n",
    "chat_completion = client.chat.completions.create(\n",
    "    messages=[\n",
    "        { 'role': \"system\", 'content': \"You are a assistant to clarify the meeting in a meeting script.\" },\n",
    "        {\n",
    "            \"role\": \"user\",\n",
    "            \"content\": \n",
    "                f\"\"\"회의 대본 : {open('RESULT_cpu.txt', 'r').read()}\n",
    "                회의 대본은 회의 음성을 텍스트로 변환한 거야. 다음 지침을 따라줘. \n",
    "                    1. 한국어로 요약해줘.         \n",
    "                    2. 회의 대본에서 각 주제별로 요약하고 결론을 자세히 알려줘. 화자는 언급하지 않아도 돼.\n",
    "                    3. 회의 대본에서 더 조사하려는 내용이 있었으면 해당 내용의 검색 키워드를 알려줘.\n",
    "                    4. 회의 내용 중 다음 회의 일정을 언급했다면 미팅 예정일과 시간, 장소를 알려줘.\n",
    "                    5. 아래 출력 형식으로 Markdown code를 작성해줘.\n",
    "                    6. 출력 형식 : '\n",
    "                    (제목2)topic summary: \n",
    "                        1. 주제 1 \n",
    "                            * summry : 회의 내용 요약\n",
    "                            * result : 회의 결론\n",
    "                            * search : (이텔릭체)추가로 조사할 내용에 대한 검색 문장\n",
    "                        2. 주제 2 \n",
    "                            * summary : 회의 내용 요약\n",
    "                            * result : 회의 결론\n",
    "                            * search : (이텔릭체)추가로 조사할 내용에 대한 검색 문장\n",
    "                    (인용)next meeting: (날짜(월/일 or 이번주 금요일), 시간(오전/오후 n시 or 미정), 장소(없을 경우 미정) or 없음\n",
    "                    '\n",
    "                    \"\"\"\n",
    "        }\n",
    "    ],\n",
    "    model=\"gpt-3.5-turbo\",\n",
    "    temperature=0.2,\n",
    ")\n",
    "print(chat_completion.choices[0].message.content)\n",
    "\n"
   ]
  },
  {
   "cell_type": "code",
   "execution_count": null,
   "metadata": {},
   "outputs": [],
   "source": []
  }
 ],
 "metadata": {
  "kernelspec": {
   "display_name": "test",
   "language": "python",
   "name": "python3"
  },
  "language_info": {
   "codemirror_mode": {
    "name": "ipython",
    "version": 3
   },
   "file_extension": ".py",
   "mimetype": "text/x-python",
   "name": "python",
   "nbconvert_exporter": "python",
   "pygments_lexer": "ipython3",
   "version": "3.10.15"
  }
 },
 "nbformat": 4,
 "nbformat_minor": 2
}
